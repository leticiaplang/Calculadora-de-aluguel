{
 "cells": [
  {
   "cell_type": "markdown",
   "id": "8f435532",
   "metadata": {},
   "source": [
    "## Preparing notebook"
   ]
  },
  {
   "cell_type": "code",
   "execution_count": 10,
   "id": "116b24ea",
   "metadata": {},
   "outputs": [],
   "source": [
    "# Imports\n",
    "\n",
    "import pandas as pd\n",
    "from scipy import stats\n",
    "\n",
    "from sklearn.preprocessing import LabelEncoder\n",
    "from sklearn.model_selection import train_test_split\n",
    "from sklearn.preprocessing import RobustScaler\n",
    "from imblearn.over_sampling import SMOTE\n",
    "\n",
    "from sklearn.linear_model import LinearRegression\n",
    "from sklearn.tree import DecisionTreeRegressor\n",
    "from sklearn.svm import SVR\n",
    "from sklearn import linear_model\n",
    "from sklearn.ensemble import RandomForestRegressor\n",
    "from sklearn.datasets import make_regression\n",
    "\n",
    "from sklearn.metrics import r2_score, mean_squared_error, mean_absolute_error"
   ]
  },
  {
   "cell_type": "code",
   "execution_count": 5,
   "id": "9303bad4",
   "metadata": {},
   "outputs": [],
   "source": [
    "# Importing the DF from local machine\n",
    "df = 'df_trt.csv'\n",
    "df = pd.read_csv(df, sep=';')"
   ]
  },
  {
   "cell_type": "code",
   "execution_count": 6,
   "id": "241a4af6",
   "metadata": {},
   "outputs": [
    {
     "data": {
      "text/html": [
       "<div>\n",
       "<style scoped>\n",
       "    .dataframe tbody tr th:only-of-type {\n",
       "        vertical-align: middle;\n",
       "    }\n",
       "\n",
       "    .dataframe tbody tr th {\n",
       "        vertical-align: top;\n",
       "    }\n",
       "\n",
       "    .dataframe thead th {\n",
       "        text-align: right;\n",
       "    }\n",
       "</style>\n",
       "<table border=\"1\" class=\"dataframe\">\n",
       "  <thead>\n",
       "    <tr style=\"text-align: right;\">\n",
       "      <th></th>\n",
       "      <th>Unnamed: 0</th>\n",
       "      <th>area</th>\n",
       "      <th>room</th>\n",
       "      <th>bath</th>\n",
       "      <th>garage</th>\n",
       "      <th>price</th>\n",
       "      <th>properties</th>\n",
       "      <th>zone</th>\n",
       "    </tr>\n",
       "  </thead>\n",
       "  <tbody>\n",
       "    <tr>\n",
       "      <th>0</th>\n",
       "      <td>0</td>\n",
       "      <td>30</td>\n",
       "      <td>0</td>\n",
       "      <td>1</td>\n",
       "      <td>1</td>\n",
       "      <td>1400</td>\n",
       "      <td>comercial</td>\n",
       "      <td>centro</td>\n",
       "    </tr>\n",
       "    <tr>\n",
       "      <th>1</th>\n",
       "      <td>1</td>\n",
       "      <td>30</td>\n",
       "      <td>3</td>\n",
       "      <td>4</td>\n",
       "      <td>1</td>\n",
       "      <td>16000</td>\n",
       "      <td>residencial</td>\n",
       "      <td>leste</td>\n",
       "    </tr>\n",
       "    <tr>\n",
       "      <th>2</th>\n",
       "      <td>2</td>\n",
       "      <td>230</td>\n",
       "      <td>0</td>\n",
       "      <td>1</td>\n",
       "      <td>0</td>\n",
       "      <td>6950</td>\n",
       "      <td>comercial</td>\n",
       "      <td>norte</td>\n",
       "    </tr>\n",
       "    <tr>\n",
       "      <th>3</th>\n",
       "      <td>3</td>\n",
       "      <td>230</td>\n",
       "      <td>3</td>\n",
       "      <td>5</td>\n",
       "      <td>2</td>\n",
       "      <td>9950</td>\n",
       "      <td>residencial</td>\n",
       "      <td>centro</td>\n",
       "    </tr>\n",
       "    <tr>\n",
       "      <th>4</th>\n",
       "      <td>4</td>\n",
       "      <td>80</td>\n",
       "      <td>0</td>\n",
       "      <td>5</td>\n",
       "      <td>1</td>\n",
       "      <td>100</td>\n",
       "      <td>comercial</td>\n",
       "      <td>centro</td>\n",
       "    </tr>\n",
       "  </tbody>\n",
       "</table>\n",
       "</div>"
      ],
      "text/plain": [
       "   Unnamed: 0  area  room  bath  garage  price   properties    zone\n",
       "0           0    30     0     1       1   1400    comercial  centro\n",
       "1           1    30     3     4       1  16000  residencial   leste\n",
       "2           2   230     0     1       0   6950    comercial   norte\n",
       "3           3   230     3     5       2   9950  residencial  centro\n",
       "4           4    80     0     5       1    100    comercial  centro"
      ]
     },
     "execution_count": 6,
     "metadata": {},
     "output_type": "execute_result"
    }
   ],
   "source": [
    "# checking the DF\n",
    "df.head()"
   ]
  },
  {
   "cell_type": "markdown",
   "id": "83c21ceb",
   "metadata": {},
   "source": [
    "## Feature Engineering"
   ]
  },
  {
   "cell_type": "code",
   "execution_count": 7,
   "id": "3cde06b8",
   "metadata": {},
   "outputs": [],
   "source": [
    "# Deleted column Unnamed\n",
    "df.drop(columns='Unnamed: 0', inplace=True)"
   ]
  },
  {
   "cell_type": "code",
   "execution_count": 8,
   "id": "053b7a6c",
   "metadata": {},
   "outputs": [
    {
     "data": {
      "text/html": [
       "<div>\n",
       "<style scoped>\n",
       "    .dataframe tbody tr th:only-of-type {\n",
       "        vertical-align: middle;\n",
       "    }\n",
       "\n",
       "    .dataframe tbody tr th {\n",
       "        vertical-align: top;\n",
       "    }\n",
       "\n",
       "    .dataframe thead th {\n",
       "        text-align: right;\n",
       "    }\n",
       "</style>\n",
       "<table border=\"1\" class=\"dataframe\">\n",
       "  <thead>\n",
       "    <tr style=\"text-align: right;\">\n",
       "      <th></th>\n",
       "      <th>area</th>\n",
       "      <th>room</th>\n",
       "      <th>bath</th>\n",
       "      <th>garage</th>\n",
       "      <th>price</th>\n",
       "      <th>properties</th>\n",
       "      <th>zone</th>\n",
       "    </tr>\n",
       "  </thead>\n",
       "  <tbody>\n",
       "    <tr>\n",
       "      <th>0</th>\n",
       "      <td>30</td>\n",
       "      <td>0</td>\n",
       "      <td>1</td>\n",
       "      <td>1</td>\n",
       "      <td>1400</td>\n",
       "      <td>comercial</td>\n",
       "      <td>centro</td>\n",
       "    </tr>\n",
       "    <tr>\n",
       "      <th>1</th>\n",
       "      <td>30</td>\n",
       "      <td>3</td>\n",
       "      <td>4</td>\n",
       "      <td>1</td>\n",
       "      <td>16000</td>\n",
       "      <td>residencial</td>\n",
       "      <td>leste</td>\n",
       "    </tr>\n",
       "    <tr>\n",
       "      <th>2</th>\n",
       "      <td>230</td>\n",
       "      <td>0</td>\n",
       "      <td>1</td>\n",
       "      <td>0</td>\n",
       "      <td>6950</td>\n",
       "      <td>comercial</td>\n",
       "      <td>norte</td>\n",
       "    </tr>\n",
       "    <tr>\n",
       "      <th>3</th>\n",
       "      <td>230</td>\n",
       "      <td>3</td>\n",
       "      <td>5</td>\n",
       "      <td>2</td>\n",
       "      <td>9950</td>\n",
       "      <td>residencial</td>\n",
       "      <td>centro</td>\n",
       "    </tr>\n",
       "    <tr>\n",
       "      <th>4</th>\n",
       "      <td>80</td>\n",
       "      <td>0</td>\n",
       "      <td>5</td>\n",
       "      <td>1</td>\n",
       "      <td>100</td>\n",
       "      <td>comercial</td>\n",
       "      <td>centro</td>\n",
       "    </tr>\n",
       "  </tbody>\n",
       "</table>\n",
       "</div>"
      ],
      "text/plain": [
       "   area  room  bath  garage  price   properties    zone\n",
       "0    30     0     1       1   1400    comercial  centro\n",
       "1    30     3     4       1  16000  residencial   leste\n",
       "2   230     0     1       0   6950    comercial   norte\n",
       "3   230     3     5       2   9950  residencial  centro\n",
       "4    80     0     5       1    100    comercial  centro"
      ]
     },
     "execution_count": 8,
     "metadata": {},
     "output_type": "execute_result"
    }
   ],
   "source": [
    "# Transforming the properties and zone into label columns\n"
   ]
  },
  {
   "cell_type": "code",
   "execution_count": 11,
   "id": "eeb9ef38",
   "metadata": {},
   "outputs": [],
   "source": [
    "# Label enconding\n",
    "\n",
    "## Variables\n",
    "le = LabelEncoder()\n",
    "\n",
    "## Fit transform | columns properties and zone\n",
    "for c in ['properties', 'zone']:\n",
    "  df[c] = le.fit_transform(df[c])\n"
   ]
  },
  {
   "cell_type": "code",
   "execution_count": 42,
   "id": "b701f826",
   "metadata": {},
   "outputs": [
    {
     "data": {
      "text/html": [
       "<div>\n",
       "<style scoped>\n",
       "    .dataframe tbody tr th:only-of-type {\n",
       "        vertical-align: middle;\n",
       "    }\n",
       "\n",
       "    .dataframe tbody tr th {\n",
       "        vertical-align: top;\n",
       "    }\n",
       "\n",
       "    .dataframe thead th {\n",
       "        text-align: right;\n",
       "    }\n",
       "</style>\n",
       "<table border=\"1\" class=\"dataframe\">\n",
       "  <thead>\n",
       "    <tr style=\"text-align: right;\">\n",
       "      <th></th>\n",
       "      <th>area</th>\n",
       "      <th>room</th>\n",
       "      <th>bath</th>\n",
       "      <th>garage</th>\n",
       "      <th>price</th>\n",
       "      <th>properties</th>\n",
       "      <th>zone</th>\n",
       "    </tr>\n",
       "  </thead>\n",
       "  <tbody>\n",
       "    <tr>\n",
       "      <th>0</th>\n",
       "      <td>30</td>\n",
       "      <td>0</td>\n",
       "      <td>1</td>\n",
       "      <td>1</td>\n",
       "      <td>1400</td>\n",
       "      <td>0</td>\n",
       "      <td>0</td>\n",
       "    </tr>\n",
       "    <tr>\n",
       "      <th>1</th>\n",
       "      <td>30</td>\n",
       "      <td>3</td>\n",
       "      <td>4</td>\n",
       "      <td>1</td>\n",
       "      <td>16000</td>\n",
       "      <td>1</td>\n",
       "      <td>2</td>\n",
       "    </tr>\n",
       "    <tr>\n",
       "      <th>2</th>\n",
       "      <td>230</td>\n",
       "      <td>0</td>\n",
       "      <td>1</td>\n",
       "      <td>0</td>\n",
       "      <td>6950</td>\n",
       "      <td>0</td>\n",
       "      <td>3</td>\n",
       "    </tr>\n",
       "    <tr>\n",
       "      <th>3</th>\n",
       "      <td>230</td>\n",
       "      <td>3</td>\n",
       "      <td>5</td>\n",
       "      <td>2</td>\n",
       "      <td>9950</td>\n",
       "      <td>1</td>\n",
       "      <td>0</td>\n",
       "    </tr>\n",
       "    <tr>\n",
       "      <th>4</th>\n",
       "      <td>80</td>\n",
       "      <td>0</td>\n",
       "      <td>5</td>\n",
       "      <td>1</td>\n",
       "      <td>100</td>\n",
       "      <td>0</td>\n",
       "      <td>0</td>\n",
       "    </tr>\n",
       "  </tbody>\n",
       "</table>\n",
       "</div>"
      ],
      "text/plain": [
       "   area  room  bath  garage  price  properties  zone\n",
       "0    30     0     1       1   1400           0     0\n",
       "1    30     3     4       1  16000           1     2\n",
       "2   230     0     1       0   6950           0     3\n",
       "3   230     3     5       2   9950           1     0\n",
       "4    80     0     5       1    100           0     0"
      ]
     },
     "execution_count": 42,
     "metadata": {},
     "output_type": "execute_result"
    }
   ],
   "source": [
    "df.head()"
   ]
  },
  {
   "cell_type": "markdown",
   "id": "6a1d3ea5",
   "metadata": {},
   "source": [
    "## Algorithm  | Regression Problem"
   ]
  },
  {
   "cell_type": "code",
   "execution_count": 129,
   "id": "c663df75",
   "metadata": {},
   "outputs": [],
   "source": [
    "from sklearn.preprocessing import StandardScaler"
   ]
  },
  {
   "cell_type": "code",
   "execution_count": 98,
   "id": "d82817f1",
   "metadata": {},
   "outputs": [],
   "source": [
    "# Defining function for scenarios\n",
    "\n",
    "def create_scenarios(features, outlier, scalling, rebalance, algorithm):\n",
    "  ''' It combines de list of strings from variables to create \n",
    "  differents scenarios to run de model.\n",
    "  Input: variables separated by coma. Each variable contains a list of strings.\n",
    "        if there are no situation in some variable, insert 'none'. \n",
    "  Output: a variable called 'scenarios' which contains a list of dictionary. '''\n",
    "\n",
    "  # Creating scenarios/combinations\n",
    "  global scenarios \n",
    "  scenarios = []\n",
    "  for f in features:\n",
    "    for o in outlier:\n",
    "      for s in scalling:\n",
    "        for r in rebalance:\n",
    "          for a in algorithm:\n",
    "              scenario = {'features': f,\n",
    "                          'outlier': o, \n",
    "                          'scalling': s,\n",
    "                          'rebalance': r,\n",
    "                          'algorithm': a,\n",
    "                          }\n",
    "              scenarios.append(scenario)\n",
    "  print(f'There are {len(scenarios)} possible scenarios.')"
   ]
  },
  {
   "cell_type": "code",
   "execution_count": 136,
   "id": "8aa6e9f5",
   "metadata": {},
   "outputs": [],
   "source": [
    "# Defining function for feature engineering and algorithms\n",
    "\n",
    "def run_model(df, scenarios, target):\n",
    "  '''\n",
    "  Function to run the scenarios.\n",
    "  Input: dataframe,\n",
    "         variable 'scenarios'\n",
    "  Output: return the scenario and it's metrics.\n",
    "  '''\n",
    "\n",
    "  # Running each scenario\n",
    "  for scenario in scenarios: \n",
    "    print(scenario)\n",
    "    dft = df.copy()\n",
    "    ## Split train & test0\n",
    "    X = dft.drop(columns = target)\n",
    "    y = dft[target]\n",
    "    X_train, X_test, y_train, y_test = train_test_split(X, y, test_size=0.2)\n",
    "    ## outliers\n",
    "    if scenario['outlier'] == 'none':\n",
    "      pass\n",
    "    #  print('Data without Outliers treatment')\n",
    "    else:\n",
    "        print('Passed the outliers')\n",
    "    ## scalling  \n",
    "    if scenario['scalling'] == 'none':\n",
    "    #  print('Data without scalling treatment')\n",
    "        pass\n",
    "    elif scenario['scalling'] == 'standard':\n",
    "        model = StandardScaler()\n",
    "        model.fit_transform(X_train, y_train)\n",
    "        model.fit_transform(X_test, y_test)\n",
    "        \n",
    "    else:\n",
    "      print('Passed the scalling')\n",
    "    ## rebalance\n",
    "    if scenario['rebalance'] == 'none':\n",
    "    #  print('Data without rebalance')\n",
    "      pass\n",
    "    else:\n",
    "      print('Passed the rebalance')\n",
    "    ## algorithm\n",
    "    if scenario['algorithm'] == 'linear':\n",
    "      model = LinearRegression()\n",
    "      model.fit(X_train, y_train)\n",
    "      y_pred = model.predict(X_test)\n",
    "    #  print('LN')\n",
    "    elif scenario['algorithm'] == 'decision_tree':\n",
    "      model = DecisionTreeRegressor(k_neigh) \n",
    "      model.fit(X_train, y_train)\n",
    "      y_pred = model.predict(X_test)\n",
    "    #  print('DTR')\n",
    "    elif scenario['algorithm'] == 'svr':\n",
    "      model = SVR()\n",
    "      model.fit(X_train, y_train)\n",
    "      y_pred = model.predict(X_test)\n",
    "    #  print('SVR')\n",
    "    elif scenario['algorithm'] == 'lasso':\n",
    "      model = linear_model.Lasso()\n",
    "      model.fit(X_train, y_train)\n",
    "      y_pred = model.predict(X_test)\n",
    "    #  print('Lasso')\n",
    "    else:\n",
    "      print('Passed the algorithm')\n",
    "    global results\n",
    "    results = [{'R2:': r2_score(y_test, y_pred),\n",
    "                'MSE:': mean_squared_error(y_test, y_pred),\n",
    "                'MSRE:': mean_squared_error(y_test, y_pred, squared=False),\n",
    "                'MAE:': mean_absolute_error(y_test, y_pred)}]\n",
    "    print(results)\n",
    "    print('='*40)"
   ]
  },
  {
   "cell_type": "code",
   "execution_count": 131,
   "id": "6b706714",
   "metadata": {},
   "outputs": [],
   "source": [
    "# Defining variables to run scenario function\n",
    "features = ['all']\n",
    "outlier = ['none']\n",
    "scalling = ['none', 'standard']\n",
    "rebalance = ['none']\n",
    "algorithm = ['linear', 'svr', 'lasso'] "
   ]
  },
  {
   "cell_type": "code",
   "execution_count": 132,
   "id": "a16b0990",
   "metadata": {},
   "outputs": [
    {
     "name": "stdout",
     "output_type": "stream",
     "text": [
      "There are 6 possible scenarios.\n"
     ]
    }
   ],
   "source": [
    "# Running scenario function\n",
    "create_scenarios(features, outlier, scalling, rebalance, algorithm)"
   ]
  },
  {
   "cell_type": "code",
   "execution_count": 121,
   "id": "c00f8b8d",
   "metadata": {},
   "outputs": [],
   "source": [
    "# Defining variables to run feature engineering and algorithms function\n",
    "continuous = ['area', 'price']\n",
    "categorical = ['room', 'bath', 'garage', 'zone', 'price']\n",
    "target = ['price'] "
   ]
  },
  {
   "cell_type": "code",
   "execution_count": 137,
   "id": "a6111323",
   "metadata": {},
   "outputs": [
    {
     "name": "stdout",
     "output_type": "stream",
     "text": [
      "{'features': 'all', 'outlier': 'none', 'scalling': 'none', 'rebalance': 'none', 'algorithm': 'linear'}\n",
      "[{'R2:': 0.20456427992492632, 'MSE:': 1537453657.8601656, 'MSRE:': 39210.37691555853, 'MAE:': 15354.286312133152}]\n",
      "========================================\n",
      "{'features': 'all', 'outlier': 'none', 'scalling': 'none', 'rebalance': 'none', 'algorithm': 'svr'}\n"
     ]
    },
    {
     "name": "stderr",
     "output_type": "stream",
     "text": [
      "/Applications/anaconda3/lib/python3.8/site-packages/sklearn/utils/validation.py:993: DataConversionWarning: A column-vector y was passed when a 1d array was expected. Please change the shape of y to (n_samples, ), for example using ravel().\n",
      "  y = column_or_1d(y, warn=True)\n"
     ]
    },
    {
     "name": "stdout",
     "output_type": "stream",
     "text": [
      "[{'R2:': -0.15973242934673126, 'MSE:': 485628557.9447565, 'MSRE:': 22036.981597867627, 'MAE:': 10048.813323716715}]\n",
      "========================================\n",
      "{'features': 'all', 'outlier': 'none', 'scalling': 'none', 'rebalance': 'none', 'algorithm': 'lasso'}\n",
      "[{'R2:': 0.19836031515738495, 'MSE:': 1102470408.1681056, 'MSRE:': 33203.46982121154, 'MAE:': 15083.029540206478}]\n",
      "========================================\n",
      "{'features': 'all', 'outlier': 'none', 'scalling': 'standard', 'rebalance': 'none', 'algorithm': 'linear'}\n",
      "[{'R2:': 0.19667113305871942, 'MSE:': 913198775.3540604, 'MSRE:': 30219.178932493523, 'MAE:': 14268.726256164753}]\n",
      "========================================\n",
      "{'features': 'all', 'outlier': 'none', 'scalling': 'standard', 'rebalance': 'none', 'algorithm': 'svr'}\n"
     ]
    },
    {
     "name": "stderr",
     "output_type": "stream",
     "text": [
      "/Applications/anaconda3/lib/python3.8/site-packages/sklearn/utils/validation.py:993: DataConversionWarning: A column-vector y was passed when a 1d array was expected. Please change the shape of y to (n_samples, ), for example using ravel().\n",
      "  y = column_or_1d(y, warn=True)\n"
     ]
    },
    {
     "name": "stdout",
     "output_type": "stream",
     "text": [
      "[{'R2:': -0.0905897632004895, 'MSE:': 1192223934.5510821, 'MSRE:': 34528.59589602627, 'MAE:': 12326.712762210094}]\n",
      "========================================\n",
      "{'features': 'all', 'outlier': 'none', 'scalling': 'standard', 'rebalance': 'none', 'algorithm': 'lasso'}\n",
      "[{'R2:': 0.3122007832968866, 'MSE:': 944582549.2309554, 'MSRE:': 30734.061710599777, 'MAE:': 14345.373087986623}]\n",
      "========================================\n"
     ]
    }
   ],
   "source": [
    "# Runnig model function\n",
    "run_model(df, scenarios, target)"
   ]
  }
 ],
 "metadata": {
  "kernelspec": {
   "display_name": "Python 3",
   "language": "python",
   "name": "python3"
  },
  "language_info": {
   "codemirror_mode": {
    "name": "ipython",
    "version": 3
   },
   "file_extension": ".py",
   "mimetype": "text/x-python",
   "name": "python",
   "nbconvert_exporter": "python",
   "pygments_lexer": "ipython3",
   "version": "3.8.8"
  }
 },
 "nbformat": 4,
 "nbformat_minor": 5
}
