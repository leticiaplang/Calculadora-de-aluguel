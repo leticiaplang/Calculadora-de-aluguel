{
 "cells": [
  {
   "cell_type": "markdown",
   "id": "8f435532",
   "metadata": {},
   "source": [
    "## Preparing notebook"
   ]
  },
  {
   "cell_type": "code",
   "execution_count": 111,
   "id": "116b24ea",
   "metadata": {},
   "outputs": [],
   "source": [
    "# Imports\n",
    "\n",
    "import pandas as pd\n",
    "from scipy import stats\n",
    "import warnings\n",
    "\n",
    "from sklearn.preprocessing import LabelEncoder\n",
    "from sklearn.model_selection import train_test_split\n",
    "from sklearn.preprocessing import RobustScaler\n",
    "from imblearn.over_sampling import SMOTE\n",
    "from sklearn.preprocessing import StandardScaler\n",
    "\n",
    "from sklearn.linear_model import LinearRegression\n",
    "from sklearn.tree import DecisionTreeRegressor\n",
    "from sklearn.svm import SVR\n",
    "from sklearn import linear_model\n",
    "from sklearn.ensemble import RandomForestRegressor\n",
    "from sklearn.datasets import make_regression\n",
    "\n",
    "from sklearn.metrics import r2_score, mean_squared_error, mean_absolute_error, mean_absolute_percentage_error"
   ]
  },
  {
   "cell_type": "code",
   "execution_count": 56,
   "id": "9303bad4",
   "metadata": {},
   "outputs": [],
   "source": [
    "# Importing the DF from local machine\n",
    "df = 'df_trt.csv'\n",
    "df = pd.read_csv(df, sep=';')"
   ]
  },
  {
   "cell_type": "code",
   "execution_count": 68,
   "id": "0686572a",
   "metadata": {},
   "outputs": [],
   "source": [
    "# Deleting the Unnammed: 0 column\n",
    "df.drop(columns = 'Unnamed: 0', inplace=True)"
   ]
  },
  {
   "cell_type": "code",
   "execution_count": 149,
   "id": "241a4af6",
   "metadata": {},
   "outputs": [
    {
     "data": {
      "text/plain": [
       "(2147, 8)"
      ]
     },
     "execution_count": 149,
     "metadata": {},
     "output_type": "execute_result"
    }
   ],
   "source": [
    "# checking the DF\n",
    "df.shape"
   ]
  },
  {
   "cell_type": "markdown",
   "id": "83c21ceb",
   "metadata": {},
   "source": [
    "## Feature Engineering"
   ]
  },
  {
   "cell_type": "code",
   "execution_count": 59,
   "id": "eeb9ef38",
   "metadata": {},
   "outputs": [],
   "source": [
    "# Label enconding\n",
    "\n",
    "## Variables\n",
    "le = LabelEncoder()\n",
    "\n",
    "## Fit transform | columns properties and zone\n",
    "for c in ['property', 'zone']:\n",
    "  df[c] = le.fit_transform(df[c])\n"
   ]
  },
  {
   "cell_type": "code",
   "execution_count": 70,
   "id": "b701f826",
   "metadata": {},
   "outputs": [
    {
     "data": {
      "text/html": [
       "<div>\n",
       "<style scoped>\n",
       "    .dataframe tbody tr th:only-of-type {\n",
       "        vertical-align: middle;\n",
       "    }\n",
       "\n",
       "    .dataframe tbody tr th {\n",
       "        vertical-align: top;\n",
       "    }\n",
       "\n",
       "    .dataframe thead th {\n",
       "        text-align: right;\n",
       "    }\n",
       "</style>\n",
       "<table border=\"1\" class=\"dataframe\">\n",
       "  <thead>\n",
       "    <tr style=\"text-align: right;\">\n",
       "      <th></th>\n",
       "      <th>area</th>\n",
       "      <th>room</th>\n",
       "      <th>bath</th>\n",
       "      <th>garage</th>\n",
       "      <th>price</th>\n",
       "      <th>ext_area</th>\n",
       "      <th>property</th>\n",
       "      <th>zone</th>\n",
       "    </tr>\n",
       "  </thead>\n",
       "  <tbody>\n",
       "    <tr>\n",
       "      <th>0</th>\n",
       "      <td>30</td>\n",
       "      <td>0</td>\n",
       "      <td>1</td>\n",
       "      <td>1</td>\n",
       "      <td>1400</td>\n",
       "      <td>30</td>\n",
       "      <td>0</td>\n",
       "      <td>2</td>\n",
       "    </tr>\n",
       "    <tr>\n",
       "      <th>1</th>\n",
       "      <td>30</td>\n",
       "      <td>3</td>\n",
       "      <td>4</td>\n",
       "      <td>1</td>\n",
       "      <td>16000</td>\n",
       "      <td>230</td>\n",
       "      <td>1</td>\n",
       "      <td>1</td>\n",
       "    </tr>\n",
       "    <tr>\n",
       "      <th>2</th>\n",
       "      <td>230</td>\n",
       "      <td>0</td>\n",
       "      <td>1</td>\n",
       "      <td>0</td>\n",
       "      <td>6950</td>\n",
       "      <td>80</td>\n",
       "      <td>0</td>\n",
       "      <td>3</td>\n",
       "    </tr>\n",
       "    <tr>\n",
       "      <th>3</th>\n",
       "      <td>230</td>\n",
       "      <td>3</td>\n",
       "      <td>5</td>\n",
       "      <td>2</td>\n",
       "      <td>9950</td>\n",
       "      <td>300</td>\n",
       "      <td>1</td>\n",
       "      <td>2</td>\n",
       "    </tr>\n",
       "    <tr>\n",
       "      <th>4</th>\n",
       "      <td>80</td>\n",
       "      <td>0</td>\n",
       "      <td>5</td>\n",
       "      <td>1</td>\n",
       "      <td>100</td>\n",
       "      <td>350</td>\n",
       "      <td>0</td>\n",
       "      <td>2</td>\n",
       "    </tr>\n",
       "  </tbody>\n",
       "</table>\n",
       "</div>"
      ],
      "text/plain": [
       "   area  room  bath  garage  price  ext_area  property  zone\n",
       "0    30     0     1       1   1400        30         0     2\n",
       "1    30     3     4       1  16000       230         1     1\n",
       "2   230     0     1       0   6950        80         0     3\n",
       "3   230     3     5       2   9950       300         1     2\n",
       "4    80     0     5       1    100       350         0     2"
      ]
     },
     "execution_count": 70,
     "metadata": {},
     "output_type": "execute_result"
    }
   ],
   "source": [
    "df.head()"
   ]
  },
  {
   "cell_type": "markdown",
   "id": "6a1d3ea5",
   "metadata": {},
   "source": [
    "## Algorithm  | Regression Problem"
   ]
  },
  {
   "cell_type": "code",
   "execution_count": 62,
   "id": "d82817f1",
   "metadata": {},
   "outputs": [],
   "source": [
    "# Defining function for scenarios\n",
    "\n",
    "def create_scenarios(features, outlier, scalling, algorithm):\n",
    "  ''' It combines de list of strings from variables to create \n",
    "  differents scenarios to run de model.\n",
    "  Input: variables separated by coma. Each variable contains a list of strings.\n",
    "        if there are no situation in some variable, insert 'none'. \n",
    "  Output: a variable called 'scenarios' which contains a list of dictionary. '''\n",
    "\n",
    "  # Creating scenarios/combinations\n",
    "  global scenarios \n",
    "  scenarios = []\n",
    "  for f in features:\n",
    "    for o in outlier:\n",
    "      for s in scalling:\n",
    "          for a in algorithm:\n",
    "              scenario = {'features': f,\n",
    "                          'outlier': o, \n",
    "                          'scalling': s,\n",
    "                          'algorithm': a,\n",
    "                          }\n",
    "              scenarios.append(scenario)\n",
    "  print(f'There are {len(scenarios)} possible scenarios.')"
   ]
  },
  {
   "cell_type": "code",
   "execution_count": 150,
   "id": "8aa6e9f5",
   "metadata": {},
   "outputs": [],
   "source": [
    "# Defining function for feature engineering and algorithms\n",
    "\n",
    "def run_model(df, scenario, target):\n",
    "  '''\n",
    "  Function to run the scenarios.\n",
    "  Input: dataframe,\n",
    "         variable 'scenarios'\n",
    "  Output: return the scenario and it's metrics.\n",
    "  '''\n",
    "\n",
    "  # Running each scenario\n",
    "  results = []\n",
    "  dft = df\n",
    "    \n",
    "  # Outliers\n",
    "  if scenario['outlier'] == 'none':\n",
    "      pass\n",
    "    \n",
    "  # Scalling\n",
    "  if scenario['scalling'] == 'none':\n",
    "      pass\n",
    "  elif scenario['scalling'] == 'standard':\n",
    "      model = StandardScaler()\n",
    "      model.fit_transform(df[continuous])\n",
    "  elif scenario['scalling'] == 'robust':\n",
    "      model = RobustScaler()\n",
    "      model.fit_transform(df[continuous])\n",
    "\n",
    "  ## Split train & test\n",
    "  X = dft.drop(columns = target)\n",
    "  y = dft[target]\n",
    "  X_train, X_test, y_train, y_test = train_test_split(X, y, test_size=0.2, random_state = 42)\n",
    "    \n",
    "  ## algorithm\n",
    "  if scenario['algorithm'] == 'linear':\n",
    "    model = LinearRegression()\n",
    "    model.fit(X_train, y_train)\n",
    "    y_pred = model.predict(X_test)\n",
    "    \n",
    "  elif scenario['algorithm'] == 'decision_tree':\n",
    "    model = DecisionTreeRegressor(min_samples_leaf=100) \n",
    "    model.fit(X_train, y_train)\n",
    "    y_pred = model.predict(X_test)\n",
    "    \n",
    "  elif scenario['algorithm'] == 'svr':\n",
    "    model = SVR()\n",
    "    model.fit(X_train, y_train)\n",
    "    y_pred = model.predict(X_test)\n",
    "    \n",
    "  elif scenario['algorithm'] == 'lasso':\n",
    "    model = linear_model.Lasso()\n",
    "    model.fit(X_train, y_train)\n",
    "    y_pred = model.predict(X_test)\n",
    "    \n",
    "  results.append({'R2:': r2_score(y_test, y_pred),\n",
    "                  'MSE:': mean_squared_error(y_test, y_pred),\n",
    "                  'MSRE:': mean_squared_error(y_test, y_pred, squared=False),\n",
    "                  'MAE:': mean_absolute_error(y_test, y_pred),\n",
    "                  'MAPE': mean_absolute_percentage_error(y_test, y_pred)})\n",
    "  return results"
   ]
  },
  {
   "cell_type": "code",
   "execution_count": 122,
   "id": "6b706714",
   "metadata": {},
   "outputs": [],
   "source": [
    "# Defining variables to run scenario function\n",
    "features = ['all']\n",
    "outlier = ['none']\n",
    "scalling = ['none', 'standard', 'robust']\n",
    "algorithm = ['linear', 'decision_tree', 'svr', 'lasso'] "
   ]
  },
  {
   "cell_type": "code",
   "execution_count": 123,
   "id": "a16b0990",
   "metadata": {},
   "outputs": [
    {
     "name": "stdout",
     "output_type": "stream",
     "text": [
      "There are 12 possible scenarios.\n"
     ]
    }
   ],
   "source": [
    "# Running scenario function\n",
    "create_scenarios(features, outlier, scalling, algorithm)"
   ]
  },
  {
   "cell_type": "code",
   "execution_count": 90,
   "id": "c00f8b8d",
   "metadata": {},
   "outputs": [],
   "source": [
    "# Defining variables to run feature engineering and algorithms function\n",
    "continuous = ['area', 'ext_area']\n",
    "categorical = ['room', 'bath', 'garage', 'zone', 'property']\n",
    "target = ['price'] "
   ]
  },
  {
   "cell_type": "markdown",
   "id": "c1da4966",
   "metadata": {},
   "source": [
    "## Testing scenarios"
   ]
  },
  {
   "cell_type": "code",
   "execution_count": 124,
   "id": "a6111323",
   "metadata": {},
   "outputs": [
    {
     "name": "stdout",
     "output_type": "stream",
     "text": [
      "{'features': 'all', 'outlier': 'none', 'scalling': 'none', 'algorithm': 'linear'}\n"
     ]
    },
    {
     "data": {
      "text/plain": [
       "[{'R2:': 0.35614203042969284,\n",
       "  'MSE:': 1593662919.0016327,\n",
       "  'MSRE:': 39920.70789705053,\n",
       "  'MAE:': 15657.942185034006,\n",
       "  'MAPE': 2.3086412890363572}]"
      ]
     },
     "execution_count": 124,
     "metadata": {},
     "output_type": "execute_result"
    }
   ],
   "source": [
    "# SCENARIO 0 \n",
    "\n",
    "# defining scenario\n",
    "scenario = scenarios[0]\n",
    "print(scenario)\n",
    "\n",
    "# Runnig model function\n",
    "warnings.filterwarnings(\"ignore\")\n",
    "scen_0 = run_model(df, scenario, target)\n",
    "scen_0"
   ]
  },
  {
   "cell_type": "code",
   "execution_count": 152,
   "id": "b98b6730",
   "metadata": {},
   "outputs": [
    {
     "name": "stdout",
     "output_type": "stream",
     "text": [
      "{'features': 'all', 'outlier': 'none', 'scalling': 'none', 'algorithm': 'decision_tree'}\n"
     ]
    },
    {
     "data": {
      "text/plain": [
       "[{'R2:': 0.2531910461547797,\n",
       "  'MSE:': 1848484904.3894105,\n",
       "  'MSRE:': 42994.010098959254,\n",
       "  'MAE:': 13887.447834636541,\n",
       "  'MAPE': 1.0927100772248888}]"
      ]
     },
     "execution_count": 152,
     "metadata": {},
     "output_type": "execute_result"
    }
   ],
   "source": [
    "# SCENARIO 1\n",
    "\n",
    "# defining scenario\n",
    "scenario = scenarios[1]\n",
    "print(scenario)\n",
    "\n",
    "# Runnig model function\n",
    "warnings.filterwarnings(\"ignore\")\n",
    "scen_1 = run_model(df, scenario, target)\n",
    "scen_1"
   ]
  },
  {
   "cell_type": "code",
   "execution_count": 126,
   "id": "f0d76a1e",
   "metadata": {},
   "outputs": [
    {
     "name": "stdout",
     "output_type": "stream",
     "text": [
      "{'features': 'all', 'outlier': 'none', 'scalling': 'none', 'algorithm': 'svr'}\n"
     ]
    },
    {
     "data": {
      "text/plain": [
       "[{'R2:': -0.08134390873664432,\n",
       "  'MSE:': 2676518380.5862594,\n",
       "  'MSRE:': 51735.078820721435,\n",
       "  'MAE:': 16251.61048948741,\n",
       "  'MAPE': 1.0236373662571732}]"
      ]
     },
     "execution_count": 126,
     "metadata": {},
     "output_type": "execute_result"
    }
   ],
   "source": [
    "# SCENARIO 2 \n",
    "\n",
    "# defining scenario\n",
    "scenario = scenarios[2]\n",
    "print(scenario)\n",
    "\n",
    "# Runnig model function\n",
    "warnings.filterwarnings(\"ignore\")\n",
    "scen_2 = run_model(df, scenario, target)\n",
    "scen_2"
   ]
  },
  {
   "cell_type": "code",
   "execution_count": 127,
   "id": "3e02bf2a",
   "metadata": {},
   "outputs": [
    {
     "name": "stdout",
     "output_type": "stream",
     "text": [
      "{'features': 'all', 'outlier': 'none', 'scalling': 'none', 'algorithm': 'lasso'}\n"
     ]
    },
    {
     "data": {
      "text/plain": [
       "[{'R2:': 0.35612276078945904,\n",
       "  'MSE:': 1593710614.786347,\n",
       "  'MSRE:': 39921.30527408074,\n",
       "  'MAE:': 15657.483825525995,\n",
       "  'MAPE': 2.3082998421390033}]"
      ]
     },
     "execution_count": 127,
     "metadata": {},
     "output_type": "execute_result"
    }
   ],
   "source": [
    "# SCENARIO 3\n",
    "\n",
    "# defining scenario\n",
    "scenario = scenarios[3]\n",
    "print(scenario)\n",
    "\n",
    "# Runnig model function\n",
    "warnings.filterwarnings(\"ignore\")\n",
    "scen_3 = run_model(df, scenario, target)\n",
    "scen_3"
   ]
  },
  {
   "cell_type": "code",
   "execution_count": 128,
   "id": "22024da7",
   "metadata": {},
   "outputs": [
    {
     "name": "stdout",
     "output_type": "stream",
     "text": [
      "{'features': 'all', 'outlier': 'none', 'scalling': 'standard', 'algorithm': 'linear'}\n"
     ]
    },
    {
     "data": {
      "text/plain": [
       "[{'R2:': 0.35614203042969284,\n",
       "  'MSE:': 1593662919.0016327,\n",
       "  'MSRE:': 39920.70789705053,\n",
       "  'MAE:': 15657.942185034006,\n",
       "  'MAPE': 2.3086412890363572}]"
      ]
     },
     "execution_count": 128,
     "metadata": {},
     "output_type": "execute_result"
    }
   ],
   "source": [
    "# SCENARIO 4\n",
    "\n",
    "# defining scenario\n",
    "scenario = scenarios[4]\n",
    "print(scenario)\n",
    "\n",
    "# Runnig model function\n",
    "warnings.filterwarnings(\"ignore\")\n",
    "scen_4 = run_model(df, scenario, target)\n",
    "scen_4"
   ]
  },
  {
   "cell_type": "code",
   "execution_count": 153,
   "id": "701c0b90",
   "metadata": {},
   "outputs": [
    {
     "name": "stdout",
     "output_type": "stream",
     "text": [
      "{'features': 'all', 'outlier': 'none', 'scalling': 'standard', 'algorithm': 'decision_tree'}\n"
     ]
    },
    {
     "data": {
      "text/plain": [
       "[{'R2:': 0.2531910461547797,\n",
       "  'MSE:': 1848484904.3894105,\n",
       "  'MSRE:': 42994.010098959254,\n",
       "  'MAE:': 13887.447834636541,\n",
       "  'MAPE': 1.0927100772248888}]"
      ]
     },
     "execution_count": 153,
     "metadata": {},
     "output_type": "execute_result"
    }
   ],
   "source": [
    "# SCENARIO 5\n",
    "\n",
    "# defining scenario\n",
    "scenario = scenarios[5]\n",
    "print(scenario)\n",
    "\n",
    "# Runnig model function\n",
    "warnings.filterwarnings(\"ignore\")\n",
    "scen_5 = run_model(df, scenario, target)\n",
    "scen_5"
   ]
  },
  {
   "cell_type": "code",
   "execution_count": 130,
   "id": "cd9b63a0",
   "metadata": {},
   "outputs": [
    {
     "name": "stdout",
     "output_type": "stream",
     "text": [
      "{'features': 'all', 'outlier': 'none', 'scalling': 'standard', 'algorithm': 'svr'}\n"
     ]
    },
    {
     "data": {
      "text/plain": [
       "[{'R2:': -0.08134390873664432,\n",
       "  'MSE:': 2676518380.5862594,\n",
       "  'MSRE:': 51735.078820721435,\n",
       "  'MAE:': 16251.61048948741,\n",
       "  'MAPE': 1.0236373662571732}]"
      ]
     },
     "execution_count": 130,
     "metadata": {},
     "output_type": "execute_result"
    }
   ],
   "source": [
    "# SCENARIO 6 \n",
    "\n",
    "# defining scenario\n",
    "scenario = scenarios[6]\n",
    "print(scenario)\n",
    "\n",
    "# Runnig model function\n",
    "warnings.filterwarnings(\"ignore\")\n",
    "scen_6 = run_model(df, scenario, target)\n",
    "scen_6"
   ]
  },
  {
   "cell_type": "code",
   "execution_count": 131,
   "id": "0e3808b7",
   "metadata": {},
   "outputs": [
    {
     "name": "stdout",
     "output_type": "stream",
     "text": [
      "{'features': 'all', 'outlier': 'none', 'scalling': 'standard', 'algorithm': 'lasso'}\n"
     ]
    },
    {
     "data": {
      "text/plain": [
       "[{'R2:': 0.35612276078945904,\n",
       "  'MSE:': 1593710614.786347,\n",
       "  'MSRE:': 39921.30527408074,\n",
       "  'MAE:': 15657.483825525995,\n",
       "  'MAPE': 2.3082998421390033}]"
      ]
     },
     "execution_count": 131,
     "metadata": {},
     "output_type": "execute_result"
    }
   ],
   "source": [
    "# SCENARIO 7\n",
    "\n",
    "# defining scenario\n",
    "scenario = scenarios[7]\n",
    "print(scenario)\n",
    "\n",
    "# Runnig model function\n",
    "warnings.filterwarnings(\"ignore\")\n",
    "scen_7 = run_model(df, scenario, target)\n",
    "scen_7"
   ]
  },
  {
   "cell_type": "code",
   "execution_count": 134,
   "id": "69c392b9",
   "metadata": {},
   "outputs": [
    {
     "name": "stdout",
     "output_type": "stream",
     "text": [
      "{'features': 'all', 'outlier': 'none', 'scalling': 'robust', 'algorithm': 'linear'}\n"
     ]
    },
    {
     "data": {
      "text/plain": [
       "[{'R2:': 0.35614203042969284,\n",
       "  'MSE:': 1593662919.0016327,\n",
       "  'MSRE:': 39920.70789705053,\n",
       "  'MAE:': 15657.942185034006,\n",
       "  'MAPE': 2.3086412890363572}]"
      ]
     },
     "execution_count": 134,
     "metadata": {},
     "output_type": "execute_result"
    }
   ],
   "source": [
    "# SCENARIO 8\n",
    "\n",
    "# defining scenario\n",
    "scenario = scenarios[8]\n",
    "print(scenario)\n",
    "\n",
    "# Runnig model function\n",
    "warnings.filterwarnings(\"ignore\")\n",
    "scen_8 = run_model(df, scenario, target)\n",
    "scen_8"
   ]
  },
  {
   "cell_type": "code",
   "execution_count": 155,
   "id": "a1fb7b8a",
   "metadata": {},
   "outputs": [
    {
     "name": "stdout",
     "output_type": "stream",
     "text": [
      "{'features': 'all', 'outlier': 'none', 'scalling': 'robust', 'algorithm': 'decision_tree'}\n"
     ]
    },
    {
     "data": {
      "text/plain": [
       "[{'R2:': 0.2531910461547797,\n",
       "  'MSE:': 1848484904.3894105,\n",
       "  'MSRE:': 42994.010098959254,\n",
       "  'MAE:': 13887.447834636541,\n",
       "  'MAPE': 1.0927100772248888}]"
      ]
     },
     "execution_count": 155,
     "metadata": {},
     "output_type": "execute_result"
    }
   ],
   "source": [
    "# SCENARIO 9\n",
    "\n",
    "# defining scenario\n",
    "scenario = scenarios[9]\n",
    "print(scenario)\n",
    "\n",
    "# Runnig model function\n",
    "warnings.filterwarnings(\"ignore\")\n",
    "scen_9 = run_model(df, scenario, target)\n",
    "scen_9"
   ]
  },
  {
   "cell_type": "code",
   "execution_count": 154,
   "id": "57df2b60",
   "metadata": {},
   "outputs": [
    {
     "name": "stdout",
     "output_type": "stream",
     "text": [
      "{'features': 'all', 'outlier': 'none', 'scalling': 'robust', 'algorithm': 'svr'}\n"
     ]
    },
    {
     "data": {
      "text/plain": [
       "[{'R2:': -0.08134390873664432,\n",
       "  'MSE:': 2676518380.5862594,\n",
       "  'MSRE:': 51735.078820721435,\n",
       "  'MAE:': 16251.61048948741,\n",
       "  'MAPE': 1.0236373662571732}]"
      ]
     },
     "execution_count": 154,
     "metadata": {},
     "output_type": "execute_result"
    }
   ],
   "source": [
    "# SCENARIO 10\n",
    "\n",
    "# defining scenario\n",
    "scenario = scenarios[10]\n",
    "print(scenario)\n",
    "\n",
    "# Runnig model function\n",
    "warnings.filterwarnings(\"ignore\")\n",
    "scen_10 = run_model(df, scenario, target)\n",
    "scen_10"
   ]
  },
  {
   "cell_type": "code",
   "execution_count": 137,
   "id": "0c869776",
   "metadata": {},
   "outputs": [
    {
     "name": "stdout",
     "output_type": "stream",
     "text": [
      "{'features': 'all', 'outlier': 'none', 'scalling': 'robust', 'algorithm': 'lasso'}\n"
     ]
    },
    {
     "data": {
      "text/plain": [
       "[{'R2:': 0.35612276078945904,\n",
       "  'MSE:': 1593710614.786347,\n",
       "  'MSRE:': 39921.30527408074,\n",
       "  'MAE:': 15657.483825525995,\n",
       "  'MAPE': 2.3082998421390033}]"
      ]
     },
     "execution_count": 137,
     "metadata": {},
     "output_type": "execute_result"
    }
   ],
   "source": [
    "# SCENARIO 11\n",
    "\n",
    "# defining scenario\n",
    "scenario = scenarios[11]\n",
    "print(scenario)\n",
    "\n",
    "# Runnig model function\n",
    "warnings.filterwarnings(\"ignore\")\n",
    "scen_11 = run_model(df, scenario, target)\n",
    "scen_11"
   ]
  },
  {
   "cell_type": "markdown",
   "id": "9ce4a407",
   "metadata": {},
   "source": [
    "## Conclusion\n",
    "\n",
    "The better score in this dataset was a R squared of 0.356 with linear regression, independent of scalling or not. It's a really bad prediction result, onde it's correct only about 36% os the sample. \n",
    "\n",
    "For improvement of the model:\n",
    "* Outliers treatment, although decision tree doesn't have a good performance\n",
    "* Test hyperparameters looking for better fits\n",
    "* Collect more data to get a bigger sample which can represent better the population\n",
    "* Get data from other seasons, which will represent better the year data behavior"
   ]
  },
  {
   "cell_type": "code",
   "execution_count": 146,
   "id": "2e85f1ec",
   "metadata": {},
   "outputs": [
    {
     "name": "stdout",
     "output_type": "stream",
     "text": [
      "{'features': 'all', 'outlier': 'none', 'scalling': 'none', 'algorithm': 'linear'}\n",
      "[{'R2:': 0.35614203042969284, 'MSE:': 1593662919.0016327, 'MSRE:': 39920.70789705053, 'MAE:': 15657.942185034006, 'MAPE': 2.3086412890363572}]\n",
      "------------------------------\n",
      "{'features': 'all', 'outlier': 'none', 'scalling': 'standard', 'algorithm': 'linear'}\n",
      "[{'R2:': 0.35614203042969284, 'MSE:': 1593662919.0016327, 'MSRE:': 39920.70789705053, 'MAE:': 15657.942185034006, 'MAPE': 2.3086412890363572}]\n",
      "------------------------------\n",
      "{'features': 'all', 'outlier': 'none', 'scalling': 'robust', 'algorithm': 'linear'}\n",
      "[{'R2:': 0.35614203042969284, 'MSE:': 1593662919.0016327, 'MSRE:': 39920.70789705053, 'MAE:': 15657.942185034006, 'MAPE': 2.3086412890363572}]\n"
     ]
    }
   ],
   "source": [
    "print(\"{'features': 'all', 'outlier': 'none', 'scalling': 'none', 'algorithm': 'linear'}\")\n",
    "print(scen_0)\n",
    "print('-'*30)\n",
    "print(\"{'features': 'all', 'outlier': 'none', 'scalling': 'standard', 'algorithm': 'linear'}\")\n",
    "print(scen_4)\n",
    "print('-'*30)\n",
    "print(\"{'features': 'all', 'outlier': 'none', 'scalling': 'robust', 'algorithm': 'linear'}\")\n",
    "print(scen_8)"
   ]
  }
 ],
 "metadata": {
  "kernelspec": {
   "display_name": "Python 3",
   "language": "python",
   "name": "python3"
  },
  "language_info": {
   "codemirror_mode": {
    "name": "ipython",
    "version": 3
   },
   "file_extension": ".py",
   "mimetype": "text/x-python",
   "name": "python",
   "nbconvert_exporter": "python",
   "pygments_lexer": "ipython3",
   "version": "3.8.8"
  }
 },
 "nbformat": 4,
 "nbformat_minor": 5
}
