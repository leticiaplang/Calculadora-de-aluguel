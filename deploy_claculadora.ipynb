{
 "cells": [
  {
   "cell_type": "markdown",
   "id": "939d423f",
   "metadata": {},
   "source": [
    "## Preparing the notebook"
   ]
  },
  {
   "cell_type": "code",
   "execution_count": 1,
   "id": "b2b01ee5",
   "metadata": {},
   "outputs": [
    {
     "name": "stdout",
     "output_type": "stream",
     "text": [
      "Requirement already satisfied: category-encoders in /Applications/anaconda3/lib/python3.8/site-packages (2.3.0)\r\n",
      "Requirement already satisfied: statsmodels>=0.9.0 in /Applications/anaconda3/lib/python3.8/site-packages (from category-encoders) (0.12.2)\r\n",
      "Requirement already satisfied: scipy>=1.0.0 in /Applications/anaconda3/lib/python3.8/site-packages (from category-encoders) (1.6.2)\r\n",
      "Requirement already satisfied: scikit-learn>=0.20.0 in /Applications/anaconda3/lib/python3.8/site-packages (from category-encoders) (1.0.2)\r\n",
      "Requirement already satisfied: pandas>=0.21.1 in /Applications/anaconda3/lib/python3.8/site-packages (from category-encoders) (1.2.0)\r\n",
      "Requirement already satisfied: numpy>=1.14.0 in /Applications/anaconda3/lib/python3.8/site-packages (from category-encoders) (1.20.1)\r\n",
      "Requirement already satisfied: patsy>=0.5.1 in /Applications/anaconda3/lib/python3.8/site-packages (from category-encoders) (0.5.1)\r\n",
      "Requirement already satisfied: pytz>=2017.3 in /Applications/anaconda3/lib/python3.8/site-packages (from pandas>=0.21.1->category-encoders) (2021.1)\r\n",
      "Requirement already satisfied: python-dateutil>=2.7.3 in /Applications/anaconda3/lib/python3.8/site-packages (from pandas>=0.21.1->category-encoders) (2.8.1)\r\n",
      "Requirement already satisfied: six in /Applications/anaconda3/lib/python3.8/site-packages (from patsy>=0.5.1->category-encoders) (1.15.0)\r\n",
      "Requirement already satisfied: joblib>=0.11 in /Applications/anaconda3/lib/python3.8/site-packages (from scikit-learn>=0.20.0->category-encoders) (1.0.1)\r\n",
      "Requirement already satisfied: threadpoolctl>=2.0.0 in /Applications/anaconda3/lib/python3.8/site-packages (from scikit-learn>=0.20.0->category-encoders) (2.1.0)\r\n"
     ]
    }
   ],
   "source": [
    "!pip install category-encoders"
   ]
  },
  {
   "cell_type": "code",
   "execution_count": 2,
   "id": "3eea6bfc",
   "metadata": {},
   "outputs": [],
   "source": [
    "# imports\n",
    "import pandas as pd\n",
    "from scipy import stats\n",
    "\n",
    "from category_encoders.ordinal import OrdinalEncoder\n",
    "from sklearn.model_selection import train_test_split\n",
    "from sklearn.preprocessing import RobustScaler\n",
    "from sklearn.preprocessing import StandardScaler\n",
    "\n",
    "from sklearn.linear_model import LinearRegression\n",
    "from sklearn.tree import DecisionTreeRegressor\n",
    "from sklearn.svm import SVR\n",
    "from sklearn import linear_model\n",
    "from sklearn.ensemble import RandomForestRegressor\n",
    "from sklearn.datasets import make_regression\n",
    "\n",
    "from sklearn.metrics import r2_score, mean_squared_error, mean_absolute_error\n",
    "\n",
    "import pickle as pk\n",
    "from sklearn.compose import ColumnTransformer\n",
    "from sklearn.pipeline import Pipeline\n",
    "from sklearn.compose import TransformedTargetRegressor\n",
    "\n",
    "## Scalers in pipeline\n",
    "from sklearn.compose import ColumnTransformer\n",
    "from sklearn.pipeline import Pipeline\n",
    "from sklearn.compose import TransformedTargetRegressor"
   ]
  },
  {
   "cell_type": "markdown",
   "id": "990d8ccf",
   "metadata": {},
   "source": [
    "## ML code"
   ]
  },
  {
   "cell_type": "code",
   "execution_count": 45,
   "id": "731c0cbd",
   "metadata": {},
   "outputs": [],
   "source": [
    "# Importing the DF from local machine\n",
    "df = pd.read_csv('df_trt.csv', sep=';')"
   ]
  },
  {
   "cell_type": "code",
   "execution_count": 46,
   "id": "2d396c24",
   "metadata": {},
   "outputs": [
    {
     "data": {
      "text/html": [
       "<div>\n",
       "<style scoped>\n",
       "    .dataframe tbody tr th:only-of-type {\n",
       "        vertical-align: middle;\n",
       "    }\n",
       "\n",
       "    .dataframe tbody tr th {\n",
       "        vertical-align: top;\n",
       "    }\n",
       "\n",
       "    .dataframe thead th {\n",
       "        text-align: right;\n",
       "    }\n",
       "</style>\n",
       "<table border=\"1\" class=\"dataframe\">\n",
       "  <thead>\n",
       "    <tr style=\"text-align: right;\">\n",
       "      <th></th>\n",
       "      <th>Unnamed: 0</th>\n",
       "      <th>area</th>\n",
       "      <th>room</th>\n",
       "      <th>bath</th>\n",
       "      <th>garage</th>\n",
       "      <th>price</th>\n",
       "      <th>ext_area</th>\n",
       "      <th>property</th>\n",
       "      <th>zone</th>\n",
       "    </tr>\n",
       "  </thead>\n",
       "  <tbody>\n",
       "    <tr>\n",
       "      <th>0</th>\n",
       "      <td>0</td>\n",
       "      <td>30</td>\n",
       "      <td>0</td>\n",
       "      <td>1</td>\n",
       "      <td>1</td>\n",
       "      <td>1400</td>\n",
       "      <td>30</td>\n",
       "      <td>commercial</td>\n",
       "      <td>midtown</td>\n",
       "    </tr>\n",
       "    <tr>\n",
       "      <th>1</th>\n",
       "      <td>1</td>\n",
       "      <td>30</td>\n",
       "      <td>3</td>\n",
       "      <td>4</td>\n",
       "      <td>1</td>\n",
       "      <td>16000</td>\n",
       "      <td>230</td>\n",
       "      <td>residential</td>\n",
       "      <td>east</td>\n",
       "    </tr>\n",
       "    <tr>\n",
       "      <th>2</th>\n",
       "      <td>2</td>\n",
       "      <td>230</td>\n",
       "      <td>0</td>\n",
       "      <td>1</td>\n",
       "      <td>0</td>\n",
       "      <td>6950</td>\n",
       "      <td>80</td>\n",
       "      <td>commercial</td>\n",
       "      <td>north</td>\n",
       "    </tr>\n",
       "    <tr>\n",
       "      <th>3</th>\n",
       "      <td>3</td>\n",
       "      <td>230</td>\n",
       "      <td>3</td>\n",
       "      <td>5</td>\n",
       "      <td>2</td>\n",
       "      <td>9950</td>\n",
       "      <td>300</td>\n",
       "      <td>residential</td>\n",
       "      <td>midtown</td>\n",
       "    </tr>\n",
       "    <tr>\n",
       "      <th>4</th>\n",
       "      <td>4</td>\n",
       "      <td>80</td>\n",
       "      <td>0</td>\n",
       "      <td>5</td>\n",
       "      <td>1</td>\n",
       "      <td>100</td>\n",
       "      <td>350</td>\n",
       "      <td>commercial</td>\n",
       "      <td>midtown</td>\n",
       "    </tr>\n",
       "  </tbody>\n",
       "</table>\n",
       "</div>"
      ],
      "text/plain": [
       "   Unnamed: 0  area  room  bath  garage  price  ext_area     property     zone\n",
       "0           0    30     0     1       1   1400        30   commercial  midtown\n",
       "1           1    30     3     4       1  16000       230  residential     east\n",
       "2           2   230     0     1       0   6950        80   commercial    north\n",
       "3           3   230     3     5       2   9950       300  residential  midtown\n",
       "4           4    80     0     5       1    100       350   commercial  midtown"
      ]
     },
     "execution_count": 46,
     "metadata": {},
     "output_type": "execute_result"
    }
   ],
   "source": [
    "df.head()"
   ]
  },
  {
   "cell_type": "code",
   "execution_count": 73,
   "id": "2fb47b81",
   "metadata": {},
   "outputs": [],
   "source": [
    "df.drop(columns='Unnamed: 0', inplace=True)"
   ]
  },
  {
   "cell_type": "code",
   "execution_count": null,
   "id": "6018e79c",
   "metadata": {},
   "outputs": [],
   "source": [
    "df.drop(columns='area', inplace=True)"
   ]
  },
  {
   "cell_type": "code",
   "execution_count": 102,
   "id": "40dc19ae",
   "metadata": {},
   "outputs": [],
   "source": [
    "df.rename(columns={'ext_area':'area'}, inplace=True)"
   ]
  },
  {
   "cell_type": "markdown",
   "id": "c8b37d5a",
   "metadata": {},
   "source": [
    "## Creating the pipeline"
   ]
  },
  {
   "cell_type": "code",
   "execution_count": 103,
   "id": "117bb179",
   "metadata": {},
   "outputs": [],
   "source": [
    "## Split train & test\n",
    "train, test = train_test_split(df.dropna(), test_size=0.2, random_state=42)\n",
    "X_train, y_train = train.drop(columns=\"price\"), train[\"price\"]\n",
    "X_test, y_test = test.drop(columns=\"price\"), test[\"price\"]"
   ]
  },
  {
   "cell_type": "code",
   "execution_count": 104,
   "id": "f97aabf2",
   "metadata": {},
   "outputs": [
    {
     "data": {
      "text/html": [
       "<div>\n",
       "<style scoped>\n",
       "    .dataframe tbody tr th:only-of-type {\n",
       "        vertical-align: middle;\n",
       "    }\n",
       "\n",
       "    .dataframe tbody tr th {\n",
       "        vertical-align: top;\n",
       "    }\n",
       "\n",
       "    .dataframe thead th {\n",
       "        text-align: right;\n",
       "    }\n",
       "</style>\n",
       "<table border=\"1\" class=\"dataframe\">\n",
       "  <thead>\n",
       "    <tr style=\"text-align: right;\">\n",
       "      <th></th>\n",
       "      <th>room</th>\n",
       "      <th>bath</th>\n",
       "      <th>garage</th>\n",
       "      <th>price</th>\n",
       "      <th>area</th>\n",
       "      <th>property</th>\n",
       "      <th>zone</th>\n",
       "    </tr>\n",
       "  </thead>\n",
       "  <tbody>\n",
       "    <tr>\n",
       "      <th>1433</th>\n",
       "      <td>3</td>\n",
       "      <td>2</td>\n",
       "      <td>2</td>\n",
       "      <td>5500</td>\n",
       "      <td>120</td>\n",
       "      <td>residential</td>\n",
       "      <td>midtown</td>\n",
       "    </tr>\n",
       "    <tr>\n",
       "      <th>630</th>\n",
       "      <td>0</td>\n",
       "      <td>1</td>\n",
       "      <td>0</td>\n",
       "      <td>1150</td>\n",
       "      <td>52</td>\n",
       "      <td>commercial</td>\n",
       "      <td>midtown</td>\n",
       "    </tr>\n",
       "    <tr>\n",
       "      <th>78</th>\n",
       "      <td>1</td>\n",
       "      <td>3</td>\n",
       "      <td>0</td>\n",
       "      <td>7000</td>\n",
       "      <td>166</td>\n",
       "      <td>residential</td>\n",
       "      <td>midtown</td>\n",
       "    </tr>\n",
       "    <tr>\n",
       "      <th>366</th>\n",
       "      <td>4</td>\n",
       "      <td>4</td>\n",
       "      <td>2</td>\n",
       "      <td>7000</td>\n",
       "      <td>140</td>\n",
       "      <td>residential</td>\n",
       "      <td>midtown</td>\n",
       "    </tr>\n",
       "    <tr>\n",
       "      <th>1994</th>\n",
       "      <td>2</td>\n",
       "      <td>2</td>\n",
       "      <td>1</td>\n",
       "      <td>2800</td>\n",
       "      <td>69</td>\n",
       "      <td>residential</td>\n",
       "      <td>midtown</td>\n",
       "    </tr>\n",
       "    <tr>\n",
       "      <th>...</th>\n",
       "      <td>...</td>\n",
       "      <td>...</td>\n",
       "      <td>...</td>\n",
       "      <td>...</td>\n",
       "      <td>...</td>\n",
       "      <td>...</td>\n",
       "      <td>...</td>\n",
       "    </tr>\n",
       "    <tr>\n",
       "      <th>1638</th>\n",
       "      <td>0</td>\n",
       "      <td>1</td>\n",
       "      <td>1</td>\n",
       "      <td>2000</td>\n",
       "      <td>32</td>\n",
       "      <td>commercial</td>\n",
       "      <td>midtown</td>\n",
       "    </tr>\n",
       "    <tr>\n",
       "      <th>1095</th>\n",
       "      <td>0</td>\n",
       "      <td>1</td>\n",
       "      <td>3</td>\n",
       "      <td>2300</td>\n",
       "      <td>82</td>\n",
       "      <td>commercial</td>\n",
       "      <td>continental</td>\n",
       "    </tr>\n",
       "    <tr>\n",
       "      <th>1130</th>\n",
       "      <td>4</td>\n",
       "      <td>5</td>\n",
       "      <td>6</td>\n",
       "      <td>120000</td>\n",
       "      <td>437</td>\n",
       "      <td>residential</td>\n",
       "      <td>north</td>\n",
       "    </tr>\n",
       "    <tr>\n",
       "      <th>1294</th>\n",
       "      <td>0</td>\n",
       "      <td>1</td>\n",
       "      <td>0</td>\n",
       "      <td>1630</td>\n",
       "      <td>126</td>\n",
       "      <td>commercial</td>\n",
       "      <td>continental</td>\n",
       "    </tr>\n",
       "    <tr>\n",
       "      <th>860</th>\n",
       "      <td>4</td>\n",
       "      <td>2</td>\n",
       "      <td>1</td>\n",
       "      <td>2800</td>\n",
       "      <td>182</td>\n",
       "      <td>residential</td>\n",
       "      <td>continental</td>\n",
       "    </tr>\n",
       "  </tbody>\n",
       "</table>\n",
       "<p>1717 rows × 7 columns</p>\n",
       "</div>"
      ],
      "text/plain": [
       "      room  bath  garage   price  area     property         zone\n",
       "1433     3     2       2    5500   120  residential      midtown\n",
       "630      0     1       0    1150    52   commercial      midtown\n",
       "78       1     3       0    7000   166  residential      midtown\n",
       "366      4     4       2    7000   140  residential      midtown\n",
       "1994     2     2       1    2800    69  residential      midtown\n",
       "...    ...   ...     ...     ...   ...          ...          ...\n",
       "1638     0     1       1    2000    32   commercial      midtown\n",
       "1095     0     1       3    2300    82   commercial  continental\n",
       "1130     4     5       6  120000   437  residential        north\n",
       "1294     0     1       0    1630   126   commercial  continental\n",
       "860      4     2       1    2800   182  residential  continental\n",
       "\n",
       "[1717 rows x 7 columns]"
      ]
     },
     "execution_count": 104,
     "metadata": {},
     "output_type": "execute_result"
    }
   ],
   "source": [
    "train"
   ]
  },
  {
   "cell_type": "code",
   "execution_count": 105,
   "id": "d1532f28",
   "metadata": {},
   "outputs": [],
   "source": [
    "# Scalling & encoder\n",
    "standard = StandardScaler()\n",
    "label = OrdinalEncoder()"
   ]
  },
  {
   "cell_type": "code",
   "execution_count": 106,
   "id": "134051e9",
   "metadata": {},
   "outputs": [],
   "source": [
    "# Defining the models used\n",
    "linear = LinearRegression()"
   ]
  },
  {
   "cell_type": "code",
   "execution_count": 107,
   "id": "c8b3b711",
   "metadata": {},
   "outputs": [],
   "source": [
    "# Defining the preprocess\n",
    "preprocess = ColumnTransformer(\n",
    "                [\n",
    "                    ('scalling', standard, ['area']),\n",
    "                    ('encoder', label, ['property', 'zone'])\n",
    "                ], remainder = 'passthrough')\n"
   ]
  },
  {
   "cell_type": "code",
   "execution_count": 108,
   "id": "e4bcf218",
   "metadata": {},
   "outputs": [],
   "source": [
    "# checking the preprocess\n",
    "lr_ft = preprocess.fit_transform(X_train)"
   ]
  },
  {
   "cell_type": "code",
   "execution_count": 109,
   "id": "314f6167",
   "metadata": {},
   "outputs": [],
   "source": [
    "# Defining the models and returning the original scale\n",
    "model = TransformedTargetRegressor(regressor= LinearRegression(), transformer= standard) "
   ]
  },
  {
   "cell_type": "code",
   "execution_count": 110,
   "id": "39724fee",
   "metadata": {},
   "outputs": [],
   "source": [
    "# Creating the pipeline\n",
    "pipe = Pipeline([('pre', preprocess), \n",
    "                 ('line', model)\n",
    "                ])"
   ]
  },
  {
   "cell_type": "code",
   "execution_count": 111,
   "id": "7ddb29d0",
   "metadata": {
    "scrolled": true
   },
   "outputs": [
    {
     "data": {
      "text/plain": [
       "Pipeline(steps=[('pre',\n",
       "                 ColumnTransformer(remainder='passthrough',\n",
       "                                   transformers=[('scalling', StandardScaler(),\n",
       "                                                  ['area']),\n",
       "                                                 ('encoder', OrdinalEncoder(),\n",
       "                                                  ['property', 'zone'])])),\n",
       "                ('line',\n",
       "                 TransformedTargetRegressor(regressor=LinearRegression(),\n",
       "                                            transformer=StandardScaler()))])"
      ]
     },
     "execution_count": 111,
     "metadata": {},
     "output_type": "execute_result"
    }
   ],
   "source": [
    "# Fitting the train\n",
    "pipe.fit(X_train, y_train)"
   ]
  },
  {
   "cell_type": "code",
   "execution_count": 112,
   "id": "05dbfa11",
   "metadata": {},
   "outputs": [],
   "source": [
    "y_pred_train = pipe.predict(X_train)"
   ]
  },
  {
   "cell_type": "code",
   "execution_count": 113,
   "id": "5c64d2ef",
   "metadata": {},
   "outputs": [
    {
     "data": {
      "text/plain": [
       "array([15201.49606091,  1958.00323176, 12406.78409954, ...,\n",
       "       43373.03293458,  5442.42237398, 24355.33281683])"
      ]
     },
     "execution_count": 113,
     "metadata": {},
     "output_type": "execute_result"
    }
   ],
   "source": [
    "y_pred_train"
   ]
  },
  {
   "cell_type": "markdown",
   "id": "14312821",
   "metadata": {},
   "source": [
    "## Creating pickles"
   ]
  },
  {
   "cell_type": "code",
   "execution_count": 114,
   "id": "6d2ed45e",
   "metadata": {},
   "outputs": [],
   "source": [
    "pk.dump(pipe, open('model_pipe.pkl', 'wb'))"
   ]
  },
  {
   "cell_type": "code",
   "execution_count": null,
   "id": "2d562e47",
   "metadata": {},
   "outputs": [],
   "source": []
  }
 ],
 "metadata": {
  "kernelspec": {
   "display_name": "Python 3",
   "language": "python",
   "name": "python3"
  },
  "language_info": {
   "codemirror_mode": {
    "name": "ipython",
    "version": 3
   },
   "file_extension": ".py",
   "mimetype": "text/x-python",
   "name": "python",
   "nbconvert_exporter": "python",
   "pygments_lexer": "ipython3",
   "version": "3.8.8"
  }
 },
 "nbformat": 4,
 "nbformat_minor": 5
}
