{
 "cells": [
  {
   "cell_type": "markdown",
   "id": "c43aaa7d",
   "metadata": {},
   "source": [
    "## Preparing the notebook"
   ]
  },
  {
   "cell_type": "code",
   "execution_count": 1,
   "id": "040ea90f",
   "metadata": {},
   "outputs": [],
   "source": [
    "# Imports\n",
    "import numpy as np\n",
    "import pandas as pd\n",
    "import seaborn as sns\n",
    "import matplotlib.pyplot as plt"
   ]
  },
  {
   "cell_type": "code",
   "execution_count": 2,
   "id": "ea5eec21",
   "metadata": {},
   "outputs": [],
   "source": [
    "# Importing the DF from local machine\n",
    "df = 'df_orig.csv'\n",
    "df = pd.read_csv(df, sep=';')"
   ]
  },
  {
   "cell_type": "markdown",
   "id": "91a9edad",
   "metadata": {},
   "source": [
    "## Exploratory Analysis\n",
    "Important! The summer period has higher prices, resulting in inaccurate year's price predictions.\n",
    "\n",
    "       PORTUGUESE             ENGLISH\n",
    "       'comercial'            office\n",
    "       'casa'                 house\n",
    "       'apartamento'          apartment\n",
    "       'consultorio'          medical office\n",
    "       'deposito'             deposit\n",
    "       'cobertura'            penthouse\n",
    "       'sobrado'              duplex\n",
    "       'edif_comercial'       office building \n",
    "       'kitnet'               studio\n",
    "       'loft'                 loft\n",
    "       'lote'                 lot/land"
   ]
  },
  {
   "cell_type": "code",
   "execution_count": 3,
   "id": "cfa39656",
   "metadata": {},
   "outputs": [
    {
     "name": "stdout",
     "output_type": "stream",
     "text": [
      "<class 'pandas.core.frame.DataFrame'>\n",
      "RangeIndex: 2268 entries, 0 to 2267\n",
      "Data columns (total 8 columns):\n",
      " #   Column      Non-Null Count  Dtype \n",
      "---  ------      --------------  ----- \n",
      " 0   Unnamed: 0  2268 non-null   int64 \n",
      " 1   product     2268 non-null   object\n",
      " 2   area        2268 non-null   object\n",
      " 3   room        2268 non-null   object\n",
      " 4   bath        2268 non-null   object\n",
      " 5   garage      2268 non-null   object\n",
      " 6   adress      2268 non-null   object\n",
      " 7   price       2268 non-null   object\n",
      "dtypes: int64(1), object(7)\n",
      "memory usage: 141.9+ KB\n"
     ]
    }
   ],
   "source": [
    "# analisando tamanhos, itens nulos e types\n",
    "df.info()"
   ]
  },
  {
   "cell_type": "code",
   "execution_count": 4,
   "id": "6790fd91",
   "metadata": {},
   "outputs": [
    {
     "data": {
      "text/html": [
       "<div>\n",
       "<style scoped>\n",
       "    .dataframe tbody tr th:only-of-type {\n",
       "        vertical-align: middle;\n",
       "    }\n",
       "\n",
       "    .dataframe tbody tr th {\n",
       "        vertical-align: top;\n",
       "    }\n",
       "\n",
       "    .dataframe thead th {\n",
       "        text-align: right;\n",
       "    }\n",
       "</style>\n",
       "<table border=\"1\" class=\"dataframe\">\n",
       "  <thead>\n",
       "    <tr style=\"text-align: right;\">\n",
       "      <th></th>\n",
       "      <th>Unnamed: 0</th>\n",
       "      <th>product</th>\n",
       "      <th>area</th>\n",
       "      <th>room</th>\n",
       "      <th>bath</th>\n",
       "      <th>garage</th>\n",
       "      <th>adress</th>\n",
       "      <th>price</th>\n",
       "    </tr>\n",
       "  </thead>\n",
       "  <tbody>\n",
       "    <tr>\n",
       "      <th>0</th>\n",
       "      <td>0</td>\n",
       "      <td>Sala/Conjunto para Aluguel, 30m²</td>\n",
       "      <td>30 m²</td>\n",
       "      <td>-- Quarto</td>\n",
       "      <td>1 Banheiro</td>\n",
       "      <td>1 Vaga</td>\n",
       "      <td>Rua Joe Collaço, 341 - Córrego Grande, Florian...</td>\n",
       "      <td>R$ 1.400 /mês</td>\n",
       "    </tr>\n",
       "    <tr>\n",
       "      <th>1</th>\n",
       "      <td>1</td>\n",
       "      <td>Casa com 3 Quartos para Aluguel, 230m²</td>\n",
       "      <td>30</td>\n",
       "      <td>3 Quartos</td>\n",
       "      <td>4 Banheiros</td>\n",
       "      <td>1 Vaga</td>\n",
       "      <td>Rua João Henrique Gonçalves, 313 - Canto dos A...</td>\n",
       "      <td>R$ 16.000 /mês</td>\n",
       "    </tr>\n",
       "    <tr>\n",
       "      <th>2</th>\n",
       "      <td>2</td>\n",
       "      <td>Ponto comercial/Loja/Box para Aluguel, 80m²</td>\n",
       "      <td>230 m²</td>\n",
       "      <td>-- Quarto</td>\n",
       "      <td>1 Banheiro</td>\n",
       "      <td>-- Vaga</td>\n",
       "      <td>Rua Deputado Paulo Preis, 78 - Jurerê, Florian...</td>\n",
       "      <td>R$ 6.950 /mês</td>\n",
       "    </tr>\n",
       "    <tr>\n",
       "      <th>3</th>\n",
       "      <td>3</td>\n",
       "      <td>Apartamento com 3 Quartos para Aluguel, 300m²</td>\n",
       "      <td>230</td>\n",
       "      <td>3 Quartos</td>\n",
       "      <td>5 Banheiros</td>\n",
       "      <td>2 Vagas</td>\n",
       "      <td>Avenida Governador Irineu Bornhausen, 3690 - B...</td>\n",
       "      <td>R$ 9.950 /mês</td>\n",
       "    </tr>\n",
       "    <tr>\n",
       "      <th>4</th>\n",
       "      <td>4</td>\n",
       "      <td>Consultório para Aluguel, 350m²</td>\n",
       "      <td>80 m²</td>\n",
       "      <td>-- Quarto</td>\n",
       "      <td>5 Banheiros</td>\n",
       "      <td>1 Vaga</td>\n",
       "      <td>Rua Frei Caneca, 490 - Agronômica, Florianópol...</td>\n",
       "      <td>R$ 100 /mês</td>\n",
       "    </tr>\n",
       "  </tbody>\n",
       "</table>\n",
       "</div>"
      ],
      "text/plain": [
       "   Unnamed: 0                                        product    area  \\\n",
       "0           0               Sala/Conjunto para Aluguel, 30m²   30 m²   \n",
       "1           1         Casa com 3 Quartos para Aluguel, 230m²      30   \n",
       "2           2    Ponto comercial/Loja/Box para Aluguel, 80m²  230 m²   \n",
       "3           3  Apartamento com 3 Quartos para Aluguel, 300m²     230   \n",
       "4           4                Consultório para Aluguel, 350m²   80 m²   \n",
       "\n",
       "        room         bath   garage  \\\n",
       "0  -- Quarto   1 Banheiro   1 Vaga   \n",
       "1  3 Quartos  4 Banheiros   1 Vaga   \n",
       "2  -- Quarto   1 Banheiro  -- Vaga   \n",
       "3  3 Quartos  5 Banheiros  2 Vagas   \n",
       "4  -- Quarto  5 Banheiros   1 Vaga   \n",
       "\n",
       "                                              adress           price  \n",
       "0  Rua Joe Collaço, 341 - Córrego Grande, Florian...   R$ 1.400 /mês  \n",
       "1  Rua João Henrique Gonçalves, 313 - Canto dos A...  R$ 16.000 /mês  \n",
       "2  Rua Deputado Paulo Preis, 78 - Jurerê, Florian...   R$ 6.950 /mês  \n",
       "3  Avenida Governador Irineu Bornhausen, 3690 - B...   R$ 9.950 /mês  \n",
       "4  Rua Frei Caneca, 490 - Agronômica, Florianópol...     R$ 100 /mês  "
      ]
     },
     "execution_count": 4,
     "metadata": {},
     "output_type": "execute_result"
    }
   ],
   "source": [
    "# confirmando estrutura do DF\n",
    "df.head()"
   ]
  },
  {
   "cell_type": "code",
   "execution_count": 5,
   "id": "2709290f",
   "metadata": {},
   "outputs": [
    {
     "data": {
      "text/plain": [
       "108"
      ]
     },
     "execution_count": 5,
     "metadata": {},
     "output_type": "execute_result"
    }
   ],
   "source": [
    "# Analisando existência de duplicados\n",
    "df.duplicated().sum()"
   ]
  },
  {
   "cell_type": "code",
   "execution_count": 6,
   "id": "21972cef",
   "metadata": {},
   "outputs": [
    {
     "data": {
      "text/html": [
       "<div>\n",
       "<style scoped>\n",
       "    .dataframe tbody tr th:only-of-type {\n",
       "        vertical-align: middle;\n",
       "    }\n",
       "\n",
       "    .dataframe tbody tr th {\n",
       "        vertical-align: top;\n",
       "    }\n",
       "\n",
       "    .dataframe thead th {\n",
       "        text-align: right;\n",
       "    }\n",
       "</style>\n",
       "<table border=\"1\" class=\"dataframe\">\n",
       "  <thead>\n",
       "    <tr style=\"text-align: right;\">\n",
       "      <th></th>\n",
       "      <th>Unnamed: 0</th>\n",
       "      <th>area</th>\n",
       "      <th>room</th>\n",
       "      <th>bath</th>\n",
       "      <th>garage</th>\n",
       "      <th>adress</th>\n",
       "      <th>price</th>\n",
       "    </tr>\n",
       "    <tr>\n",
       "      <th>product</th>\n",
       "      <th></th>\n",
       "      <th></th>\n",
       "      <th></th>\n",
       "      <th></th>\n",
       "      <th></th>\n",
       "      <th></th>\n",
       "      <th></th>\n",
       "    </tr>\n",
       "  </thead>\n",
       "  <tbody>\n",
       "    <tr>\n",
       "      <th>Apartamento com 2 Quartos para Aluguel, 101m²</th>\n",
       "      <td>2</td>\n",
       "      <td>2</td>\n",
       "      <td>2</td>\n",
       "      <td>2</td>\n",
       "      <td>2</td>\n",
       "      <td>2</td>\n",
       "      <td>2</td>\n",
       "    </tr>\n",
       "    <tr>\n",
       "      <th>Apartamento com 2 Quartos para Aluguel, 62m²</th>\n",
       "      <td>1</td>\n",
       "      <td>1</td>\n",
       "      <td>1</td>\n",
       "      <td>1</td>\n",
       "      <td>1</td>\n",
       "      <td>1</td>\n",
       "      <td>1</td>\n",
       "    </tr>\n",
       "    <tr>\n",
       "      <th>Apartamento com 2 Quartos para Aluguel, 66m²</th>\n",
       "      <td>1</td>\n",
       "      <td>1</td>\n",
       "      <td>1</td>\n",
       "      <td>1</td>\n",
       "      <td>1</td>\n",
       "      <td>1</td>\n",
       "      <td>1</td>\n",
       "    </tr>\n",
       "    <tr>\n",
       "      <th>Apartamento com 2 Quartos para Aluguel, 70m²</th>\n",
       "      <td>4</td>\n",
       "      <td>4</td>\n",
       "      <td>4</td>\n",
       "      <td>4</td>\n",
       "      <td>4</td>\n",
       "      <td>4</td>\n",
       "      <td>4</td>\n",
       "    </tr>\n",
       "    <tr>\n",
       "      <th>Apartamento com 2 Quartos para Aluguel, 71m²</th>\n",
       "      <td>2</td>\n",
       "      <td>2</td>\n",
       "      <td>2</td>\n",
       "      <td>2</td>\n",
       "      <td>2</td>\n",
       "      <td>2</td>\n",
       "      <td>2</td>\n",
       "    </tr>\n",
       "    <tr>\n",
       "      <th>...</th>\n",
       "      <td>...</td>\n",
       "      <td>...</td>\n",
       "      <td>...</td>\n",
       "      <td>...</td>\n",
       "      <td>...</td>\n",
       "      <td>...</td>\n",
       "      <td>...</td>\n",
       "    </tr>\n",
       "    <tr>\n",
       "      <th>Sala/Conjunto para Aluguel, 69m²</th>\n",
       "      <td>2</td>\n",
       "      <td>2</td>\n",
       "      <td>2</td>\n",
       "      <td>2</td>\n",
       "      <td>2</td>\n",
       "      <td>2</td>\n",
       "      <td>2</td>\n",
       "    </tr>\n",
       "    <tr>\n",
       "      <th>Sala/Conjunto para Aluguel, 78m²</th>\n",
       "      <td>2</td>\n",
       "      <td>2</td>\n",
       "      <td>2</td>\n",
       "      <td>2</td>\n",
       "      <td>2</td>\n",
       "      <td>2</td>\n",
       "      <td>2</td>\n",
       "    </tr>\n",
       "    <tr>\n",
       "      <th>Sala/Conjunto para Aluguel, 87m²</th>\n",
       "      <td>2</td>\n",
       "      <td>2</td>\n",
       "      <td>2</td>\n",
       "      <td>2</td>\n",
       "      <td>2</td>\n",
       "      <td>2</td>\n",
       "      <td>2</td>\n",
       "    </tr>\n",
       "    <tr>\n",
       "      <th>Sala/Conjunto para Venda/Aluguel 439m²</th>\n",
       "      <td>2</td>\n",
       "      <td>2</td>\n",
       "      <td>2</td>\n",
       "      <td>2</td>\n",
       "      <td>2</td>\n",
       "      <td>2</td>\n",
       "      <td>2</td>\n",
       "    </tr>\n",
       "    <tr>\n",
       "      <th>Sala/Conjunto para Venda/Aluguel 45m²</th>\n",
       "      <td>2</td>\n",
       "      <td>2</td>\n",
       "      <td>2</td>\n",
       "      <td>2</td>\n",
       "      <td>2</td>\n",
       "      <td>2</td>\n",
       "      <td>2</td>\n",
       "    </tr>\n",
       "  </tbody>\n",
       "</table>\n",
       "<p>68 rows × 7 columns</p>\n",
       "</div>"
      ],
      "text/plain": [
       "                                               Unnamed: 0  area  room  bath  \\\n",
       "product                                                                       \n",
       "Apartamento com 2 Quartos para Aluguel, 101m²           2     2     2     2   \n",
       "Apartamento com 2 Quartos para Aluguel, 62m²            1     1     1     1   \n",
       "Apartamento com 2 Quartos para Aluguel, 66m²            1     1     1     1   \n",
       "Apartamento com 2 Quartos para Aluguel, 70m²            4     4     4     4   \n",
       "Apartamento com 2 Quartos para Aluguel, 71m²            2     2     2     2   \n",
       "...                                                   ...   ...   ...   ...   \n",
       "Sala/Conjunto para Aluguel, 69m²                        2     2     2     2   \n",
       "Sala/Conjunto para Aluguel, 78m²                        2     2     2     2   \n",
       "Sala/Conjunto para Aluguel, 87m²                        2     2     2     2   \n",
       "Sala/Conjunto para Venda/Aluguel 439m²                  2     2     2     2   \n",
       "Sala/Conjunto para Venda/Aluguel 45m²                   2     2     2     2   \n",
       "\n",
       "                                               garage  adress  price  \n",
       "product                                                               \n",
       "Apartamento com 2 Quartos para Aluguel, 101m²       2       2      2  \n",
       "Apartamento com 2 Quartos para Aluguel, 62m²        1       1      1  \n",
       "Apartamento com 2 Quartos para Aluguel, 66m²        1       1      1  \n",
       "Apartamento com 2 Quartos para Aluguel, 70m²        4       4      4  \n",
       "Apartamento com 2 Quartos para Aluguel, 71m²        2       2      2  \n",
       "...                                               ...     ...    ...  \n",
       "Sala/Conjunto para Aluguel, 69m²                    2       2      2  \n",
       "Sala/Conjunto para Aluguel, 78m²                    2       2      2  \n",
       "Sala/Conjunto para Aluguel, 87m²                    2       2      2  \n",
       "Sala/Conjunto para Venda/Aluguel 439m²              2       2      2  \n",
       "Sala/Conjunto para Venda/Aluguel 45m²               2       2      2  \n",
       "\n",
       "[68 rows x 7 columns]"
      ]
     },
     "execution_count": 6,
     "metadata": {},
     "output_type": "execute_result"
    }
   ],
   "source": [
    "# Identificando os itens duplicados\n",
    "df[df.duplicated()].groupby(['product']).count()"
   ]
  },
  {
   "cell_type": "code",
   "execution_count": 7,
   "id": "0b6b274d",
   "metadata": {},
   "outputs": [
    {
     "data": {
      "text/plain": [
       "'Apartamento com 2 Quartos para Aluguel, 101m²'"
      ]
     },
     "execution_count": 7,
     "metadata": {},
     "output_type": "execute_result"
    }
   ],
   "source": [
    "# Acessando primeiro item da series\n",
    "_ = df[df.duplicated()].groupby(['product']).count().index.values\n",
    "_[0]"
   ]
  },
  {
   "cell_type": "code",
   "execution_count": 8,
   "id": "582b0ac8",
   "metadata": {},
   "outputs": [
    {
     "name": "stderr",
     "output_type": "stream",
     "text": [
      "<ipython-input-8-6ec1759d5486>:2: UserWarning: Boolean Series key will be reindexed to match DataFrame index.\n",
      "  df[df.duplicated()][df['product'] == _[0]]\n"
     ]
    },
    {
     "data": {
      "text/html": [
       "<div>\n",
       "<style scoped>\n",
       "    .dataframe tbody tr th:only-of-type {\n",
       "        vertical-align: middle;\n",
       "    }\n",
       "\n",
       "    .dataframe tbody tr th {\n",
       "        vertical-align: top;\n",
       "    }\n",
       "\n",
       "    .dataframe thead th {\n",
       "        text-align: right;\n",
       "    }\n",
       "</style>\n",
       "<table border=\"1\" class=\"dataframe\">\n",
       "  <thead>\n",
       "    <tr style=\"text-align: right;\">\n",
       "      <th></th>\n",
       "      <th>Unnamed: 0</th>\n",
       "      <th>product</th>\n",
       "      <th>area</th>\n",
       "      <th>room</th>\n",
       "      <th>bath</th>\n",
       "      <th>garage</th>\n",
       "      <th>adress</th>\n",
       "      <th>price</th>\n",
       "    </tr>\n",
       "  </thead>\n",
       "  <tbody>\n",
       "    <tr>\n",
       "      <th>860</th>\n",
       "      <td>32</td>\n",
       "      <td>Apartamento com 2 Quartos para Aluguel, 101m²</td>\n",
       "      <td>32 m²</td>\n",
       "      <td>2 Quartos</td>\n",
       "      <td>2 Banheiros</td>\n",
       "      <td>1 Vaga</td>\n",
       "      <td>Avenida Engenheiro Max de Souza, 1370 - Coquei...</td>\n",
       "      <td>R$ 1.450 /mês</td>\n",
       "    </tr>\n",
       "    <tr>\n",
       "      <th>896</th>\n",
       "      <td>32</td>\n",
       "      <td>Apartamento com 2 Quartos para Aluguel, 101m²</td>\n",
       "      <td>32 m²</td>\n",
       "      <td>2 Quartos</td>\n",
       "      <td>2 Banheiros</td>\n",
       "      <td>1 Vaga</td>\n",
       "      <td>Avenida Engenheiro Max de Souza, 1370 - Coquei...</td>\n",
       "      <td>R$ 1.450 /mês</td>\n",
       "    </tr>\n",
       "  </tbody>\n",
       "</table>\n",
       "</div>"
      ],
      "text/plain": [
       "     Unnamed: 0                                        product   area  \\\n",
       "860          32  Apartamento com 2 Quartos para Aluguel, 101m²  32 m²   \n",
       "896          32  Apartamento com 2 Quartos para Aluguel, 101m²  32 m²   \n",
       "\n",
       "          room         bath  garage  \\\n",
       "860  2 Quartos  2 Banheiros  1 Vaga   \n",
       "896  2 Quartos  2 Banheiros  1 Vaga   \n",
       "\n",
       "                                                adress          price  \n",
       "860  Avenida Engenheiro Max de Souza, 1370 - Coquei...  R$ 1.450 /mês  \n",
       "896  Avenida Engenheiro Max de Souza, 1370 - Coquei...  R$ 1.450 /mês  "
      ]
     },
     "execution_count": 8,
     "metadata": {},
     "output_type": "execute_result"
    }
   ],
   "source": [
    "# Confirmando itens duplicados\n",
    "df[df.duplicated()][df['product'] == _[0]]"
   ]
  },
  {
   "cell_type": "code",
   "execution_count": 9,
   "id": "a0b0beec",
   "metadata": {},
   "outputs": [
    {
     "name": "stdout",
     "output_type": "stream",
     "text": [
      "Total de itens do DF = 2268\n",
      "Itens duplicados = 108\n",
      "Total de itens esparados após exclusão = 2160\n",
      "Total de itens após exclusão = 2160\n"
     ]
    }
   ],
   "source": [
    "# Confirmando exclusão\n",
    "total_df = len(df)\n",
    "total_dupl = df.duplicated().sum()\n",
    "total_exp = total_df - total_dupl\n",
    "df = df.drop_duplicates()\n",
    "total_new = len(df)\n",
    "\n",
    "print(f'Total de itens do DF = {total_df}')\n",
    "print(f'Itens duplicados = {total_dupl}')\n",
    "print(f'Total de itens esparados após exclusão = {total_exp}')\n",
    "print(f'Total de itens após exclusão = {total_new}')"
   ]
  },
  {
   "cell_type": "markdown",
   "id": "8689d300",
   "metadata": {},
   "source": [
    "### Data transformations\n",
    "* Transform all data to lowercase\n",
    "* Product - get only the first information\n",
    "* Area -  get only numbers & transform in int\n",
    "* Room - get only numbers & transform in int\n",
    "* Bath - get only numbers & transform in int\n",
    "* garage - get only numbers & transform in int' & insert zero at '--'\n",
    "* adress - get only the district information (second)\n",
    "* price - get only numbers & transform in int & made prices montly rent "
   ]
  },
  {
   "cell_type": "code",
   "execution_count": 10,
   "id": "7839fd63",
   "metadata": {
    "scrolled": true
   },
   "outputs": [
    {
     "data": {
      "text/html": [
       "<div>\n",
       "<style scoped>\n",
       "    .dataframe tbody tr th:only-of-type {\n",
       "        vertical-align: middle;\n",
       "    }\n",
       "\n",
       "    .dataframe tbody tr th {\n",
       "        vertical-align: top;\n",
       "    }\n",
       "\n",
       "    .dataframe thead th {\n",
       "        text-align: right;\n",
       "    }\n",
       "</style>\n",
       "<table border=\"1\" class=\"dataframe\">\n",
       "  <thead>\n",
       "    <tr style=\"text-align: right;\">\n",
       "      <th></th>\n",
       "      <th>Unnamed: 0</th>\n",
       "      <th>product</th>\n",
       "      <th>area</th>\n",
       "      <th>room</th>\n",
       "      <th>bath</th>\n",
       "      <th>garage</th>\n",
       "      <th>adress</th>\n",
       "      <th>price</th>\n",
       "    </tr>\n",
       "  </thead>\n",
       "  <tbody>\n",
       "    <tr>\n",
       "      <th>0</th>\n",
       "      <td>0</td>\n",
       "      <td>Sala/Conjunto para Aluguel, 30m²</td>\n",
       "      <td>30 m²</td>\n",
       "      <td>-- Quarto</td>\n",
       "      <td>1 Banheiro</td>\n",
       "      <td>1 Vaga</td>\n",
       "      <td>Rua Joe Collaço, 341 - Córrego Grande, Florian...</td>\n",
       "      <td>R$ 1.400 /mês</td>\n",
       "    </tr>\n",
       "    <tr>\n",
       "      <th>1</th>\n",
       "      <td>1</td>\n",
       "      <td>Casa com 3 Quartos para Aluguel, 230m²</td>\n",
       "      <td>30</td>\n",
       "      <td>3 Quartos</td>\n",
       "      <td>4 Banheiros</td>\n",
       "      <td>1 Vaga</td>\n",
       "      <td>Rua João Henrique Gonçalves, 313 - Canto dos A...</td>\n",
       "      <td>R$ 16.000 /mês</td>\n",
       "    </tr>\n",
       "    <tr>\n",
       "      <th>2</th>\n",
       "      <td>2</td>\n",
       "      <td>Ponto comercial/Loja/Box para Aluguel, 80m²</td>\n",
       "      <td>230 m²</td>\n",
       "      <td>-- Quarto</td>\n",
       "      <td>1 Banheiro</td>\n",
       "      <td>-- Vaga</td>\n",
       "      <td>Rua Deputado Paulo Preis, 78 - Jurerê, Florian...</td>\n",
       "      <td>R$ 6.950 /mês</td>\n",
       "    </tr>\n",
       "    <tr>\n",
       "      <th>3</th>\n",
       "      <td>3</td>\n",
       "      <td>Apartamento com 3 Quartos para Aluguel, 300m²</td>\n",
       "      <td>230</td>\n",
       "      <td>3 Quartos</td>\n",
       "      <td>5 Banheiros</td>\n",
       "      <td>2 Vagas</td>\n",
       "      <td>Avenida Governador Irineu Bornhausen, 3690 - B...</td>\n",
       "      <td>R$ 9.950 /mês</td>\n",
       "    </tr>\n",
       "    <tr>\n",
       "      <th>4</th>\n",
       "      <td>4</td>\n",
       "      <td>Consultório para Aluguel, 350m²</td>\n",
       "      <td>80 m²</td>\n",
       "      <td>-- Quarto</td>\n",
       "      <td>5 Banheiros</td>\n",
       "      <td>1 Vaga</td>\n",
       "      <td>Rua Frei Caneca, 490 - Agronômica, Florianópol...</td>\n",
       "      <td>R$ 100 /mês</td>\n",
       "    </tr>\n",
       "  </tbody>\n",
       "</table>\n",
       "</div>"
      ],
      "text/plain": [
       "   Unnamed: 0                                        product    area  \\\n",
       "0           0               Sala/Conjunto para Aluguel, 30m²   30 m²   \n",
       "1           1         Casa com 3 Quartos para Aluguel, 230m²      30   \n",
       "2           2    Ponto comercial/Loja/Box para Aluguel, 80m²  230 m²   \n",
       "3           3  Apartamento com 3 Quartos para Aluguel, 300m²     230   \n",
       "4           4                Consultório para Aluguel, 350m²   80 m²   \n",
       "\n",
       "        room         bath   garage  \\\n",
       "0  -- Quarto   1 Banheiro   1 Vaga   \n",
       "1  3 Quartos  4 Banheiros   1 Vaga   \n",
       "2  -- Quarto   1 Banheiro  -- Vaga   \n",
       "3  3 Quartos  5 Banheiros  2 Vagas   \n",
       "4  -- Quarto  5 Banheiros   1 Vaga   \n",
       "\n",
       "                                              adress           price  \n",
       "0  Rua Joe Collaço, 341 - Córrego Grande, Florian...   R$ 1.400 /mês  \n",
       "1  Rua João Henrique Gonçalves, 313 - Canto dos A...  R$ 16.000 /mês  \n",
       "2  Rua Deputado Paulo Preis, 78 - Jurerê, Florian...   R$ 6.950 /mês  \n",
       "3  Avenida Governador Irineu Bornhausen, 3690 - B...   R$ 9.950 /mês  \n",
       "4  Rua Frei Caneca, 490 - Agronômica, Florianópol...     R$ 100 /mês  "
      ]
     },
     "execution_count": 10,
     "metadata": {},
     "output_type": "execute_result"
    }
   ],
   "source": [
    "df.head()"
   ]
  },
  {
   "cell_type": "code",
   "execution_count": 11,
   "id": "c156ea3d",
   "metadata": {},
   "outputs": [],
   "source": [
    "# Lowercase & split data\n",
    "df['product'] = [n.split(' ')[0].lower() for n in df['product']]"
   ]
  },
  {
   "cell_type": "code",
   "execution_count": 12,
   "id": "c096ccba",
   "metadata": {},
   "outputs": [],
   "source": [
    "# Lowercase & split data\n",
    "df['area'] = [int(n.split()[0]) for n in df['area']]"
   ]
  },
  {
   "cell_type": "code",
   "execution_count": 13,
   "id": "95880dce",
   "metadata": {},
   "outputs": [],
   "source": [
    "# Replacing -- for zero & split data\n",
    "df['room'] = [int(n.strip().replace('--', '0')[0]) for n in df['room']]"
   ]
  },
  {
   "cell_type": "code",
   "execution_count": 14,
   "id": "7c07e7dd",
   "metadata": {},
   "outputs": [],
   "source": [
    "# Replacing -- for zero & split data\n",
    "df['bath']= [int(n.strip().replace('-', '0')[0]) for n in df['bath']]"
   ]
  },
  {
   "cell_type": "code",
   "execution_count": 15,
   "id": "cbb431ec",
   "metadata": {},
   "outputs": [],
   "source": [
    "# Replacing -- for zero & split data\n",
    "df['garage'] = [int(n.strip().replace('-', '0')[0]) for n in df['garage']]"
   ]
  },
  {
   "cell_type": "code",
   "execution_count": 16,
   "id": "7a55cd3a",
   "metadata": {},
   "outputs": [],
   "source": [
    "# Lowercase & split data\n",
    "df['adress'] = [(n.split('-')[-2]).split(',')[-2].strip().lower() for n in df['adress']]"
   ]
  },
  {
   "cell_type": "code",
   "execution_count": 17,
   "id": "652f9f21",
   "metadata": {},
   "outputs": [],
   "source": [
    "# Split data & replacing . for space\n",
    "df['period'] = [n.split('/')[1][:3].strip() for n in df['price']]\n",
    "df['price'] = [int(n.split(' ')[1].replace('.', '').strip()) for n in df['price']]"
   ]
  },
  {
   "cell_type": "code",
   "execution_count": 18,
   "id": "3ec33175",
   "metadata": {},
   "outputs": [],
   "source": [
    "# Removing special characters\n",
    "df['product'] = df['product'].str.normalize('NFKD').str.encode('ascii', errors='ignore').str.decode('utf-8')\n",
    "df['adress'] = df['adress'].str.normalize('NFKD').str.encode('ascii', errors='ignore').str.decode('utf-8')"
   ]
  },
  {
   "cell_type": "code",
   "execution_count": 19,
   "id": "f012e60b",
   "metadata": {},
   "outputs": [
    {
     "data": {
      "text/plain": [
       "array(['sala/conjunto', 'casa', 'ponto', 'apartamento', 'consultorio',\n",
       "       'galpao/deposito/armazem', 'cobertura', 'sobrado', 'imovel',\n",
       "       'predio/edificio', 'kitnet/conjugado', 'loft', 'lote/terreno'],\n",
       "      dtype=object)"
      ]
     },
     "execution_count": 19,
     "metadata": {},
     "output_type": "execute_result"
    }
   ],
   "source": [
    "# Checking the products\n",
    "df['product'].unique()"
   ]
  },
  {
   "cell_type": "code",
   "execution_count": 20,
   "id": "5918c034",
   "metadata": {},
   "outputs": [],
   "source": [
    "# Grouping the products \n",
    "df = df.replace('sala/conjunto', 'comercial').replace('ponto', 'comercial')\n",
    "df = df.replace('imovel', 'comercial').replace('predio/edificio', 'edif_comercial')\n",
    "df = df.replace('galpao/deposito/armazem', 'deposito').replace('kitnet/conjugado', 'kitnet')\n",
    "df = df.replace('lote/terreno', 'lote')"
   ]
  },
  {
   "cell_type": "code",
   "execution_count": 21,
   "id": "6d64f3b2",
   "metadata": {},
   "outputs": [
    {
     "data": {
      "text/plain": [
       "array(['comercial', 'casa', 'apartamento', 'consultorio', 'deposito',\n",
       "       'cobertura', 'sobrado', 'edif_comercial', 'kitnet', 'loft', 'lote'],\n",
       "      dtype=object)"
      ]
     },
     "execution_count": 21,
     "metadata": {},
     "output_type": "execute_result"
    }
   ],
   "source": [
    "# Checking the groups\n",
    "df['product'].unique()"
   ]
  },
  {
   "cell_type": "code",
   "execution_count": 22,
   "id": "62421948",
   "metadata": {},
   "outputs": [
    {
     "data": {
      "text/html": [
       "<div>\n",
       "<style scoped>\n",
       "    .dataframe tbody tr th:only-of-type {\n",
       "        vertical-align: middle;\n",
       "    }\n",
       "\n",
       "    .dataframe tbody tr th {\n",
       "        vertical-align: top;\n",
       "    }\n",
       "\n",
       "    .dataframe thead th {\n",
       "        text-align: right;\n",
       "    }\n",
       "</style>\n",
       "<table border=\"1\" class=\"dataframe\">\n",
       "  <thead>\n",
       "    <tr style=\"text-align: right;\">\n",
       "      <th></th>\n",
       "      <th>Unnamed: 0</th>\n",
       "      <th>product</th>\n",
       "      <th>area</th>\n",
       "      <th>room</th>\n",
       "      <th>bath</th>\n",
       "      <th>garage</th>\n",
       "      <th>adress</th>\n",
       "      <th>price</th>\n",
       "      <th>period</th>\n",
       "    </tr>\n",
       "  </thead>\n",
       "  <tbody>\n",
       "    <tr>\n",
       "      <th>0</th>\n",
       "      <td>0</td>\n",
       "      <td>comercial</td>\n",
       "      <td>30</td>\n",
       "      <td>0</td>\n",
       "      <td>1</td>\n",
       "      <td>1</td>\n",
       "      <td>corrego grande</td>\n",
       "      <td>1400</td>\n",
       "      <td>mês</td>\n",
       "    </tr>\n",
       "    <tr>\n",
       "      <th>1</th>\n",
       "      <td>1</td>\n",
       "      <td>casa</td>\n",
       "      <td>30</td>\n",
       "      <td>3</td>\n",
       "      <td>4</td>\n",
       "      <td>1</td>\n",
       "      <td>canto dos aracas</td>\n",
       "      <td>16000</td>\n",
       "      <td>mês</td>\n",
       "    </tr>\n",
       "    <tr>\n",
       "      <th>2</th>\n",
       "      <td>2</td>\n",
       "      <td>comercial</td>\n",
       "      <td>230</td>\n",
       "      <td>0</td>\n",
       "      <td>1</td>\n",
       "      <td>0</td>\n",
       "      <td>jurere</td>\n",
       "      <td>6950</td>\n",
       "      <td>mês</td>\n",
       "    </tr>\n",
       "    <tr>\n",
       "      <th>3</th>\n",
       "      <td>3</td>\n",
       "      <td>apartamento</td>\n",
       "      <td>230</td>\n",
       "      <td>3</td>\n",
       "      <td>5</td>\n",
       "      <td>2</td>\n",
       "      <td>beira mar</td>\n",
       "      <td>9950</td>\n",
       "      <td>mês</td>\n",
       "    </tr>\n",
       "    <tr>\n",
       "      <th>4</th>\n",
       "      <td>4</td>\n",
       "      <td>consultorio</td>\n",
       "      <td>80</td>\n",
       "      <td>0</td>\n",
       "      <td>5</td>\n",
       "      <td>1</td>\n",
       "      <td>agronomica</td>\n",
       "      <td>100</td>\n",
       "      <td>mês</td>\n",
       "    </tr>\n",
       "  </tbody>\n",
       "</table>\n",
       "</div>"
      ],
      "text/plain": [
       "   Unnamed: 0      product  area  room  bath  garage            adress  price  \\\n",
       "0           0    comercial    30     0     1       1    corrego grande   1400   \n",
       "1           1         casa    30     3     4       1  canto dos aracas  16000   \n",
       "2           2    comercial   230     0     1       0            jurere   6950   \n",
       "3           3  apartamento   230     3     5       2         beira mar   9950   \n",
       "4           4  consultorio    80     0     5       1        agronomica    100   \n",
       "\n",
       "  period  \n",
       "0    mês  \n",
       "1    mês  \n",
       "2    mês  \n",
       "3    mês  \n",
       "4    mês  "
      ]
     },
     "execution_count": 22,
     "metadata": {},
     "output_type": "execute_result"
    }
   ],
   "source": [
    "df.head()"
   ]
  },
  {
   "cell_type": "markdown",
   "id": "eedb07da",
   "metadata": {},
   "source": [
    "### Inconsistents values in price column\n",
    "\n",
    "* Transformation from daily to montly rent"
   ]
  },
  {
   "cell_type": "code",
   "execution_count": 23,
   "id": "1de6e7cf",
   "metadata": {},
   "outputs": [
    {
     "name": "stdout",
     "output_type": "stream",
     "text": [
      "O total de valores diários é 411\n"
     ]
    }
   ],
   "source": [
    "# Selecting period data equal 'dia'\n",
    "day_value = df[df['period']=='dia']\n",
    "print(f'O total de valores diários é {len(day_value)}')"
   ]
  },
  {
   "cell_type": "code",
   "execution_count": 24,
   "id": "813d94da",
   "metadata": {},
   "outputs": [
    {
     "data": {
      "text/plain": [
       "411"
      ]
     },
     "execution_count": 24,
     "metadata": {},
     "output_type": "execute_result"
    }
   ],
   "source": [
    "# checking the correct filter\n",
    "len(df.loc[df.period == 'dia','price'])"
   ]
  },
  {
   "cell_type": "code",
   "execution_count": 25,
   "id": "45e3990a",
   "metadata": {},
   "outputs": [],
   "source": [
    "# transforming values montly (*30days)\n",
    "df.loc[df.period == 'dia','price'] = df.loc[df.period == 'dia','price'] * 30"
   ]
  },
  {
   "cell_type": "code",
   "execution_count": 26,
   "id": "18b8c435",
   "metadata": {},
   "outputs": [
    {
     "name": "stdout",
     "output_type": "stream",
     "text": [
      "<class 'pandas.core.frame.DataFrame'>\n",
      "Int64Index: 2160 entries, 0 to 2267\n",
      "Data columns (total 7 columns):\n",
      " #   Column   Non-Null Count  Dtype \n",
      "---  ------   --------------  ----- \n",
      " 0   product  2160 non-null   object\n",
      " 1   area     2160 non-null   int64 \n",
      " 2   room     2160 non-null   int64 \n",
      " 3   bath     2160 non-null   int64 \n",
      " 4   garage   2160 non-null   int64 \n",
      " 5   adress   2160 non-null   object\n",
      " 6   price    2160 non-null   int64 \n",
      "dtypes: int64(5), object(2)\n",
      "memory usage: 135.0+ KB\n"
     ]
    }
   ],
   "source": [
    "# Deleting period & Unnamed:0 columns\n",
    "df.drop(columns=['period', 'Unnamed: 0'], inplace=True)\n",
    "df.info()"
   ]
  },
  {
   "cell_type": "markdown",
   "id": "eac2f370",
   "metadata": {},
   "source": [
    "### Inconsistents values in adress column\n",
    "\n",
    "* District 'barreiros' and 'campinas' don't found at Florianópolis - deleted 04 items at total"
   ]
  },
  {
   "cell_type": "code",
   "execution_count": 27,
   "id": "ac4649e2",
   "metadata": {},
   "outputs": [
    {
     "name": "stdout",
     "output_type": "stream",
     "text": [
      "apartamento: \n",
      "              area        room        bath      garage          price\n",
      "count   824.000000  824.000000  824.000000  824.000000     824.000000\n",
      "mean    187.569175    2.157767    1.854369    1.126214    7654.103155\n",
      "std     392.900737    0.843451    0.943433    0.676703   11712.167646\n",
      "min       0.000000    0.000000    1.000000    0.000000     650.000000\n",
      "25%      54.000000    2.000000    1.000000    1.000000    1937.500000\n",
      "50%      80.000000    2.000000    2.000000    1.000000    3175.000000\n",
      "75%     158.500000    3.000000    2.000000    1.000000    9000.000000\n",
      "max    5200.000000    4.000000    6.000000    3.000000  150000.000000 \n",
      " \n",
      "cobertura: \n",
      "              area       room       bath     garage         price\n",
      "count    50.000000  50.000000  50.000000  50.000000     50.000000\n",
      "mean    181.920000   2.780000   2.780000   2.020000  14734.800000\n",
      "std     401.962271   0.763718   1.717735   1.059264  10279.730251\n",
      "min      10.000000   1.000000   1.000000   0.000000   1550.000000\n",
      "25%      51.250000   2.000000   2.000000   1.250000   6825.000000\n",
      "50%      77.500000   3.000000   2.000000   2.000000  12375.000000\n",
      "75%     141.500000   3.000000   3.000000   2.000000  19125.000000\n",
      "max    2824.000000   4.000000   7.000000   6.000000  39000.000000 \n",
      " \n",
      "kitnet: \n",
      "             area  room  bath  garage        price\n",
      "count   15.000000  15.0  15.0    15.0    15.000000\n",
      "mean   120.866667   1.0   1.0     0.0  1842.666667\n",
      "std     86.422440   0.0   0.0     0.0  2199.452746\n",
      "min     26.000000   1.0   1.0     0.0   700.000000\n",
      "25%     77.500000   1.0   1.0     0.0   875.000000\n",
      "50%     92.000000   1.0   1.0     0.0  1100.000000\n",
      "75%    125.000000   1.0   1.0     0.0  1375.000000\n",
      "max    315.000000   1.0   1.0     0.0  8250.000000 \n",
      " \n",
      "loft: \n",
      "             area     room      bath   garage       price\n",
      "count    4.000000  4.00000  4.000000  4.00000     4.00000\n",
      "mean   153.000000  1.50000  1.750000  1.50000  5670.75000\n",
      "std    164.978787  0.57735  0.957427  0.57735  2809.12743\n",
      "min     63.000000  1.00000  1.000000  1.00000  1650.00000\n",
      "25%     63.750000  1.00000  1.000000  1.00000  4954.50000\n",
      "50%     74.500000  1.50000  1.500000  1.50000  6466.00000\n",
      "75%    163.750000  2.00000  2.250000  2.00000  7182.25000\n",
      "max    400.000000  2.00000  3.000000  2.00000  8101.00000 \n",
      " \n",
      "casa: \n",
      "              area        room        bath      garage          price\n",
      "count   416.000000  416.000000  416.000000  416.000000     416.000000\n",
      "mean    209.163462    3.850962    3.663462    2.716346   43180.216346\n",
      "std     318.020242    1.604782    1.970190    1.920422   68421.151899\n",
      "min       0.000000    0.000000    1.000000    0.000000     600.000000\n",
      "25%      55.000000    3.000000    2.000000    1.000000    6000.000000\n",
      "50%      90.500000    4.000000    3.000000    2.000000   16000.000000\n",
      "75%     250.000000    5.000000    5.000000    4.000000   54000.000000\n",
      "max    3400.000000    9.000000    9.000000    9.000000  600000.000000\n"
     ]
    }
   ],
   "source": [
    "# Analysing group possibilities to residencial rent\n",
    "\n",
    "resid = ['apartamento', 'cobertura', 'kitnet', 'loft', 'casa']\n",
    "\n",
    "apt = df[df['product']=='apartamento'].describe()\n",
    "cob = df[df['product']=='cobertura'].describe()\n",
    "kit = df[df['product']=='kitnet'].describe()\n",
    "loft = df[df['product']=='loft'].describe()\n",
    "casa = df[df['product']=='casa'].describe()\n",
    "\n",
    "print(f'apartamento: \\n{apt} \\n \\ncobertura: \\n{cob} \\n \\nkitnet: \\n{kit} \\n \\nloft: \\n{loft} \\n \\ncasa: \\n{casa}')"
   ]
  },
  {
   "cell_type": "code",
   "execution_count": 28,
   "id": "f63eb0ee",
   "metadata": {},
   "outputs": [
    {
     "name": "stdout",
     "output_type": "stream",
     "text": [
      "comercial: \n",
      "             area       room        bath      garage          price\n",
      "count   800.00000  800.00000  800.000000  800.000000     800.000000\n",
      "mean    217.23000    0.09000    1.256250    0.863750    7923.126250\n",
      "std     517.16454    0.61634    1.277743    1.447517   23059.949116\n",
      "min       3.00000    0.00000    0.000000    0.000000     200.000000\n",
      "25%      50.00000    0.00000    1.000000    0.000000    1350.000000\n",
      "50%      90.00000    0.00000    1.000000    0.000000    2500.000000\n",
      "75%     200.00000    0.00000    1.000000    1.000000    7000.000000\n",
      "max    5200.00000    8.00000    9.000000    9.000000  388650.000000 \n",
      " \n",
      "edif_comercial: \n",
      "             area       room       bath     garage          price\n",
      "count   21.000000  21.000000  21.000000  21.000000      21.000000\n",
      "mean   159.809524   0.142857   3.000000   2.809524   73623.095238\n",
      "std    132.234118   0.654654   1.923538   2.713283   85370.672766\n",
      "min     30.000000   0.000000   0.000000   0.000000    6000.000000\n",
      "25%     65.000000   0.000000   3.000000   1.000000   22000.000000\n",
      "50%    126.000000   0.000000   3.000000   3.000000   40000.000000\n",
      "75%    234.000000   0.000000   4.000000   4.000000   55000.000000\n",
      "max    480.000000   3.000000   7.000000   9.000000  240000.000000 \n",
      " \n",
      "deposito: \n",
      "              area  room       bath     garage         price\n",
      "count    15.000000  15.0  15.000000  15.000000     15.000000\n",
      "mean    410.333333   0.0   2.666667   1.066667  20126.666667\n",
      "std     756.089627   0.0   1.951800   1.486447  12820.099546\n",
      "min      10.000000   0.0   0.000000   0.000000   3500.000000\n",
      "25%      61.000000   0.0   1.000000   0.000000   9250.000000\n",
      "50%     120.000000   0.0   2.000000   1.000000  20000.000000\n",
      "75%     401.000000   0.0   4.000000   1.000000  25000.000000\n",
      "max    3000.000000   0.0   6.000000   6.000000  44000.000000 \n",
      " \n",
      "consultorio: \n",
      "       area  room  bath  garage  price\n",
      "count   1.0   1.0   1.0     1.0    1.0\n",
      "mean   80.0   0.0   5.0     1.0  100.0\n",
      "std     NaN   NaN   NaN     NaN    NaN\n",
      "min    80.0   0.0   5.0     1.0  100.0\n",
      "25%    80.0   0.0   5.0     1.0  100.0\n",
      "50%    80.0   0.0   5.0     1.0  100.0\n",
      "75%    80.0   0.0   5.0     1.0  100.0\n",
      "max    80.0   0.0   5.0     1.0  100.0 \n"
     ]
    }
   ],
   "source": [
    "# Analysing group possibilities to commercial rent\n",
    "\n",
    "comerc = ['comercial', 'consultorio', 'deposito']\n",
    "\n",
    "com = df[df['product']=='comercial'].describe()\n",
    "con = df[df['product']=='consultorio'].describe()\n",
    "dep = df[df['product']=='deposito'].describe()\n",
    "edif = df[df['product']=='edif_comercial'].describe()\n",
    "\n",
    "print(f'comercial: \\n{com} \\n \\nedif_comercial: \\n{edif} \\n \\ndeposito: \\n{dep} \\n \\nconsultorio: \\n{con} ')"
   ]
  },
  {
   "cell_type": "code",
   "execution_count": 29,
   "id": "3e4ef69e",
   "metadata": {},
   "outputs": [
    {
     "data": {
      "text/html": [
       "<div>\n",
       "<style scoped>\n",
       "    .dataframe tbody tr th:only-of-type {\n",
       "        vertical-align: middle;\n",
       "    }\n",
       "\n",
       "    .dataframe tbody tr th {\n",
       "        vertical-align: top;\n",
       "    }\n",
       "\n",
       "    .dataframe thead th {\n",
       "        text-align: right;\n",
       "    }\n",
       "</style>\n",
       "<table border=\"1\" class=\"dataframe\">\n",
       "  <thead>\n",
       "    <tr style=\"text-align: right;\">\n",
       "      <th></th>\n",
       "      <th>area</th>\n",
       "      <th>room</th>\n",
       "      <th>bath</th>\n",
       "      <th>garage</th>\n",
       "      <th>price</th>\n",
       "    </tr>\n",
       "  </thead>\n",
       "  <tbody>\n",
       "    <tr>\n",
       "      <th>count</th>\n",
       "      <td>9.000000</td>\n",
       "      <td>9.0</td>\n",
       "      <td>9.000000</td>\n",
       "      <td>9.0</td>\n",
       "      <td>9.000000</td>\n",
       "    </tr>\n",
       "    <tr>\n",
       "      <th>mean</th>\n",
       "      <td>80.000000</td>\n",
       "      <td>0.0</td>\n",
       "      <td>0.111111</td>\n",
       "      <td>0.0</td>\n",
       "      <td>7800.000000</td>\n",
       "    </tr>\n",
       "    <tr>\n",
       "      <th>std</th>\n",
       "      <td>31.808018</td>\n",
       "      <td>0.0</td>\n",
       "      <td>0.333333</td>\n",
       "      <td>0.0</td>\n",
       "      <td>6664.082833</td>\n",
       "    </tr>\n",
       "    <tr>\n",
       "      <th>min</th>\n",
       "      <td>35.000000</td>\n",
       "      <td>0.0</td>\n",
       "      <td>0.000000</td>\n",
       "      <td>0.0</td>\n",
       "      <td>1500.000000</td>\n",
       "    </tr>\n",
       "    <tr>\n",
       "      <th>25%</th>\n",
       "      <td>56.000000</td>\n",
       "      <td>0.0</td>\n",
       "      <td>0.000000</td>\n",
       "      <td>0.0</td>\n",
       "      <td>4500.000000</td>\n",
       "    </tr>\n",
       "    <tr>\n",
       "      <th>50%</th>\n",
       "      <td>80.000000</td>\n",
       "      <td>0.0</td>\n",
       "      <td>0.000000</td>\n",
       "      <td>0.0</td>\n",
       "      <td>5500.000000</td>\n",
       "    </tr>\n",
       "    <tr>\n",
       "      <th>75%</th>\n",
       "      <td>94.000000</td>\n",
       "      <td>0.0</td>\n",
       "      <td>0.000000</td>\n",
       "      <td>0.0</td>\n",
       "      <td>8000.000000</td>\n",
       "    </tr>\n",
       "    <tr>\n",
       "      <th>max</th>\n",
       "      <td>140.000000</td>\n",
       "      <td>0.0</td>\n",
       "      <td>1.000000</td>\n",
       "      <td>0.0</td>\n",
       "      <td>20000.000000</td>\n",
       "    </tr>\n",
       "  </tbody>\n",
       "</table>\n",
       "</div>"
      ],
      "text/plain": [
       "             area  room      bath  garage         price\n",
       "count    9.000000   9.0  9.000000     9.0      9.000000\n",
       "mean    80.000000   0.0  0.111111     0.0   7800.000000\n",
       "std     31.808018   0.0  0.333333     0.0   6664.082833\n",
       "min     35.000000   0.0  0.000000     0.0   1500.000000\n",
       "25%     56.000000   0.0  0.000000     0.0   4500.000000\n",
       "50%     80.000000   0.0  0.000000     0.0   5500.000000\n",
       "75%     94.000000   0.0  0.000000     0.0   8000.000000\n",
       "max    140.000000   0.0  1.000000     0.0  20000.000000"
      ]
     },
     "execution_count": 29,
     "metadata": {},
     "output_type": "execute_result"
    }
   ],
   "source": [
    "# Lot/land - It's gonna be deleted because the amount is really small and it can be used for both situations\n",
    "\n",
    "lote = df[df['product']=='lote'].describe()\n",
    "lote"
   ]
  },
  {
   "cell_type": "code",
   "execution_count": 30,
   "id": "3904c856",
   "metadata": {},
   "outputs": [],
   "source": [
    "# Creating a new columns\n",
    "df['properties'] = df['product']"
   ]
  },
  {
   "cell_type": "code",
   "execution_count": 31,
   "id": "c4dbc37a",
   "metadata": {},
   "outputs": [],
   "source": [
    "# Defining the groups variables\n",
    "res = ['apartamento', 'cobertura', 'kitnet', 'loft', 'casa', 'sobrado']\n",
    "com = ['comercial', 'consultorio', 'deposito', 'edif_comercial']\n",
    "excluidos = ['lote']"
   ]
  },
  {
   "cell_type": "code",
   "execution_count": 32,
   "id": "23609804",
   "metadata": {},
   "outputs": [],
   "source": [
    "# Creating the groups\n",
    "df['properties'] = [n.replace(n, 'residencial') if n in res else n for n in df['properties']]\n",
    "df['properties'] = [n.replace(n, 'comercial') if n in com else n for n in df['properties']]"
   ]
  },
  {
   "cell_type": "code",
   "execution_count": 33,
   "id": "f4d24eb2",
   "metadata": {},
   "outputs": [
    {
     "name": "stdout",
     "output_type": "stream",
     "text": [
      "Tamanho do DF atual é de 2160 itens\n",
      "Número total de lotes é 9\n",
      "Tamanho do DF após exclusão dos itens é de 2151\n"
     ]
    }
   ],
   "source": [
    "# Excluded lot/land informations\n",
    "print(f'Tamanho do DF atual é de {len(df)} itens')\n",
    "\n",
    "_ = df[df['properties'].isin(excluidos)]                          \n",
    "print(f'Número total de lotes é {len(_)}')\n",
    "      \n",
    "df = df[~df['properties'].isin(excluidos)]\n",
    "print(f'Tamanho do DF após exclusão dos itens é de {len(df)}')"
   ]
  },
  {
   "cell_type": "markdown",
   "id": "fc37bf78",
   "metadata": {},
   "source": [
    "### Grouping districts into zones (N, S, W, E)\n",
    "\n",
    "* District 'barreiros' and 'campinas' don't found at Florianópolis - deleted 04 items at total"
   ]
  },
  {
   "cell_type": "code",
   "execution_count": 34,
   "id": "aa8e3b4e",
   "metadata": {},
   "outputs": [
    {
     "data": {
      "text/plain": [
       "array(['corrego grande', 'canto dos aracas', 'jurere', 'beira mar',\n",
       "       'agronomica', 'campeche', 'centro', 'trindade', 'joao paulo',\n",
       "       'saco grande', 'itacorubi', 'estreito', 'canasvieiras', 'daniela',\n",
       "       'jardim atlantico', 'capoeiras', 'carvoeira', 'saco dos limoes',\n",
       "       'rio tavares', 'ingleses do rio vermelho', 'pantanal',\n",
       "       'jurere internacional', 'ingleses norte', 'cachoeira do bom jesus',\n",
       "       'ribeirao da ilha', 'santo antonio de lisboa', 'bom abrigo',\n",
       "       'lagoa da conceicao', 'coqueiros', 'lagoinha do norte',\n",
       "       'morro das pedras', 'ponta das canas', 'pantano do sul',\n",
       "       'santa monica', 'barra da lagoa', 'parque sao jorge', 'canto',\n",
       "       'monte verde', 'balneario', 'sao joao do rio vermelho',\n",
       "       'costeira do pirajubae', 'praia dos ingleses', 'cacupe',\n",
       "       'canto da lagoa', 'abraao', 'praia brava', 'monte cristo',\n",
       "       'barreiros', 'vargem grande', 'vargem pequena', 'praia mole',\n",
       "       'itaguacu', 'canajure', 'carianos', 'sambaqui', 'campinas',\n",
       "       'balneario do estreito'], dtype=object)"
      ]
     },
     "execution_count": 34,
     "metadata": {},
     "output_type": "execute_result"
    }
   ],
   "source": [
    "# Checking the columns\n",
    "df['adress'].unique()"
   ]
  },
  {
   "cell_type": "code",
   "execution_count": 35,
   "id": "fbd193a0",
   "metadata": {},
   "outputs": [],
   "source": [
    "# Defining zones and adding the districts\n",
    "norte = ['cacupe', 'santo antonio de lisboa','sambaqui', 'daniela',\n",
    "         'jurere internacional', 'jurere',  'canasvieiras', 'ponta das canas', \n",
    "         'ingleses do rio vermelho', 'lagoinha do norte', 'praia brava', 'ratones', \n",
    "         'vargem pequena', 'cachoeira do bom jesus', 'vargem grande', \n",
    "         'sao joao do rio vermelho', 'ingleses norte', 'praia dos ingleses', 'vagem do bom jesus',\n",
    "         'praia do forte', 'canajure']\n",
    "\n",
    "leste = ['costa da lagoa', 'barra da lagoa', 'lagoa da conceicao', 'praia mole', 'canto dos aracas', 'canto da lagoa']\n",
    "\n",
    "centro = ['corrego grande', 'beira mar', 'agronomica', 'pantanal', 'centro', 'trindade', \n",
    "          'joao paulo', 'saco grande', 'itacorubi', 'pantanal', 'santa monica', 'parque sao jorge',\n",
    "         'monte verde', 'jose mendes', 'centro']\n",
    "\n",
    "sul = ['campeche', 'saco dos limoes', 'rio tavares', 'ribeirao da ilha', 'morro das pedras', \n",
    "       'pantano do sul',  'costeira do pirajubae', 'armacao', 'carianos', 'tapera']\n",
    "\n",
    "continental = [ 'estreito', 'jardim atlantico', 'capoeiras', 'carvoeira', 'bom abrigo',\n",
    "               'coqueiros', 'canto', 'balneario', 'abraao', 'monte cristo', 'itaguacu',\n",
    "               'canajure', 'carianos', 'coloninha', 'balneario do estreito', 'itaguacu']      \n",
    "\n",
    "excluidos = ['barreiros', 'campinas'] # não é de Florianópolis"
   ]
  },
  {
   "cell_type": "code",
   "execution_count": 36,
   "id": "a1715ae0",
   "metadata": {},
   "outputs": [
    {
     "name": "stdout",
     "output_type": "stream",
     "text": [
      "Tamanho atual: 2151\n",
      "Tamanho itens incosistentes: 4\n",
      "Tamanho após exclusão: 2147\n"
     ]
    }
   ],
   "source": [
    "# Excluded district not in Florianópolis\n",
    "print(f'Tamanho atual: {len(df)}')\n",
    "_ = df[df['adress'].isin(excluidos)]\n",
    "print(f'Tamanho itens incosistentes: {len(_)}')\n",
    "df = df[~df['adress'].isin(excluidos)]\n",
    "print(f'Tamanho após exclusão: {len(df)}')"
   ]
  },
  {
   "cell_type": "code",
   "execution_count": 37,
   "id": "964db1e5",
   "metadata": {},
   "outputs": [
    {
     "name": "stdout",
     "output_type": "stream",
     "text": [
      "Norte: 567 \n",
      "Leste: 47 \n",
      "Centro: 1022 \n",
      "Sul: 118 \n",
      "Continente: 397\n"
     ]
    }
   ],
   "source": [
    "# Defining groups and analysing the imbalace between zones\n",
    "n = df[df['adress'].isin(norte)]\n",
    "l = df[df['adress'].isin(leste)]\n",
    "c = df[df['adress'].isin(centro)]\n",
    "s = df[df['adress'].isin(sul)]\n",
    "cnt = df[df['adress'].isin(continental)]\n",
    "\n",
    "print(f'Norte: {len(n)} \\nLeste: {len(l)} \\nCentro: {len(c)} \\nSul: {len(s)} \\nContinente: {len(cnt)}')"
   ]
  },
  {
   "cell_type": "code",
   "execution_count": 38,
   "id": "3c3dd9ac",
   "metadata": {},
   "outputs": [
    {
     "name": "stdout",
     "output_type": "stream",
     "text": [
      "Norte: \n",
      "              area        room        bath      garage          price\n",
      "count   567.000000  567.000000  567.000000  567.000000     567.000000\n",
      "mean    185.624339    2.774250    2.776014    1.834215   36991.075838\n",
      "std     309.804655    1.778903    1.944710    1.562828   58483.170950\n",
      "min       3.000000    0.000000    0.000000    0.000000    1013.000000\n",
      "25%      55.500000    2.000000    1.000000    1.000000    9250.000000\n",
      "50%      86.000000    2.000000    2.000000    1.000000   17800.000000\n",
      "75%     167.000000    4.000000    4.000000    2.000000   39000.000000\n",
      "max    3400.000000    9.000000    9.000000    9.000000  600000.000000 \n",
      " \n",
      "Leste: \n",
      "              area       room       bath     garage          price\n",
      "count    47.000000  47.000000  47.000000  47.000000      47.000000\n",
      "mean    191.787234   2.148936   2.361702   1.276596   26964.893617\n",
      "std     215.893284   2.264842   1.737383   1.861534   52901.844008\n",
      "min      24.000000   0.000000   0.000000   0.000000     650.000000\n",
      "25%      55.500000   0.000000   1.000000   0.000000    3350.000000\n",
      "50%      85.000000   2.000000   2.000000   1.000000   12000.000000\n",
      "75%     302.000000   3.500000   3.000000   2.000000   18000.000000\n",
      "max    1000.000000   9.000000   7.000000   8.000000  255000.000000 \n",
      " \n",
      "Centro: \n",
      "              area         room         bath       garage          price\n",
      "count  1022.000000  1022.000000  1022.000000  1022.000000    1022.000000\n",
      "mean    211.414873     1.196673     1.771037     1.095890    8544.296477\n",
      "std     479.786767     1.424381     1.426770     1.416498   25410.895795\n",
      "min       0.000000     0.000000     0.000000     0.000000     100.000000\n",
      "25%      50.250000     0.000000     1.000000     0.000000    1700.000000\n",
      "50%      85.000000     0.000000     1.000000     1.000000    2800.000000\n",
      "75%     189.000000     2.000000     2.000000     1.000000    7000.000000\n",
      "max    5200.000000     6.000000     9.000000     9.000000  388650.000000 \n",
      " \n",
      "Sul: \n",
      "              area        room        bath      garage         price\n",
      "count   118.000000  118.000000  118.000000  118.000000    118.000000\n",
      "mean    174.584746    2.000000    1.745763    1.771186   4842.966102\n",
      "std     209.937896    1.352427    0.962426    1.661073   5822.356017\n",
      "min      17.000000    0.000000    0.000000    0.000000    700.000000\n",
      "25%      50.000000    1.000000    1.000000    1.000000   1790.000000\n",
      "50%      78.500000    2.000000    1.000000    1.000000   2850.000000\n",
      "75%     193.500000    3.000000    2.000000    2.000000   5975.000000\n",
      "max    1000.000000    6.000000    5.000000    8.000000  39000.000000 \n",
      " \n",
      "Continente: \n",
      "              area        room        bath      garage         price\n",
      "count   397.000000  397.000000  397.000000  397.000000    397.000000\n",
      "mean    216.974811    1.267003    1.596977    1.279597   4535.186398\n",
      "std     510.948484    1.593625    1.306082    1.408815   6771.958156\n",
      "min      10.000000    0.000000    0.000000    0.000000    200.000000\n",
      "25%      55.000000    0.000000    1.000000    1.000000   1500.000000\n",
      "50%      86.000000    0.000000    1.000000    1.000000   2354.000000\n",
      "75%     200.000000    3.000000    2.000000    2.000000   4168.000000\n",
      "max    5186.000000    8.000000    9.000000    9.000000  60000.000000\n"
     ]
    }
   ],
   "source": [
    "print(f'Norte: \\n{n.describe()} \\n \\nLeste: \\n{l.describe()} \\n \\nCentro: \\n{c.describe()} \\n \\nSul: \\n{s.describe()} \\n \\nContinente: \\n{cnt.describe()}')"
   ]
  },
  {
   "cell_type": "code",
   "execution_count": 39,
   "id": "b4d4b22b",
   "metadata": {},
   "outputs": [],
   "source": [
    "# Creating new column\n",
    "df['zone'] = df['adress']"
   ]
  },
  {
   "cell_type": "code",
   "execution_count": 40,
   "id": "f4b47456",
   "metadata": {},
   "outputs": [],
   "source": [
    "# Creating the zones\n",
    "df['zone'] = [n.replace(n, 'norte') if n in norte else n for n in df['zone']]\n",
    "df['zone'] = [n.replace(n, 'leste') if n in leste else n for n in df['zone']]\n",
    "df['zone'] = [n.replace(n, 'centro') if n in centro else n for n in df['zone']]\n",
    "df['zone'] = [n.replace(n, 'sul') if n in sul else n for n in df['zone']]\n",
    "df['zone'] = [n.replace(n, 'continental') if n in continental else n for n in df['zone']]"
   ]
  },
  {
   "cell_type": "code",
   "execution_count": 41,
   "id": "71cfd53f",
   "metadata": {},
   "outputs": [
    {
     "data": {
      "text/html": [
       "<div>\n",
       "<style scoped>\n",
       "    .dataframe tbody tr th:only-of-type {\n",
       "        vertical-align: middle;\n",
       "    }\n",
       "\n",
       "    .dataframe tbody tr th {\n",
       "        vertical-align: top;\n",
       "    }\n",
       "\n",
       "    .dataframe thead th {\n",
       "        text-align: right;\n",
       "    }\n",
       "</style>\n",
       "<table border=\"1\" class=\"dataframe\">\n",
       "  <thead>\n",
       "    <tr style=\"text-align: right;\">\n",
       "      <th></th>\n",
       "      <th>product</th>\n",
       "      <th>area</th>\n",
       "      <th>room</th>\n",
       "      <th>bath</th>\n",
       "      <th>garage</th>\n",
       "      <th>adress</th>\n",
       "      <th>price</th>\n",
       "      <th>properties</th>\n",
       "      <th>zone</th>\n",
       "    </tr>\n",
       "  </thead>\n",
       "  <tbody>\n",
       "    <tr>\n",
       "      <th>0</th>\n",
       "      <td>comercial</td>\n",
       "      <td>30</td>\n",
       "      <td>0</td>\n",
       "      <td>1</td>\n",
       "      <td>1</td>\n",
       "      <td>corrego grande</td>\n",
       "      <td>1400</td>\n",
       "      <td>comercial</td>\n",
       "      <td>centro</td>\n",
       "    </tr>\n",
       "    <tr>\n",
       "      <th>3</th>\n",
       "      <td>apartamento</td>\n",
       "      <td>230</td>\n",
       "      <td>3</td>\n",
       "      <td>5</td>\n",
       "      <td>2</td>\n",
       "      <td>beira mar</td>\n",
       "      <td>9950</td>\n",
       "      <td>residencial</td>\n",
       "      <td>centro</td>\n",
       "    </tr>\n",
       "    <tr>\n",
       "      <th>4</th>\n",
       "      <td>consultorio</td>\n",
       "      <td>80</td>\n",
       "      <td>0</td>\n",
       "      <td>5</td>\n",
       "      <td>1</td>\n",
       "      <td>agronomica</td>\n",
       "      <td>100</td>\n",
       "      <td>comercial</td>\n",
       "      <td>centro</td>\n",
       "    </tr>\n",
       "    <tr>\n",
       "      <th>6</th>\n",
       "      <td>comercial</td>\n",
       "      <td>300</td>\n",
       "      <td>0</td>\n",
       "      <td>1</td>\n",
       "      <td>0</td>\n",
       "      <td>centro</td>\n",
       "      <td>1400</td>\n",
       "      <td>comercial</td>\n",
       "      <td>centro</td>\n",
       "    </tr>\n",
       "    <tr>\n",
       "      <th>7</th>\n",
       "      <td>comercial</td>\n",
       "      <td>300</td>\n",
       "      <td>0</td>\n",
       "      <td>2</td>\n",
       "      <td>5</td>\n",
       "      <td>trindade</td>\n",
       "      <td>1770</td>\n",
       "      <td>comercial</td>\n",
       "      <td>centro</td>\n",
       "    </tr>\n",
       "    <tr>\n",
       "      <th>...</th>\n",
       "      <td>...</td>\n",
       "      <td>...</td>\n",
       "      <td>...</td>\n",
       "      <td>...</td>\n",
       "      <td>...</td>\n",
       "      <td>...</td>\n",
       "      <td>...</td>\n",
       "      <td>...</td>\n",
       "      <td>...</td>\n",
       "    </tr>\n",
       "    <tr>\n",
       "      <th>2258</th>\n",
       "      <td>comercial</td>\n",
       "      <td>56</td>\n",
       "      <td>0</td>\n",
       "      <td>0</td>\n",
       "      <td>1</td>\n",
       "      <td>centro</td>\n",
       "      <td>2000</td>\n",
       "      <td>comercial</td>\n",
       "      <td>centro</td>\n",
       "    </tr>\n",
       "    <tr>\n",
       "      <th>2259</th>\n",
       "      <td>comercial</td>\n",
       "      <td>56</td>\n",
       "      <td>4</td>\n",
       "      <td>2</td>\n",
       "      <td>0</td>\n",
       "      <td>trindade</td>\n",
       "      <td>4500</td>\n",
       "      <td>comercial</td>\n",
       "      <td>centro</td>\n",
       "    </tr>\n",
       "    <tr>\n",
       "      <th>2261</th>\n",
       "      <td>comercial</td>\n",
       "      <td>65</td>\n",
       "      <td>0</td>\n",
       "      <td>1</td>\n",
       "      <td>1</td>\n",
       "      <td>centro</td>\n",
       "      <td>95000</td>\n",
       "      <td>comercial</td>\n",
       "      <td>centro</td>\n",
       "    </tr>\n",
       "    <tr>\n",
       "      <th>2262</th>\n",
       "      <td>comercial</td>\n",
       "      <td>70</td>\n",
       "      <td>0</td>\n",
       "      <td>2</td>\n",
       "      <td>0</td>\n",
       "      <td>centro</td>\n",
       "      <td>6490</td>\n",
       "      <td>comercial</td>\n",
       "      <td>centro</td>\n",
       "    </tr>\n",
       "    <tr>\n",
       "      <th>2267</th>\n",
       "      <td>comercial</td>\n",
       "      <td>30</td>\n",
       "      <td>0</td>\n",
       "      <td>2</td>\n",
       "      <td>0</td>\n",
       "      <td>centro</td>\n",
       "      <td>10000</td>\n",
       "      <td>comercial</td>\n",
       "      <td>centro</td>\n",
       "    </tr>\n",
       "  </tbody>\n",
       "</table>\n",
       "<p>1022 rows × 9 columns</p>\n",
       "</div>"
      ],
      "text/plain": [
       "          product  area  room  bath  garage          adress  price  \\\n",
       "0       comercial    30     0     1       1  corrego grande   1400   \n",
       "3     apartamento   230     3     5       2       beira mar   9950   \n",
       "4     consultorio    80     0     5       1      agronomica    100   \n",
       "6       comercial   300     0     1       0          centro   1400   \n",
       "7       comercial   300     0     2       5        trindade   1770   \n",
       "...           ...   ...   ...   ...     ...             ...    ...   \n",
       "2258    comercial    56     0     0       1          centro   2000   \n",
       "2259    comercial    56     4     2       0        trindade   4500   \n",
       "2261    comercial    65     0     1       1          centro  95000   \n",
       "2262    comercial    70     0     2       0          centro   6490   \n",
       "2267    comercial    30     0     2       0          centro  10000   \n",
       "\n",
       "       properties    zone  \n",
       "0       comercial  centro  \n",
       "3     residencial  centro  \n",
       "4       comercial  centro  \n",
       "6       comercial  centro  \n",
       "7       comercial  centro  \n",
       "...           ...     ...  \n",
       "2258    comercial  centro  \n",
       "2259    comercial  centro  \n",
       "2261    comercial  centro  \n",
       "2262    comercial  centro  \n",
       "2267    comercial  centro  \n",
       "\n",
       "[1022 rows x 9 columns]"
      ]
     },
     "execution_count": 41,
     "metadata": {},
     "output_type": "execute_result"
    }
   ],
   "source": [
    "# Analysing data integrity\n",
    "df[df['zone']=='centro']"
   ]
  },
  {
   "cell_type": "code",
   "execution_count": 42,
   "id": "3cca48fa",
   "metadata": {},
   "outputs": [
    {
     "data": {
      "text/html": [
       "<div>\n",
       "<style scoped>\n",
       "    .dataframe tbody tr th:only-of-type {\n",
       "        vertical-align: middle;\n",
       "    }\n",
       "\n",
       "    .dataframe tbody tr th {\n",
       "        vertical-align: top;\n",
       "    }\n",
       "\n",
       "    .dataframe thead th {\n",
       "        text-align: right;\n",
       "    }\n",
       "</style>\n",
       "<table border=\"1\" class=\"dataframe\">\n",
       "  <thead>\n",
       "    <tr style=\"text-align: right;\">\n",
       "      <th></th>\n",
       "      <th>product</th>\n",
       "      <th>area</th>\n",
       "      <th>room</th>\n",
       "      <th>bath</th>\n",
       "      <th>garage</th>\n",
       "      <th>adress</th>\n",
       "      <th>price</th>\n",
       "      <th>properties</th>\n",
       "      <th>zone</th>\n",
       "    </tr>\n",
       "  </thead>\n",
       "  <tbody>\n",
       "    <tr>\n",
       "      <th>0</th>\n",
       "      <td>comercial</td>\n",
       "      <td>30</td>\n",
       "      <td>0</td>\n",
       "      <td>1</td>\n",
       "      <td>1</td>\n",
       "      <td>corrego grande</td>\n",
       "      <td>1400</td>\n",
       "      <td>comercial</td>\n",
       "      <td>centro</td>\n",
       "    </tr>\n",
       "    <tr>\n",
       "      <th>3</th>\n",
       "      <td>apartamento</td>\n",
       "      <td>230</td>\n",
       "      <td>3</td>\n",
       "      <td>5</td>\n",
       "      <td>2</td>\n",
       "      <td>beira mar</td>\n",
       "      <td>9950</td>\n",
       "      <td>residencial</td>\n",
       "      <td>centro</td>\n",
       "    </tr>\n",
       "    <tr>\n",
       "      <th>4</th>\n",
       "      <td>consultorio</td>\n",
       "      <td>80</td>\n",
       "      <td>0</td>\n",
       "      <td>5</td>\n",
       "      <td>1</td>\n",
       "      <td>agronomica</td>\n",
       "      <td>100</td>\n",
       "      <td>comercial</td>\n",
       "      <td>centro</td>\n",
       "    </tr>\n",
       "    <tr>\n",
       "      <th>6</th>\n",
       "      <td>comercial</td>\n",
       "      <td>300</td>\n",
       "      <td>0</td>\n",
       "      <td>1</td>\n",
       "      <td>0</td>\n",
       "      <td>centro</td>\n",
       "      <td>1400</td>\n",
       "      <td>comercial</td>\n",
       "      <td>centro</td>\n",
       "    </tr>\n",
       "    <tr>\n",
       "      <th>7</th>\n",
       "      <td>comercial</td>\n",
       "      <td>300</td>\n",
       "      <td>0</td>\n",
       "      <td>2</td>\n",
       "      <td>5</td>\n",
       "      <td>trindade</td>\n",
       "      <td>1770</td>\n",
       "      <td>comercial</td>\n",
       "      <td>centro</td>\n",
       "    </tr>\n",
       "    <tr>\n",
       "      <th>...</th>\n",
       "      <td>...</td>\n",
       "      <td>...</td>\n",
       "      <td>...</td>\n",
       "      <td>...</td>\n",
       "      <td>...</td>\n",
       "      <td>...</td>\n",
       "      <td>...</td>\n",
       "      <td>...</td>\n",
       "      <td>...</td>\n",
       "    </tr>\n",
       "    <tr>\n",
       "      <th>2258</th>\n",
       "      <td>comercial</td>\n",
       "      <td>56</td>\n",
       "      <td>0</td>\n",
       "      <td>0</td>\n",
       "      <td>1</td>\n",
       "      <td>centro</td>\n",
       "      <td>2000</td>\n",
       "      <td>comercial</td>\n",
       "      <td>centro</td>\n",
       "    </tr>\n",
       "    <tr>\n",
       "      <th>2259</th>\n",
       "      <td>comercial</td>\n",
       "      <td>56</td>\n",
       "      <td>4</td>\n",
       "      <td>2</td>\n",
       "      <td>0</td>\n",
       "      <td>trindade</td>\n",
       "      <td>4500</td>\n",
       "      <td>comercial</td>\n",
       "      <td>centro</td>\n",
       "    </tr>\n",
       "    <tr>\n",
       "      <th>2261</th>\n",
       "      <td>comercial</td>\n",
       "      <td>65</td>\n",
       "      <td>0</td>\n",
       "      <td>1</td>\n",
       "      <td>1</td>\n",
       "      <td>centro</td>\n",
       "      <td>95000</td>\n",
       "      <td>comercial</td>\n",
       "      <td>centro</td>\n",
       "    </tr>\n",
       "    <tr>\n",
       "      <th>2262</th>\n",
       "      <td>comercial</td>\n",
       "      <td>70</td>\n",
       "      <td>0</td>\n",
       "      <td>2</td>\n",
       "      <td>0</td>\n",
       "      <td>centro</td>\n",
       "      <td>6490</td>\n",
       "      <td>comercial</td>\n",
       "      <td>centro</td>\n",
       "    </tr>\n",
       "    <tr>\n",
       "      <th>2267</th>\n",
       "      <td>comercial</td>\n",
       "      <td>30</td>\n",
       "      <td>0</td>\n",
       "      <td>2</td>\n",
       "      <td>0</td>\n",
       "      <td>centro</td>\n",
       "      <td>10000</td>\n",
       "      <td>comercial</td>\n",
       "      <td>centro</td>\n",
       "    </tr>\n",
       "  </tbody>\n",
       "</table>\n",
       "<p>1022 rows × 9 columns</p>\n",
       "</div>"
      ],
      "text/plain": [
       "          product  area  room  bath  garage          adress  price  \\\n",
       "0       comercial    30     0     1       1  corrego grande   1400   \n",
       "3     apartamento   230     3     5       2       beira mar   9950   \n",
       "4     consultorio    80     0     5       1      agronomica    100   \n",
       "6       comercial   300     0     1       0          centro   1400   \n",
       "7       comercial   300     0     2       5        trindade   1770   \n",
       "...           ...   ...   ...   ...     ...             ...    ...   \n",
       "2258    comercial    56     0     0       1          centro   2000   \n",
       "2259    comercial    56     4     2       0        trindade   4500   \n",
       "2261    comercial    65     0     1       1          centro  95000   \n",
       "2262    comercial    70     0     2       0          centro   6490   \n",
       "2267    comercial    30     0     2       0          centro  10000   \n",
       "\n",
       "       properties    zone  \n",
       "0       comercial  centro  \n",
       "3     residencial  centro  \n",
       "4       comercial  centro  \n",
       "6       comercial  centro  \n",
       "7       comercial  centro  \n",
       "...           ...     ...  \n",
       "2258    comercial  centro  \n",
       "2259    comercial  centro  \n",
       "2261    comercial  centro  \n",
       "2262    comercial  centro  \n",
       "2267    comercial  centro  \n",
       "\n",
       "[1022 rows x 9 columns]"
      ]
     },
     "execution_count": 42,
     "metadata": {},
     "output_type": "execute_result"
    }
   ],
   "source": [
    "df[df['adress'].isin(centro)]"
   ]
  },
  {
   "cell_type": "code",
   "execution_count": 43,
   "id": "04f7e1ec",
   "metadata": {},
   "outputs": [],
   "source": [
    "# Deleted old columns\n",
    "df = df.drop(columns=['product', 'adress'])"
   ]
  },
  {
   "cell_type": "markdown",
   "id": "68e13c58",
   "metadata": {},
   "source": [
    "### Distribution Analysis\n",
    "* Area - Numeric continuous\n",
    "* Price - Numeric continuous\n",
    "\n",
    "* Room - Categoric\n",
    "* Bath - Categoric\n",
    "* Garage - Categoric\n",
    "* Properties - Categoric\n",
    "* zone - Categoric"
   ]
  },
  {
   "cell_type": "code",
   "execution_count": 44,
   "id": "427b44fe",
   "metadata": {},
   "outputs": [],
   "source": [
    "# Defining variables groups\n",
    "continuous_var = ['area', 'price']\n",
    "categorical_var = ['room', 'bath', 'garage', 'zone']"
   ]
  },
  {
   "cell_type": "code",
   "execution_count": 45,
   "id": "0f6eb0ff",
   "metadata": {},
   "outputs": [
    {
     "data": {
      "image/png": "[encoded data removed]",
      "text/plain": [
       "<Figure size 1440x1440 with 4 Axes>"
      ]
     },
     "metadata": {
      "needs_background": "light"
     },
     "output_type": "display_data"
    }
   ],
   "source": [
    "# Distribution of continuous variables\n",
    "n_rows=2\n",
    "n_cols=2\n",
    "# Subplots\n",
    "fig, axes = plt.subplots(nrows=n_rows, ncols=n_cols)\n",
    "fig.set_size_inches(20, 20)\n",
    "\n",
    "for i, column in enumerate(continuous_var):\n",
    "  sns.histplot(df[column], ax=axes[i//n_cols,i%n_cols], bins=10,  stat=\"density\", kde=True)\n",
    "\n",
    "plt.show()"
   ]
  },
  {
   "cell_type": "code",
   "execution_count": 46,
   "id": "76737425",
   "metadata": {
    "scrolled": true
   },
   "outputs": [
    {
     "data": {
      "image/png": "[encoded data removed]",
      "text/plain": [
       "<Figure size 1080x720 with 2 Axes>"
      ]
     },
     "metadata": {
      "needs_background": "light"
     },
     "output_type": "display_data"
    }
   ],
   "source": [
    "# Analysing correlation between variables \n",
    "big_corr = (df.corr())\n",
    "plt.figure(figsize = (15,10))\n",
    "sns.heatmap(data = big_corr, linewidths=.5, annot=True,  fmt=\".2f\")\n",
    "plt.show()"
   ]
  },
  {
   "cell_type": "code",
   "execution_count": 47,
   "id": "bee2e00c",
   "metadata": {},
   "outputs": [
    {
     "data": {
      "text/plain": [
       "<seaborn.axisgrid.PairGrid at 0x7fe4c2ec01c0>"
      ]
     },
     "execution_count": 47,
     "metadata": {},
     "output_type": "execute_result"
    },
    {
     "data": {
      "image/png": "[encoded data removed]",
      "text/plain": [
       "<Figure size 992.375x900 with 30 Axes>"
      ]
     },
     "metadata": {
      "needs_background": "light"
     },
     "output_type": "display_data"
    }
   ],
   "source": [
    "# Analysing distribution between variables\n",
    "sns.pairplot(df, hue='zone')"
   ]
  },
  {
   "cell_type": "code",
   "execution_count": 48,
   "id": "2c91518b",
   "metadata": {},
   "outputs": [
    {
     "name": "stdout",
     "output_type": "stream",
     "text": [
      "<class 'pandas.core.frame.DataFrame'>\n",
      "Int64Index: 2147 entries, 0 to 2267\n",
      "Data columns (total 7 columns):\n",
      " #   Column      Non-Null Count  Dtype \n",
      "---  ------      --------------  ----- \n",
      " 0   area        2147 non-null   int64 \n",
      " 1   room        2147 non-null   int64 \n",
      " 2   bath        2147 non-null   int64 \n",
      " 3   garage      2147 non-null   int64 \n",
      " 4   price       2147 non-null   int64 \n",
      " 5   properties  2147 non-null   object\n",
      " 6   zone        2147 non-null   object\n",
      "dtypes: int64(5), object(2)\n",
      "memory usage: 134.2+ KB\n"
     ]
    }
   ],
   "source": [
    "# Checking DF\n",
    "df.info()"
   ]
  },
  {
   "cell_type": "code",
   "execution_count": 49,
   "id": "c7aea587",
   "metadata": {},
   "outputs": [],
   "source": [
    "# Exporting DF to local machine\n",
    "df.to_csv('df_trt.csv', sep=';')"
   ]
  }
 ],
 "metadata": {
  "kernelspec": {
   "display_name": "Python 3",
   "language": "python",
   "name": "python3"
  },
  "language_info": {
   "codemirror_mode": {
    "name": "ipython",
    "version": 3
   },
   "file_extension": ".py",
   "mimetype": "text/x-python",
   "name": "python",
   "nbconvert_exporter": "python",
   "pygments_lexer": "ipython3",
   "version": "3.8.8"
  }
 },
 "nbformat": 4,
 "nbformat_minor": 5
}
