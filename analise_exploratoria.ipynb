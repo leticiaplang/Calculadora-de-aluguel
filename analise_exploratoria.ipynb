{
 "cells": [
  {
   "cell_type": "markdown",
   "id": "c43aaa7d",
   "metadata": {},
   "source": [
    "## Preparando o ambiente"
   ]
  },
  {
   "cell_type": "code",
   "execution_count": 1,
   "id": "040ea90f",
   "metadata": {},
   "outputs": [],
   "source": [
    "# instalações\n",
    "import numpy as np\n",
    "import pandas as pd\n",
    "import seaborn as sns\n",
    "import matplotlib.pyplot as plt"
   ]
  },
  {
   "cell_type": "markdown",
   "id": "91a9edad",
   "metadata": {},
   "source": [
    "## Análise exploratória\n",
    "Cabe ressaltar que os valores foram coletados em período de temporada(verão), logo podem não representar a média anual."
   ]
  },
  {
   "cell_type": "code",
   "execution_count": 2,
   "id": "8a9c70d5",
   "metadata": {},
   "outputs": [],
   "source": [
    "# Se for direto do webscrapping\n",
    "## df = df_orig.copy(deep=True)"
   ]
  },
  {
   "cell_type": "code",
   "execution_count": 3,
   "id": "ea5eec21",
   "metadata": {},
   "outputs": [],
   "source": [
    "# Abrindo leitura csv guardado\n",
    "name_file = 'calculadora_aluguel.csv'\n",
    "df = pd.read_csv(name_file, sep=';')\n",
    "#df_orig = pd.read_csv(name_file, sep=';')"
   ]
  },
  {
   "cell_type": "code",
   "execution_count": 4,
   "id": "cfa39656",
   "metadata": {},
   "outputs": [
    {
     "name": "stdout",
     "output_type": "stream",
     "text": [
      "<class 'pandas.core.frame.DataFrame'>\n",
      "RangeIndex: 2268 entries, 0 to 2267\n",
      "Data columns (total 8 columns):\n",
      " #   Column      Non-Null Count  Dtype \n",
      "---  ------      --------------  ----- \n",
      " 0   Unnamed: 0  2268 non-null   int64 \n",
      " 1   product     2268 non-null   object\n",
      " 2   area        2268 non-null   object\n",
      " 3   room        2268 non-null   object\n",
      " 4   bath        2268 non-null   object\n",
      " 5   garage      2268 non-null   object\n",
      " 6   adress      2268 non-null   object\n",
      " 7   price       2268 non-null   object\n",
      "dtypes: int64(1), object(7)\n",
      "memory usage: 141.9+ KB\n"
     ]
    }
   ],
   "source": [
    "# analisando tamanhos, itens nulos e types\n",
    "df.info()"
   ]
  },
  {
   "cell_type": "code",
   "execution_count": 5,
   "id": "6790fd91",
   "metadata": {},
   "outputs": [
    {
     "data": {
      "text/html": [
       "<div>\n",
       "<style scoped>\n",
       "    .dataframe tbody tr th:only-of-type {\n",
       "        vertical-align: middle;\n",
       "    }\n",
       "\n",
       "    .dataframe tbody tr th {\n",
       "        vertical-align: top;\n",
       "    }\n",
       "\n",
       "    .dataframe thead th {\n",
       "        text-align: right;\n",
       "    }\n",
       "</style>\n",
       "<table border=\"1\" class=\"dataframe\">\n",
       "  <thead>\n",
       "    <tr style=\"text-align: right;\">\n",
       "      <th></th>\n",
       "      <th>Unnamed: 0</th>\n",
       "      <th>product</th>\n",
       "      <th>area</th>\n",
       "      <th>room</th>\n",
       "      <th>bath</th>\n",
       "      <th>garage</th>\n",
       "      <th>adress</th>\n",
       "      <th>price</th>\n",
       "    </tr>\n",
       "  </thead>\n",
       "  <tbody>\n",
       "    <tr>\n",
       "      <th>0</th>\n",
       "      <td>0</td>\n",
       "      <td>Sala/Conjunto para Aluguel, 30m²</td>\n",
       "      <td>30 m²</td>\n",
       "      <td>-- Quarto</td>\n",
       "      <td>1 Banheiro</td>\n",
       "      <td>1 Vaga</td>\n",
       "      <td>Rua Joe Collaço, 341 - Córrego Grande, Florian...</td>\n",
       "      <td>R$ 1.400 /mês</td>\n",
       "    </tr>\n",
       "    <tr>\n",
       "      <th>1</th>\n",
       "      <td>1</td>\n",
       "      <td>Casa com 3 Quartos para Aluguel, 230m²</td>\n",
       "      <td>30</td>\n",
       "      <td>3 Quartos</td>\n",
       "      <td>4 Banheiros</td>\n",
       "      <td>1 Vaga</td>\n",
       "      <td>Rua João Henrique Gonçalves, 313 - Canto dos A...</td>\n",
       "      <td>R$ 16.000 /mês</td>\n",
       "    </tr>\n",
       "    <tr>\n",
       "      <th>2</th>\n",
       "      <td>2</td>\n",
       "      <td>Ponto comercial/Loja/Box para Aluguel, 80m²</td>\n",
       "      <td>230 m²</td>\n",
       "      <td>-- Quarto</td>\n",
       "      <td>1 Banheiro</td>\n",
       "      <td>-- Vaga</td>\n",
       "      <td>Rua Deputado Paulo Preis, 78 - Jurerê, Florian...</td>\n",
       "      <td>R$ 6.950 /mês</td>\n",
       "    </tr>\n",
       "    <tr>\n",
       "      <th>3</th>\n",
       "      <td>3</td>\n",
       "      <td>Apartamento com 3 Quartos para Aluguel, 300m²</td>\n",
       "      <td>230</td>\n",
       "      <td>3 Quartos</td>\n",
       "      <td>5 Banheiros</td>\n",
       "      <td>2 Vagas</td>\n",
       "      <td>Avenida Governador Irineu Bornhausen, 3690 - B...</td>\n",
       "      <td>R$ 9.950 /mês</td>\n",
       "    </tr>\n",
       "    <tr>\n",
       "      <th>4</th>\n",
       "      <td>4</td>\n",
       "      <td>Consultório para Aluguel, 350m²</td>\n",
       "      <td>80 m²</td>\n",
       "      <td>-- Quarto</td>\n",
       "      <td>5 Banheiros</td>\n",
       "      <td>1 Vaga</td>\n",
       "      <td>Rua Frei Caneca, 490 - Agronômica, Florianópol...</td>\n",
       "      <td>R$ 100 /mês</td>\n",
       "    </tr>\n",
       "  </tbody>\n",
       "</table>\n",
       "</div>"
      ],
      "text/plain": [
       "   Unnamed: 0                                        product    area  \\\n",
       "0           0               Sala/Conjunto para Aluguel, 30m²   30 m²   \n",
       "1           1         Casa com 3 Quartos para Aluguel, 230m²      30   \n",
       "2           2    Ponto comercial/Loja/Box para Aluguel, 80m²  230 m²   \n",
       "3           3  Apartamento com 3 Quartos para Aluguel, 300m²     230   \n",
       "4           4                Consultório para Aluguel, 350m²   80 m²   \n",
       "\n",
       "        room         bath   garage  \\\n",
       "0  -- Quarto   1 Banheiro   1 Vaga   \n",
       "1  3 Quartos  4 Banheiros   1 Vaga   \n",
       "2  -- Quarto   1 Banheiro  -- Vaga   \n",
       "3  3 Quartos  5 Banheiros  2 Vagas   \n",
       "4  -- Quarto  5 Banheiros   1 Vaga   \n",
       "\n",
       "                                              adress           price  \n",
       "0  Rua Joe Collaço, 341 - Córrego Grande, Florian...   R$ 1.400 /mês  \n",
       "1  Rua João Henrique Gonçalves, 313 - Canto dos A...  R$ 16.000 /mês  \n",
       "2  Rua Deputado Paulo Preis, 78 - Jurerê, Florian...   R$ 6.950 /mês  \n",
       "3  Avenida Governador Irineu Bornhausen, 3690 - B...   R$ 9.950 /mês  \n",
       "4  Rua Frei Caneca, 490 - Agronômica, Florianópol...     R$ 100 /mês  "
      ]
     },
     "execution_count": 5,
     "metadata": {},
     "output_type": "execute_result"
    }
   ],
   "source": [
    "# confirmando estrutura do DF\n",
    "df.head()"
   ]
  },
  {
   "cell_type": "markdown",
   "id": "d27d6d3c",
   "metadata": {},
   "source": [
    "### Duplicados"
   ]
  },
  {
   "cell_type": "code",
   "execution_count": 6,
   "id": "2709290f",
   "metadata": {},
   "outputs": [
    {
     "data": {
      "text/plain": [
       "108"
      ]
     },
     "execution_count": 6,
     "metadata": {},
     "output_type": "execute_result"
    }
   ],
   "source": [
    "# Analisando existência de duplicados\n",
    "df.duplicated().sum()"
   ]
  },
  {
   "cell_type": "code",
   "execution_count": 7,
   "id": "21972cef",
   "metadata": {},
   "outputs": [
    {
     "data": {
      "text/html": [
       "<div>\n",
       "<style scoped>\n",
       "    .dataframe tbody tr th:only-of-type {\n",
       "        vertical-align: middle;\n",
       "    }\n",
       "\n",
       "    .dataframe tbody tr th {\n",
       "        vertical-align: top;\n",
       "    }\n",
       "\n",
       "    .dataframe thead th {\n",
       "        text-align: right;\n",
       "    }\n",
       "</style>\n",
       "<table border=\"1\" class=\"dataframe\">\n",
       "  <thead>\n",
       "    <tr style=\"text-align: right;\">\n",
       "      <th></th>\n",
       "      <th>Unnamed: 0</th>\n",
       "      <th>area</th>\n",
       "      <th>room</th>\n",
       "      <th>bath</th>\n",
       "      <th>garage</th>\n",
       "      <th>adress</th>\n",
       "      <th>price</th>\n",
       "    </tr>\n",
       "    <tr>\n",
       "      <th>product</th>\n",
       "      <th></th>\n",
       "      <th></th>\n",
       "      <th></th>\n",
       "      <th></th>\n",
       "      <th></th>\n",
       "      <th></th>\n",
       "      <th></th>\n",
       "    </tr>\n",
       "  </thead>\n",
       "  <tbody>\n",
       "    <tr>\n",
       "      <th>Apartamento com 2 Quartos para Aluguel, 101m²</th>\n",
       "      <td>2</td>\n",
       "      <td>2</td>\n",
       "      <td>2</td>\n",
       "      <td>2</td>\n",
       "      <td>2</td>\n",
       "      <td>2</td>\n",
       "      <td>2</td>\n",
       "    </tr>\n",
       "    <tr>\n",
       "      <th>Apartamento com 2 Quartos para Aluguel, 62m²</th>\n",
       "      <td>1</td>\n",
       "      <td>1</td>\n",
       "      <td>1</td>\n",
       "      <td>1</td>\n",
       "      <td>1</td>\n",
       "      <td>1</td>\n",
       "      <td>1</td>\n",
       "    </tr>\n",
       "    <tr>\n",
       "      <th>Apartamento com 2 Quartos para Aluguel, 66m²</th>\n",
       "      <td>1</td>\n",
       "      <td>1</td>\n",
       "      <td>1</td>\n",
       "      <td>1</td>\n",
       "      <td>1</td>\n",
       "      <td>1</td>\n",
       "      <td>1</td>\n",
       "    </tr>\n",
       "    <tr>\n",
       "      <th>Apartamento com 2 Quartos para Aluguel, 70m²</th>\n",
       "      <td>4</td>\n",
       "      <td>4</td>\n",
       "      <td>4</td>\n",
       "      <td>4</td>\n",
       "      <td>4</td>\n",
       "      <td>4</td>\n",
       "      <td>4</td>\n",
       "    </tr>\n",
       "    <tr>\n",
       "      <th>Apartamento com 2 Quartos para Aluguel, 71m²</th>\n",
       "      <td>2</td>\n",
       "      <td>2</td>\n",
       "      <td>2</td>\n",
       "      <td>2</td>\n",
       "      <td>2</td>\n",
       "      <td>2</td>\n",
       "      <td>2</td>\n",
       "    </tr>\n",
       "    <tr>\n",
       "      <th>...</th>\n",
       "      <td>...</td>\n",
       "      <td>...</td>\n",
       "      <td>...</td>\n",
       "      <td>...</td>\n",
       "      <td>...</td>\n",
       "      <td>...</td>\n",
       "      <td>...</td>\n",
       "    </tr>\n",
       "    <tr>\n",
       "      <th>Sala/Conjunto para Aluguel, 69m²</th>\n",
       "      <td>2</td>\n",
       "      <td>2</td>\n",
       "      <td>2</td>\n",
       "      <td>2</td>\n",
       "      <td>2</td>\n",
       "      <td>2</td>\n",
       "      <td>2</td>\n",
       "    </tr>\n",
       "    <tr>\n",
       "      <th>Sala/Conjunto para Aluguel, 78m²</th>\n",
       "      <td>2</td>\n",
       "      <td>2</td>\n",
       "      <td>2</td>\n",
       "      <td>2</td>\n",
       "      <td>2</td>\n",
       "      <td>2</td>\n",
       "      <td>2</td>\n",
       "    </tr>\n",
       "    <tr>\n",
       "      <th>Sala/Conjunto para Aluguel, 87m²</th>\n",
       "      <td>2</td>\n",
       "      <td>2</td>\n",
       "      <td>2</td>\n",
       "      <td>2</td>\n",
       "      <td>2</td>\n",
       "      <td>2</td>\n",
       "      <td>2</td>\n",
       "    </tr>\n",
       "    <tr>\n",
       "      <th>Sala/Conjunto para Venda/Aluguel 439m²</th>\n",
       "      <td>2</td>\n",
       "      <td>2</td>\n",
       "      <td>2</td>\n",
       "      <td>2</td>\n",
       "      <td>2</td>\n",
       "      <td>2</td>\n",
       "      <td>2</td>\n",
       "    </tr>\n",
       "    <tr>\n",
       "      <th>Sala/Conjunto para Venda/Aluguel 45m²</th>\n",
       "      <td>2</td>\n",
       "      <td>2</td>\n",
       "      <td>2</td>\n",
       "      <td>2</td>\n",
       "      <td>2</td>\n",
       "      <td>2</td>\n",
       "      <td>2</td>\n",
       "    </tr>\n",
       "  </tbody>\n",
       "</table>\n",
       "<p>68 rows × 7 columns</p>\n",
       "</div>"
      ],
      "text/plain": [
       "                                               Unnamed: 0  area  room  bath  \\\n",
       "product                                                                       \n",
       "Apartamento com 2 Quartos para Aluguel, 101m²           2     2     2     2   \n",
       "Apartamento com 2 Quartos para Aluguel, 62m²            1     1     1     1   \n",
       "Apartamento com 2 Quartos para Aluguel, 66m²            1     1     1     1   \n",
       "Apartamento com 2 Quartos para Aluguel, 70m²            4     4     4     4   \n",
       "Apartamento com 2 Quartos para Aluguel, 71m²            2     2     2     2   \n",
       "...                                                   ...   ...   ...   ...   \n",
       "Sala/Conjunto para Aluguel, 69m²                        2     2     2     2   \n",
       "Sala/Conjunto para Aluguel, 78m²                        2     2     2     2   \n",
       "Sala/Conjunto para Aluguel, 87m²                        2     2     2     2   \n",
       "Sala/Conjunto para Venda/Aluguel 439m²                  2     2     2     2   \n",
       "Sala/Conjunto para Venda/Aluguel 45m²                   2     2     2     2   \n",
       "\n",
       "                                               garage  adress  price  \n",
       "product                                                               \n",
       "Apartamento com 2 Quartos para Aluguel, 101m²       2       2      2  \n",
       "Apartamento com 2 Quartos para Aluguel, 62m²        1       1      1  \n",
       "Apartamento com 2 Quartos para Aluguel, 66m²        1       1      1  \n",
       "Apartamento com 2 Quartos para Aluguel, 70m²        4       4      4  \n",
       "Apartamento com 2 Quartos para Aluguel, 71m²        2       2      2  \n",
       "...                                               ...     ...    ...  \n",
       "Sala/Conjunto para Aluguel, 69m²                    2       2      2  \n",
       "Sala/Conjunto para Aluguel, 78m²                    2       2      2  \n",
       "Sala/Conjunto para Aluguel, 87m²                    2       2      2  \n",
       "Sala/Conjunto para Venda/Aluguel 439m²              2       2      2  \n",
       "Sala/Conjunto para Venda/Aluguel 45m²               2       2      2  \n",
       "\n",
       "[68 rows x 7 columns]"
      ]
     },
     "execution_count": 7,
     "metadata": {},
     "output_type": "execute_result"
    }
   ],
   "source": [
    "# Identificando os itens duplicados\n",
    "df[df.duplicated()].groupby(['product']).count()"
   ]
  },
  {
   "cell_type": "code",
   "execution_count": 8,
   "id": "0b6b274d",
   "metadata": {},
   "outputs": [
    {
     "data": {
      "text/plain": [
       "'Apartamento com 2 Quartos para Aluguel, 101m²'"
      ]
     },
     "execution_count": 8,
     "metadata": {},
     "output_type": "execute_result"
    }
   ],
   "source": [
    "# Acessando primeiro item da series\n",
    "_ = df[df.duplicated()].groupby(['product']).count().index.values\n",
    "_[0]"
   ]
  },
  {
   "cell_type": "code",
   "execution_count": 9,
   "id": "582b0ac8",
   "metadata": {},
   "outputs": [
    {
     "name": "stderr",
     "output_type": "stream",
     "text": [
      "<ipython-input-9-6ec1759d5486>:2: UserWarning: Boolean Series key will be reindexed to match DataFrame index.\n",
      "  df[df.duplicated()][df['product'] == _[0]]\n"
     ]
    },
    {
     "data": {
      "text/html": [
       "<div>\n",
       "<style scoped>\n",
       "    .dataframe tbody tr th:only-of-type {\n",
       "        vertical-align: middle;\n",
       "    }\n",
       "\n",
       "    .dataframe tbody tr th {\n",
       "        vertical-align: top;\n",
       "    }\n",
       "\n",
       "    .dataframe thead th {\n",
       "        text-align: right;\n",
       "    }\n",
       "</style>\n",
       "<table border=\"1\" class=\"dataframe\">\n",
       "  <thead>\n",
       "    <tr style=\"text-align: right;\">\n",
       "      <th></th>\n",
       "      <th>Unnamed: 0</th>\n",
       "      <th>product</th>\n",
       "      <th>area</th>\n",
       "      <th>room</th>\n",
       "      <th>bath</th>\n",
       "      <th>garage</th>\n",
       "      <th>adress</th>\n",
       "      <th>price</th>\n",
       "    </tr>\n",
       "  </thead>\n",
       "  <tbody>\n",
       "    <tr>\n",
       "      <th>860</th>\n",
       "      <td>32</td>\n",
       "      <td>Apartamento com 2 Quartos para Aluguel, 101m²</td>\n",
       "      <td>32 m²</td>\n",
       "      <td>2 Quartos</td>\n",
       "      <td>2 Banheiros</td>\n",
       "      <td>1 Vaga</td>\n",
       "      <td>Avenida Engenheiro Max de Souza, 1370 - Coquei...</td>\n",
       "      <td>R$ 1.450 /mês</td>\n",
       "    </tr>\n",
       "    <tr>\n",
       "      <th>896</th>\n",
       "      <td>32</td>\n",
       "      <td>Apartamento com 2 Quartos para Aluguel, 101m²</td>\n",
       "      <td>32 m²</td>\n",
       "      <td>2 Quartos</td>\n",
       "      <td>2 Banheiros</td>\n",
       "      <td>1 Vaga</td>\n",
       "      <td>Avenida Engenheiro Max de Souza, 1370 - Coquei...</td>\n",
       "      <td>R$ 1.450 /mês</td>\n",
       "    </tr>\n",
       "  </tbody>\n",
       "</table>\n",
       "</div>"
      ],
      "text/plain": [
       "     Unnamed: 0                                        product   area  \\\n",
       "860          32  Apartamento com 2 Quartos para Aluguel, 101m²  32 m²   \n",
       "896          32  Apartamento com 2 Quartos para Aluguel, 101m²  32 m²   \n",
       "\n",
       "          room         bath  garage  \\\n",
       "860  2 Quartos  2 Banheiros  1 Vaga   \n",
       "896  2 Quartos  2 Banheiros  1 Vaga   \n",
       "\n",
       "                                                adress          price  \n",
       "860  Avenida Engenheiro Max de Souza, 1370 - Coquei...  R$ 1.450 /mês  \n",
       "896  Avenida Engenheiro Max de Souza, 1370 - Coquei...  R$ 1.450 /mês  "
      ]
     },
     "execution_count": 9,
     "metadata": {},
     "output_type": "execute_result"
    }
   ],
   "source": [
    "# Confirmando itens duplicados\n",
    "df[df.duplicated()][df['product'] == _[0]]"
   ]
  },
  {
   "cell_type": "code",
   "execution_count": 10,
   "id": "a0b0beec",
   "metadata": {},
   "outputs": [
    {
     "name": "stdout",
     "output_type": "stream",
     "text": [
      "Total de itens do DF = 2268\n",
      "Itens duplicados = 108\n",
      "Total de itens esparados após exclusão = 2160\n",
      "Total de itens após exclusão = 2160\n"
     ]
    }
   ],
   "source": [
    "# Confirmando exclusão\n",
    "total_df = len(df)\n",
    "total_dupl = df.duplicated().sum()\n",
    "total_exp = total_df - total_dupl\n",
    "df = df.drop_duplicates()\n",
    "total_new = len(df)\n",
    "\n",
    "print(f'Total de itens do DF = {total_df}')\n",
    "print(f'Itens duplicados = {total_dupl}')\n",
    "print(f'Total de itens esparados após exclusão = {total_exp}')\n",
    "print(f'Total de itens após exclusão = {total_new}')"
   ]
  },
  {
   "cell_type": "markdown",
   "id": "8689d300",
   "metadata": {},
   "source": [
    "### Transformando os dados\n",
    "\n",
    "* Product - selecionada a primeira informação\n",
    "* Area - retirado 'm2' & transformar em int\n",
    "* Room - retirado 'quarto' & transformar em int\n",
    "* Bath - retirado 'banheiro' & transformar em int\n",
    "* garage - retirado ''vaga' & inserido 0 nos '- -' & transformar em int\n",
    "* adress - selecionado bairro\n",
    "* price - retirado cifrão, definido valores/mês & retirado '/mês' e '/dia' & transformar em int# "
   ]
  },
  {
   "cell_type": "code",
   "execution_count": 11,
   "id": "7839fd63",
   "metadata": {},
   "outputs": [
    {
     "data": {
      "text/html": [
       "<div>\n",
       "<style scoped>\n",
       "    .dataframe tbody tr th:only-of-type {\n",
       "        vertical-align: middle;\n",
       "    }\n",
       "\n",
       "    .dataframe tbody tr th {\n",
       "        vertical-align: top;\n",
       "    }\n",
       "\n",
       "    .dataframe thead th {\n",
       "        text-align: right;\n",
       "    }\n",
       "</style>\n",
       "<table border=\"1\" class=\"dataframe\">\n",
       "  <thead>\n",
       "    <tr style=\"text-align: right;\">\n",
       "      <th></th>\n",
       "      <th>Unnamed: 0</th>\n",
       "      <th>product</th>\n",
       "      <th>area</th>\n",
       "      <th>room</th>\n",
       "      <th>bath</th>\n",
       "      <th>garage</th>\n",
       "      <th>adress</th>\n",
       "      <th>price</th>\n",
       "    </tr>\n",
       "  </thead>\n",
       "  <tbody>\n",
       "    <tr>\n",
       "      <th>0</th>\n",
       "      <td>0</td>\n",
       "      <td>Sala/Conjunto para Aluguel, 30m²</td>\n",
       "      <td>30 m²</td>\n",
       "      <td>-- Quarto</td>\n",
       "      <td>1 Banheiro</td>\n",
       "      <td>1 Vaga</td>\n",
       "      <td>Rua Joe Collaço, 341 - Córrego Grande, Florian...</td>\n",
       "      <td>R$ 1.400 /mês</td>\n",
       "    </tr>\n",
       "    <tr>\n",
       "      <th>1</th>\n",
       "      <td>1</td>\n",
       "      <td>Casa com 3 Quartos para Aluguel, 230m²</td>\n",
       "      <td>30</td>\n",
       "      <td>3 Quartos</td>\n",
       "      <td>4 Banheiros</td>\n",
       "      <td>1 Vaga</td>\n",
       "      <td>Rua João Henrique Gonçalves, 313 - Canto dos A...</td>\n",
       "      <td>R$ 16.000 /mês</td>\n",
       "    </tr>\n",
       "    <tr>\n",
       "      <th>2</th>\n",
       "      <td>2</td>\n",
       "      <td>Ponto comercial/Loja/Box para Aluguel, 80m²</td>\n",
       "      <td>230 m²</td>\n",
       "      <td>-- Quarto</td>\n",
       "      <td>1 Banheiro</td>\n",
       "      <td>-- Vaga</td>\n",
       "      <td>Rua Deputado Paulo Preis, 78 - Jurerê, Florian...</td>\n",
       "      <td>R$ 6.950 /mês</td>\n",
       "    </tr>\n",
       "    <tr>\n",
       "      <th>3</th>\n",
       "      <td>3</td>\n",
       "      <td>Apartamento com 3 Quartos para Aluguel, 300m²</td>\n",
       "      <td>230</td>\n",
       "      <td>3 Quartos</td>\n",
       "      <td>5 Banheiros</td>\n",
       "      <td>2 Vagas</td>\n",
       "      <td>Avenida Governador Irineu Bornhausen, 3690 - B...</td>\n",
       "      <td>R$ 9.950 /mês</td>\n",
       "    </tr>\n",
       "    <tr>\n",
       "      <th>4</th>\n",
       "      <td>4</td>\n",
       "      <td>Consultório para Aluguel, 350m²</td>\n",
       "      <td>80 m²</td>\n",
       "      <td>-- Quarto</td>\n",
       "      <td>5 Banheiros</td>\n",
       "      <td>1 Vaga</td>\n",
       "      <td>Rua Frei Caneca, 490 - Agronômica, Florianópol...</td>\n",
       "      <td>R$ 100 /mês</td>\n",
       "    </tr>\n",
       "    <tr>\n",
       "      <th>...</th>\n",
       "      <td>...</td>\n",
       "      <td>...</td>\n",
       "      <td>...</td>\n",
       "      <td>...</td>\n",
       "      <td>...</td>\n",
       "      <td>...</td>\n",
       "      <td>...</td>\n",
       "      <td>...</td>\n",
       "    </tr>\n",
       "    <tr>\n",
       "      <th>2263</th>\n",
       "      <td>31</td>\n",
       "      <td>Apartamento com Quarto para Aluguel, 47m²</td>\n",
       "      <td>70</td>\n",
       "      <td>1 Quarto</td>\n",
       "      <td>1 Banheiro</td>\n",
       "      <td>1 Vaga</td>\n",
       "      <td>Rua Hypólito Gregório Pereira, 137 - Canasviei...</td>\n",
       "      <td>R$ 1.900 /mês</td>\n",
       "    </tr>\n",
       "    <tr>\n",
       "      <th>2264</th>\n",
       "      <td>32</td>\n",
       "      <td>Casa com 4 Quartos à Venda/Aluguel 380m²</td>\n",
       "      <td>35 m²</td>\n",
       "      <td>4 Quartos</td>\n",
       "      <td>5 Banheiros</td>\n",
       "      <td>2 Vagas</td>\n",
       "      <td>Avenida dos Búzios - Jurerê Internacional, Flo...</td>\n",
       "      <td>R$ 3.000 /dia\\nR$ 5.500.000</td>\n",
       "    </tr>\n",
       "    <tr>\n",
       "      <th>2265</th>\n",
       "      <td>33</td>\n",
       "      <td>Apartamento com 2 Quartos para Aluguel, 68m²</td>\n",
       "      <td>35</td>\n",
       "      <td>2 Quartos</td>\n",
       "      <td>1 Banheiro</td>\n",
       "      <td>1 Vaga</td>\n",
       "      <td>Avenida Luiz Boiteux Piazza - Ponta das Canas,...</td>\n",
       "      <td>R$ 420 /dia</td>\n",
       "    </tr>\n",
       "    <tr>\n",
       "      <th>2266</th>\n",
       "      <td>34</td>\n",
       "      <td>Apartamento com Quarto para Aluguel, 57m²</td>\n",
       "      <td>30 m²</td>\n",
       "      <td>1 Quarto</td>\n",
       "      <td>1 Banheiro</td>\n",
       "      <td>1 Vaga</td>\n",
       "      <td>Servidão André Leal - Cachoeira do Bom Jesus, ...</td>\n",
       "      <td>R$ 260 /dia</td>\n",
       "    </tr>\n",
       "    <tr>\n",
       "      <th>2267</th>\n",
       "      <td>35</td>\n",
       "      <td>Ponto comercial/Loja/Box para Aluguel, 288m²</td>\n",
       "      <td>30</td>\n",
       "      <td>-- Quarto</td>\n",
       "      <td>2 Banheiros</td>\n",
       "      <td>-- Vaga</td>\n",
       "      <td>Centro, Florianópolis - SC</td>\n",
       "      <td>R$ 10.000 /mês</td>\n",
       "    </tr>\n",
       "  </tbody>\n",
       "</table>\n",
       "<p>2160 rows × 8 columns</p>\n",
       "</div>"
      ],
      "text/plain": [
       "      Unnamed: 0                                        product    area  \\\n",
       "0              0               Sala/Conjunto para Aluguel, 30m²   30 m²   \n",
       "1              1         Casa com 3 Quartos para Aluguel, 230m²      30   \n",
       "2              2    Ponto comercial/Loja/Box para Aluguel, 80m²  230 m²   \n",
       "3              3  Apartamento com 3 Quartos para Aluguel, 300m²     230   \n",
       "4              4                Consultório para Aluguel, 350m²   80 m²   \n",
       "...          ...                                            ...     ...   \n",
       "2263          31      Apartamento com Quarto para Aluguel, 47m²      70   \n",
       "2264          32       Casa com 4 Quartos à Venda/Aluguel 380m²   35 m²   \n",
       "2265          33   Apartamento com 2 Quartos para Aluguel, 68m²      35   \n",
       "2266          34      Apartamento com Quarto para Aluguel, 57m²   30 m²   \n",
       "2267          35   Ponto comercial/Loja/Box para Aluguel, 288m²      30   \n",
       "\n",
       "           room         bath   garage  \\\n",
       "0     -- Quarto   1 Banheiro   1 Vaga   \n",
       "1     3 Quartos  4 Banheiros   1 Vaga   \n",
       "2     -- Quarto   1 Banheiro  -- Vaga   \n",
       "3     3 Quartos  5 Banheiros  2 Vagas   \n",
       "4     -- Quarto  5 Banheiros   1 Vaga   \n",
       "...         ...          ...      ...   \n",
       "2263   1 Quarto   1 Banheiro   1 Vaga   \n",
       "2264  4 Quartos  5 Banheiros  2 Vagas   \n",
       "2265  2 Quartos   1 Banheiro   1 Vaga   \n",
       "2266   1 Quarto   1 Banheiro   1 Vaga   \n",
       "2267  -- Quarto  2 Banheiros  -- Vaga   \n",
       "\n",
       "                                                 adress  \\\n",
       "0     Rua Joe Collaço, 341 - Córrego Grande, Florian...   \n",
       "1     Rua João Henrique Gonçalves, 313 - Canto dos A...   \n",
       "2     Rua Deputado Paulo Preis, 78 - Jurerê, Florian...   \n",
       "3     Avenida Governador Irineu Bornhausen, 3690 - B...   \n",
       "4     Rua Frei Caneca, 490 - Agronômica, Florianópol...   \n",
       "...                                                 ...   \n",
       "2263  Rua Hypólito Gregório Pereira, 137 - Canasviei...   \n",
       "2264  Avenida dos Búzios - Jurerê Internacional, Flo...   \n",
       "2265  Avenida Luiz Boiteux Piazza - Ponta das Canas,...   \n",
       "2266  Servidão André Leal - Cachoeira do Bom Jesus, ...   \n",
       "2267                         Centro, Florianópolis - SC   \n",
       "\n",
       "                            price  \n",
       "0                   R$ 1.400 /mês  \n",
       "1                  R$ 16.000 /mês  \n",
       "2                   R$ 6.950 /mês  \n",
       "3                   R$ 9.950 /mês  \n",
       "4                     R$ 100 /mês  \n",
       "...                           ...  \n",
       "2263                R$ 1.900 /mês  \n",
       "2264  R$ 3.000 /dia\\nR$ 5.500.000  \n",
       "2265                  R$ 420 /dia  \n",
       "2266                  R$ 260 /dia  \n",
       "2267               R$ 10.000 /mês  \n",
       "\n",
       "[2160 rows x 8 columns]"
      ]
     },
     "execution_count": 11,
     "metadata": {},
     "output_type": "execute_result"
    }
   ],
   "source": [
    "df"
   ]
  },
  {
   "cell_type": "code",
   "execution_count": 12,
   "id": "c156ea3d",
   "metadata": {},
   "outputs": [],
   "source": [
    "# Coluna product - Filtro de informações pertinentes\n",
    "df['product'] = [n.split(' ')[0].lower() for n in df['product']]"
   ]
  },
  {
   "cell_type": "code",
   "execution_count": 13,
   "id": "c096ccba",
   "metadata": {},
   "outputs": [],
   "source": [
    "df['area'] = [int(n.split()[0]) for n in df['area']]"
   ]
  },
  {
   "cell_type": "code",
   "execution_count": 14,
   "id": "95880dce",
   "metadata": {},
   "outputs": [],
   "source": [
    "df['room'] = [int(n.strip().replace('--', '0')[0]) for n in df['room']]"
   ]
  },
  {
   "cell_type": "code",
   "execution_count": 15,
   "id": "7c07e7dd",
   "metadata": {},
   "outputs": [],
   "source": [
    "df['bath']= [int(n.strip().replace('-', '0')[0]) for n in df['bath']]"
   ]
  },
  {
   "cell_type": "code",
   "execution_count": 16,
   "id": "cbb431ec",
   "metadata": {},
   "outputs": [],
   "source": [
    "df['garage'] = [int(n.strip().replace('-', '0')[0]) for n in df['garage']]"
   ]
  },
  {
   "cell_type": "code",
   "execution_count": 17,
   "id": "7a55cd3a",
   "metadata": {},
   "outputs": [],
   "source": [
    "# Coluna adress\n",
    "df['adress'] = [(n.split('-')[-2]).split(',')[-2].strip().lower() for n in df['adress']]"
   ]
  },
  {
   "cell_type": "code",
   "execution_count": 18,
   "id": "652f9f21",
   "metadata": {},
   "outputs": [],
   "source": [
    "# Coluna price \n",
    "df['period'] = [n.split('/')[1][:3].strip() for n in df['price']]\n",
    "df['price'] = [int(n.split(' ')[1].replace('.', '').strip()) for n in df['price']]"
   ]
  },
  {
   "cell_type": "code",
   "execution_count": 19,
   "id": "3ec33175",
   "metadata": {},
   "outputs": [],
   "source": [
    "# Colunas product & adress - alterando caracteres especiais \n",
    "df['product'] = df['product'].str.normalize('NFKD').str.encode('ascii', errors='ignore').str.decode('utf-8')\n",
    "df['adress'] = df['adress'].str.normalize('NFKD').str.encode('ascii', errors='ignore').str.decode('utf-8')"
   ]
  },
  {
   "cell_type": "code",
   "execution_count": 20,
   "id": "f012e60b",
   "metadata": {},
   "outputs": [
    {
     "data": {
      "text/plain": [
       "array(['sala/conjunto', 'casa', 'ponto', 'apartamento', 'consultorio',\n",
       "       'galpao/deposito/armazem', 'cobertura', 'sobrado', 'imovel',\n",
       "       'predio/edificio', 'kitnet/conjugado', 'loft', 'lote/terreno'],\n",
       "      dtype=object)"
      ]
     },
     "execution_count": 20,
     "metadata": {},
     "output_type": "execute_result"
    }
   ],
   "source": [
    "# Coluna product - valores\n",
    "df['product'].unique()"
   ]
  },
  {
   "cell_type": "code",
   "execution_count": 21,
   "id": "5918c034",
   "metadata": {},
   "outputs": [],
   "source": [
    "df = df.replace('sala/conjunto', 'comercial').replace('ponto', 'comercial')\n",
    "df = df.replace('imovel', 'comercial').replace('predio/edificio', 'edif_comercial')\n",
    "df = df.replace('galpao/deposito/armazem', 'deposito').replace('kitnet/conjugado', 'kitnet')\n",
    "df = df.replace('lote/terreno', 'lote')"
   ]
  },
  {
   "cell_type": "code",
   "execution_count": 22,
   "id": "6d64f3b2",
   "metadata": {},
   "outputs": [
    {
     "data": {
      "text/plain": [
       "array(['comercial', 'casa', 'apartamento', 'consultorio', 'deposito',\n",
       "       'cobertura', 'sobrado', 'edif_comercial', 'kitnet', 'loft', 'lote'],\n",
       "      dtype=object)"
      ]
     },
     "execution_count": 22,
     "metadata": {},
     "output_type": "execute_result"
    }
   ],
   "source": [
    "# Confirmando alterações\n",
    "df['product'].unique()"
   ]
  },
  {
   "cell_type": "markdown",
   "id": "eedb07da",
   "metadata": {},
   "source": [
    "### ## Valores inconsistentes | price & adress\n",
    "\n",
    "* Transformação de valores diários para mensais\n",
    "* Exclusão dos bairros 'barreiros'e 'campinas' não encontrados em Florianópolis (04 itens no total)"
   ]
  },
  {
   "cell_type": "code",
   "execution_count": 23,
   "id": "ff393723",
   "metadata": {},
   "outputs": [],
   "source": [
    "# Criando um df tratado para poder validar na íntegra os valores transformados\n",
    "#df_trt = df.copy(deep=True)"
   ]
  },
  {
   "cell_type": "code",
   "execution_count": 24,
   "id": "99a58af5",
   "metadata": {},
   "outputs": [
    {
     "data": {
      "text/html": [
       "<div>\n",
       "<style scoped>\n",
       "    .dataframe tbody tr th:only-of-type {\n",
       "        vertical-align: middle;\n",
       "    }\n",
       "\n",
       "    .dataframe tbody tr th {\n",
       "        vertical-align: top;\n",
       "    }\n",
       "\n",
       "    .dataframe thead th {\n",
       "        text-align: right;\n",
       "    }\n",
       "</style>\n",
       "<table border=\"1\" class=\"dataframe\">\n",
       "  <thead>\n",
       "    <tr style=\"text-align: right;\">\n",
       "      <th></th>\n",
       "      <th>Unnamed: 0</th>\n",
       "      <th>product</th>\n",
       "      <th>area</th>\n",
       "      <th>room</th>\n",
       "      <th>bath</th>\n",
       "      <th>garage</th>\n",
       "      <th>adress</th>\n",
       "      <th>price</th>\n",
       "      <th>period</th>\n",
       "    </tr>\n",
       "  </thead>\n",
       "  <tbody>\n",
       "    <tr>\n",
       "      <th>0</th>\n",
       "      <td>0</td>\n",
       "      <td>comercial</td>\n",
       "      <td>30</td>\n",
       "      <td>0</td>\n",
       "      <td>1</td>\n",
       "      <td>1</td>\n",
       "      <td>corrego grande</td>\n",
       "      <td>1400</td>\n",
       "      <td>mês</td>\n",
       "    </tr>\n",
       "    <tr>\n",
       "      <th>1</th>\n",
       "      <td>1</td>\n",
       "      <td>casa</td>\n",
       "      <td>30</td>\n",
       "      <td>3</td>\n",
       "      <td>4</td>\n",
       "      <td>1</td>\n",
       "      <td>canto dos aracas</td>\n",
       "      <td>16000</td>\n",
       "      <td>mês</td>\n",
       "    </tr>\n",
       "    <tr>\n",
       "      <th>2</th>\n",
       "      <td>2</td>\n",
       "      <td>comercial</td>\n",
       "      <td>230</td>\n",
       "      <td>0</td>\n",
       "      <td>1</td>\n",
       "      <td>0</td>\n",
       "      <td>jurere</td>\n",
       "      <td>6950</td>\n",
       "      <td>mês</td>\n",
       "    </tr>\n",
       "    <tr>\n",
       "      <th>3</th>\n",
       "      <td>3</td>\n",
       "      <td>apartamento</td>\n",
       "      <td>230</td>\n",
       "      <td>3</td>\n",
       "      <td>5</td>\n",
       "      <td>2</td>\n",
       "      <td>beira mar</td>\n",
       "      <td>9950</td>\n",
       "      <td>mês</td>\n",
       "    </tr>\n",
       "    <tr>\n",
       "      <th>4</th>\n",
       "      <td>4</td>\n",
       "      <td>consultorio</td>\n",
       "      <td>80</td>\n",
       "      <td>0</td>\n",
       "      <td>5</td>\n",
       "      <td>1</td>\n",
       "      <td>agronomica</td>\n",
       "      <td>100</td>\n",
       "      <td>mês</td>\n",
       "    </tr>\n",
       "    <tr>\n",
       "      <th>...</th>\n",
       "      <td>...</td>\n",
       "      <td>...</td>\n",
       "      <td>...</td>\n",
       "      <td>...</td>\n",
       "      <td>...</td>\n",
       "      <td>...</td>\n",
       "      <td>...</td>\n",
       "      <td>...</td>\n",
       "      <td>...</td>\n",
       "    </tr>\n",
       "    <tr>\n",
       "      <th>2263</th>\n",
       "      <td>31</td>\n",
       "      <td>apartamento</td>\n",
       "      <td>70</td>\n",
       "      <td>1</td>\n",
       "      <td>1</td>\n",
       "      <td>1</td>\n",
       "      <td>canasvieiras</td>\n",
       "      <td>1900</td>\n",
       "      <td>mês</td>\n",
       "    </tr>\n",
       "    <tr>\n",
       "      <th>2264</th>\n",
       "      <td>32</td>\n",
       "      <td>casa</td>\n",
       "      <td>35</td>\n",
       "      <td>4</td>\n",
       "      <td>5</td>\n",
       "      <td>2</td>\n",
       "      <td>jurere internacional</td>\n",
       "      <td>3000</td>\n",
       "      <td>dia</td>\n",
       "    </tr>\n",
       "    <tr>\n",
       "      <th>2265</th>\n",
       "      <td>33</td>\n",
       "      <td>apartamento</td>\n",
       "      <td>35</td>\n",
       "      <td>2</td>\n",
       "      <td>1</td>\n",
       "      <td>1</td>\n",
       "      <td>ponta das canas</td>\n",
       "      <td>420</td>\n",
       "      <td>dia</td>\n",
       "    </tr>\n",
       "    <tr>\n",
       "      <th>2266</th>\n",
       "      <td>34</td>\n",
       "      <td>apartamento</td>\n",
       "      <td>30</td>\n",
       "      <td>1</td>\n",
       "      <td>1</td>\n",
       "      <td>1</td>\n",
       "      <td>cachoeira do bom jesus</td>\n",
       "      <td>260</td>\n",
       "      <td>dia</td>\n",
       "    </tr>\n",
       "    <tr>\n",
       "      <th>2267</th>\n",
       "      <td>35</td>\n",
       "      <td>comercial</td>\n",
       "      <td>30</td>\n",
       "      <td>0</td>\n",
       "      <td>2</td>\n",
       "      <td>0</td>\n",
       "      <td>centro</td>\n",
       "      <td>10000</td>\n",
       "      <td>mês</td>\n",
       "    </tr>\n",
       "  </tbody>\n",
       "</table>\n",
       "<p>2160 rows × 9 columns</p>\n",
       "</div>"
      ],
      "text/plain": [
       "      Unnamed: 0      product  area  room  bath  garage  \\\n",
       "0              0    comercial    30     0     1       1   \n",
       "1              1         casa    30     3     4       1   \n",
       "2              2    comercial   230     0     1       0   \n",
       "3              3  apartamento   230     3     5       2   \n",
       "4              4  consultorio    80     0     5       1   \n",
       "...          ...          ...   ...   ...   ...     ...   \n",
       "2263          31  apartamento    70     1     1       1   \n",
       "2264          32         casa    35     4     5       2   \n",
       "2265          33  apartamento    35     2     1       1   \n",
       "2266          34  apartamento    30     1     1       1   \n",
       "2267          35    comercial    30     0     2       0   \n",
       "\n",
       "                      adress  price period  \n",
       "0             corrego grande   1400    mês  \n",
       "1           canto dos aracas  16000    mês  \n",
       "2                     jurere   6950    mês  \n",
       "3                  beira mar   9950    mês  \n",
       "4                 agronomica    100    mês  \n",
       "...                      ...    ...    ...  \n",
       "2263            canasvieiras   1900    mês  \n",
       "2264    jurere internacional   3000    dia  \n",
       "2265         ponta das canas    420    dia  \n",
       "2266  cachoeira do bom jesus    260    dia  \n",
       "2267                  centro  10000    mês  \n",
       "\n",
       "[2160 rows x 9 columns]"
      ]
     },
     "execution_count": 24,
     "metadata": {},
     "output_type": "execute_result"
    }
   ],
   "source": [
    "df"
   ]
  },
  {
   "cell_type": "code",
   "execution_count": 25,
   "id": "1de6e7cf",
   "metadata": {},
   "outputs": [
    {
     "name": "stdout",
     "output_type": "stream",
     "text": [
      "O total de valores diários é 411\n"
     ]
    }
   ],
   "source": [
    "# Verificando os valores com período 'dia'\n",
    "day_value = df[df['period']=='dia']\n",
    "print(f'O total de valores diários é {len(day_value)}')"
   ]
  },
  {
   "cell_type": "code",
   "execution_count": 26,
   "id": "813d94da",
   "metadata": {},
   "outputs": [
    {
     "data": {
      "text/plain": [
       "411"
      ]
     },
     "execution_count": 26,
     "metadata": {},
     "output_type": "execute_result"
    }
   ],
   "source": [
    "# Garantindo filtro adequado\n",
    "len(df.loc[df.period == 'dia','price'])"
   ]
  },
  {
   "cell_type": "code",
   "execution_count": 27,
   "id": "45e3990a",
   "metadata": {},
   "outputs": [],
   "source": [
    "# Transformando os valores diários em mensais (30 dias)\n",
    "df.loc[df.period == 'dia','price'] = df.loc[df.period == 'dia','price'] * 30"
   ]
  },
  {
   "cell_type": "code",
   "execution_count": 28,
   "id": "18b8c435",
   "metadata": {},
   "outputs": [
    {
     "name": "stdout",
     "output_type": "stream",
     "text": [
      "<class 'pandas.core.frame.DataFrame'>\n",
      "Int64Index: 2160 entries, 0 to 2267\n",
      "Data columns (total 7 columns):\n",
      " #   Column   Non-Null Count  Dtype \n",
      "---  ------   --------------  ----- \n",
      " 0   product  2160 non-null   object\n",
      " 1   area     2160 non-null   int64 \n",
      " 2   room     2160 non-null   int64 \n",
      " 3   bath     2160 non-null   int64 \n",
      " 4   garage   2160 non-null   int64 \n",
      " 5   adress   2160 non-null   object\n",
      " 6   price    2160 non-null   int64 \n",
      "dtypes: int64(5), object(2)\n",
      "memory usage: 135.0+ KB\n"
     ]
    }
   ],
   "source": [
    "# Deletando coluna period & Unnamed:0\n",
    "df.drop(columns=['period'], inplace=True)\n",
    "df.drop(columns=['Unnamed: 0'], inplace=True)\n",
    "df.info()"
   ]
  },
  {
   "cell_type": "markdown",
   "id": "28a82ca2",
   "metadata": {},
   "source": [
    "### Agrupandos dados\n",
    "* Amostras desbalanceada entre residencial e comercial\n",
    "* Excluído lote do df, por não pertencer a uma categoria específica de produto\n",
    "* Área e preço comercial com média mais elevadas que residencial\n",
    "* Agrupando por bairros teremos amostras desbalanceadas"
   ]
  },
  {
   "cell_type": "code",
   "execution_count": 29,
   "id": "50fe1b70",
   "metadata": {},
   "outputs": [],
   "source": [
    "#df_trt = df.copy(deep=True)"
   ]
  },
  {
   "cell_type": "markdown",
   "id": "eac2f370",
   "metadata": {},
   "source": [
    "### Analisando | product "
   ]
  },
  {
   "cell_type": "markdown",
   "id": "9cc78135",
   "metadata": {},
   "source": [
    "#### Estatística descritiva"
   ]
  },
  {
   "cell_type": "code",
   "execution_count": 30,
   "id": "ac4649e2",
   "metadata": {},
   "outputs": [
    {
     "name": "stdout",
     "output_type": "stream",
     "text": [
      "apartamento: \n",
      "              area        room        bath      garage          price\n",
      "count   824.000000  824.000000  824.000000  824.000000     824.000000\n",
      "mean    187.569175    2.157767    1.854369    1.126214    7654.103155\n",
      "std     392.900737    0.843451    0.943433    0.676703   11712.167646\n",
      "min       0.000000    0.000000    1.000000    0.000000     650.000000\n",
      "25%      54.000000    2.000000    1.000000    1.000000    1937.500000\n",
      "50%      80.000000    2.000000    2.000000    1.000000    3175.000000\n",
      "75%     158.500000    3.000000    2.000000    1.000000    9000.000000\n",
      "max    5200.000000    4.000000    6.000000    3.000000  150000.000000 \n",
      " \n",
      "cobertura: \n",
      "              area       room       bath     garage         price\n",
      "count    50.000000  50.000000  50.000000  50.000000     50.000000\n",
      "mean    181.920000   2.780000   2.780000   2.020000  14734.800000\n",
      "std     401.962271   0.763718   1.717735   1.059264  10279.730251\n",
      "min      10.000000   1.000000   1.000000   0.000000   1550.000000\n",
      "25%      51.250000   2.000000   2.000000   1.250000   6825.000000\n",
      "50%      77.500000   3.000000   2.000000   2.000000  12375.000000\n",
      "75%     141.500000   3.000000   3.000000   2.000000  19125.000000\n",
      "max    2824.000000   4.000000   7.000000   6.000000  39000.000000 \n",
      " \n",
      "kitnet: \n",
      "             area  room  bath  garage        price\n",
      "count   15.000000  15.0  15.0    15.0    15.000000\n",
      "mean   120.866667   1.0   1.0     0.0  1842.666667\n",
      "std     86.422440   0.0   0.0     0.0  2199.452746\n",
      "min     26.000000   1.0   1.0     0.0   700.000000\n",
      "25%     77.500000   1.0   1.0     0.0   875.000000\n",
      "50%     92.000000   1.0   1.0     0.0  1100.000000\n",
      "75%    125.000000   1.0   1.0     0.0  1375.000000\n",
      "max    315.000000   1.0   1.0     0.0  8250.000000 \n",
      " \n",
      "loft: \n",
      "             area     room      bath   garage       price\n",
      "count    4.000000  4.00000  4.000000  4.00000     4.00000\n",
      "mean   153.000000  1.50000  1.750000  1.50000  5670.75000\n",
      "std    164.978787  0.57735  0.957427  0.57735  2809.12743\n",
      "min     63.000000  1.00000  1.000000  1.00000  1650.00000\n",
      "25%     63.750000  1.00000  1.000000  1.00000  4954.50000\n",
      "50%     74.500000  1.50000  1.500000  1.50000  6466.00000\n",
      "75%    163.750000  2.00000  2.250000  2.00000  7182.25000\n",
      "max    400.000000  2.00000  3.000000  2.00000  8101.00000 \n",
      " \n",
      "casa: \n",
      "              area        room        bath      garage          price\n",
      "count   416.000000  416.000000  416.000000  416.000000     416.000000\n",
      "mean    209.163462    3.850962    3.663462    2.716346   43180.216346\n",
      "std     318.020242    1.604782    1.970190    1.920422   68421.151899\n",
      "min       0.000000    0.000000    1.000000    0.000000     600.000000\n",
      "25%      55.000000    3.000000    2.000000    1.000000    6000.000000\n",
      "50%      90.500000    4.000000    3.000000    2.000000   16000.000000\n",
      "75%     250.000000    5.000000    5.000000    4.000000   54000.000000\n",
      "max    3400.000000    9.000000    9.000000    9.000000  600000.000000\n"
     ]
    }
   ],
   "source": [
    "# Analisando possibilidade de agrupar >> Residenciais <<\n",
    "resid = ['apartamento', 'cobertura', 'kitnet', 'loft', 'casa']\n",
    "\n",
    "apt = df[df['product']=='apartamento'].describe()\n",
    "cob = df[df['product']=='cobertura'].describe()\n",
    "kit = df[df['product']=='kitnet'].describe()\n",
    "loft = df[df['product']=='loft'].describe()\n",
    "casa = df[df['product']=='casa'].describe()\n",
    "\n",
    "print(f'apartamento: \\n{apt} \\n \\ncobertura: \\n{cob} \\n \\nkitnet: \\n{kit} \\n \\nloft: \\n{loft} \\n \\ncasa: \\n{casa}')"
   ]
  },
  {
   "cell_type": "code",
   "execution_count": 31,
   "id": "f63eb0ee",
   "metadata": {},
   "outputs": [
    {
     "name": "stdout",
     "output_type": "stream",
     "text": [
      "comercial: \n",
      "             area       room        bath      garage          price\n",
      "count   800.00000  800.00000  800.000000  800.000000     800.000000\n",
      "mean    217.23000    0.09000    1.256250    0.863750    7923.126250\n",
      "std     517.16454    0.61634    1.277743    1.447517   23059.949116\n",
      "min       3.00000    0.00000    0.000000    0.000000     200.000000\n",
      "25%      50.00000    0.00000    1.000000    0.000000    1350.000000\n",
      "50%      90.00000    0.00000    1.000000    0.000000    2500.000000\n",
      "75%     200.00000    0.00000    1.000000    1.000000    7000.000000\n",
      "max    5200.00000    8.00000    9.000000    9.000000  388650.000000 \n",
      " \n",
      "edif_comercial: \n",
      "             area       room       bath     garage          price\n",
      "count   21.000000  21.000000  21.000000  21.000000      21.000000\n",
      "mean   159.809524   0.142857   3.000000   2.809524   73623.095238\n",
      "std    132.234118   0.654654   1.923538   2.713283   85370.672766\n",
      "min     30.000000   0.000000   0.000000   0.000000    6000.000000\n",
      "25%     65.000000   0.000000   3.000000   1.000000   22000.000000\n",
      "50%    126.000000   0.000000   3.000000   3.000000   40000.000000\n",
      "75%    234.000000   0.000000   4.000000   4.000000   55000.000000\n",
      "max    480.000000   3.000000   7.000000   9.000000  240000.000000 \n",
      " \n",
      "deposito: \n",
      "              area  room       bath     garage         price\n",
      "count    15.000000  15.0  15.000000  15.000000     15.000000\n",
      "mean    410.333333   0.0   2.666667   1.066667  20126.666667\n",
      "std     756.089627   0.0   1.951800   1.486447  12820.099546\n",
      "min      10.000000   0.0   0.000000   0.000000   3500.000000\n",
      "25%      61.000000   0.0   1.000000   0.000000   9250.000000\n",
      "50%     120.000000   0.0   2.000000   1.000000  20000.000000\n",
      "75%     401.000000   0.0   4.000000   1.000000  25000.000000\n",
      "max    3000.000000   0.0   6.000000   6.000000  44000.000000 \n",
      " \n",
      "consultorio: \n",
      "       area  room  bath  garage  price\n",
      "count   1.0   1.0   1.0     1.0    1.0\n",
      "mean   80.0   0.0   5.0     1.0  100.0\n",
      "std     NaN   NaN   NaN     NaN    NaN\n",
      "min    80.0   0.0   5.0     1.0  100.0\n",
      "25%    80.0   0.0   5.0     1.0  100.0\n",
      "50%    80.0   0.0   5.0     1.0  100.0\n",
      "75%    80.0   0.0   5.0     1.0  100.0\n",
      "max    80.0   0.0   5.0     1.0  100.0 \n"
     ]
    }
   ],
   "source": [
    "# Analisando possibilidade de agrupar >> Comerciais <<\n",
    "comerc = ['comercial', 'consultorio', 'deposito']\n",
    "\n",
    "com = df[df['product']=='comercial'].describe()\n",
    "con = df[df['product']=='consultorio'].describe()\n",
    "dep = df[df['product']=='deposito'].describe()\n",
    "edif = df[df['product']=='edif_comercial'].describe()\n",
    "\n",
    "print(f'comercial: \\n{com} \\n \\nedif_comercial: \\n{edif} \\n \\ndeposito: \\n{dep} \\n \\nconsultorio: \\n{con} ')"
   ]
  },
  {
   "cell_type": "code",
   "execution_count": 32,
   "id": "3e4ef69e",
   "metadata": {},
   "outputs": [
    {
     "data": {
      "text/html": [
       "<div>\n",
       "<style scoped>\n",
       "    .dataframe tbody tr th:only-of-type {\n",
       "        vertical-align: middle;\n",
       "    }\n",
       "\n",
       "    .dataframe tbody tr th {\n",
       "        vertical-align: top;\n",
       "    }\n",
       "\n",
       "    .dataframe thead th {\n",
       "        text-align: right;\n",
       "    }\n",
       "</style>\n",
       "<table border=\"1\" class=\"dataframe\">\n",
       "  <thead>\n",
       "    <tr style=\"text-align: right;\">\n",
       "      <th></th>\n",
       "      <th>area</th>\n",
       "      <th>room</th>\n",
       "      <th>bath</th>\n",
       "      <th>garage</th>\n",
       "      <th>price</th>\n",
       "    </tr>\n",
       "  </thead>\n",
       "  <tbody>\n",
       "    <tr>\n",
       "      <th>count</th>\n",
       "      <td>9.000000</td>\n",
       "      <td>9.0</td>\n",
       "      <td>9.000000</td>\n",
       "      <td>9.0</td>\n",
       "      <td>9.000000</td>\n",
       "    </tr>\n",
       "    <tr>\n",
       "      <th>mean</th>\n",
       "      <td>80.000000</td>\n",
       "      <td>0.0</td>\n",
       "      <td>0.111111</td>\n",
       "      <td>0.0</td>\n",
       "      <td>7800.000000</td>\n",
       "    </tr>\n",
       "    <tr>\n",
       "      <th>std</th>\n",
       "      <td>31.808018</td>\n",
       "      <td>0.0</td>\n",
       "      <td>0.333333</td>\n",
       "      <td>0.0</td>\n",
       "      <td>6664.082833</td>\n",
       "    </tr>\n",
       "    <tr>\n",
       "      <th>min</th>\n",
       "      <td>35.000000</td>\n",
       "      <td>0.0</td>\n",
       "      <td>0.000000</td>\n",
       "      <td>0.0</td>\n",
       "      <td>1500.000000</td>\n",
       "    </tr>\n",
       "    <tr>\n",
       "      <th>25%</th>\n",
       "      <td>56.000000</td>\n",
       "      <td>0.0</td>\n",
       "      <td>0.000000</td>\n",
       "      <td>0.0</td>\n",
       "      <td>4500.000000</td>\n",
       "    </tr>\n",
       "    <tr>\n",
       "      <th>50%</th>\n",
       "      <td>80.000000</td>\n",
       "      <td>0.0</td>\n",
       "      <td>0.000000</td>\n",
       "      <td>0.0</td>\n",
       "      <td>5500.000000</td>\n",
       "    </tr>\n",
       "    <tr>\n",
       "      <th>75%</th>\n",
       "      <td>94.000000</td>\n",
       "      <td>0.0</td>\n",
       "      <td>0.000000</td>\n",
       "      <td>0.0</td>\n",
       "      <td>8000.000000</td>\n",
       "    </tr>\n",
       "    <tr>\n",
       "      <th>max</th>\n",
       "      <td>140.000000</td>\n",
       "      <td>0.0</td>\n",
       "      <td>1.000000</td>\n",
       "      <td>0.0</td>\n",
       "      <td>20000.000000</td>\n",
       "    </tr>\n",
       "  </tbody>\n",
       "</table>\n",
       "</div>"
      ],
      "text/plain": [
       "             area  room      bath  garage         price\n",
       "count    9.000000   9.0  9.000000     9.0      9.000000\n",
       "mean    80.000000   0.0  0.111111     0.0   7800.000000\n",
       "std     31.808018   0.0  0.333333     0.0   6664.082833\n",
       "min     35.000000   0.0  0.000000     0.0   1500.000000\n",
       "25%     56.000000   0.0  0.000000     0.0   4500.000000\n",
       "50%     80.000000   0.0  0.000000     0.0   5500.000000\n",
       "75%     94.000000   0.0  0.000000     0.0   8000.000000\n",
       "max    140.000000   0.0  1.000000     0.0  20000.000000"
      ]
     },
     "execution_count": 32,
     "metadata": {},
     "output_type": "execute_result"
    }
   ],
   "source": [
    "# Lote - retirado pois pode sre utilizado para ambos\n",
    "\n",
    "lote = df[df['product']=='lote'].describe()\n",
    "lote"
   ]
  },
  {
   "cell_type": "code",
   "execution_count": 33,
   "id": "36812f72",
   "metadata": {},
   "outputs": [
    {
     "name": "stdout",
     "output_type": "stream",
     "text": [
      "residencial: \n",
      "              area         room         bath       garage          price\n",
      "count  1309.000000  1309.000000  1309.000000  1309.000000    1309.000000\n",
      "mean    193.346066     2.704354     2.454545     1.653934   19142.103896\n",
      "std     368.219402     1.389835     1.620432     1.439459   42980.315493\n",
      "min       0.000000     0.000000     1.000000     0.000000     600.000000\n",
      "25%      54.000000     2.000000     1.000000     1.000000    2400.000000\n",
      "50%      85.000000     3.000000     2.000000     1.000000    5500.000000\n",
      "75%     182.000000     3.000000     3.000000     2.000000   16000.000000\n",
      "max    5200.000000     9.000000     9.000000     9.000000  600000.000000 \n",
      " \n",
      "comercial: \n",
      "              area        room        bath      garage          price\n",
      "count   837.000000  837.000000  837.000000  837.000000     837.000000\n",
      "mean    219.086022    0.089606    1.329749    0.916368    9780.867384\n",
      "std     516.124579    0.611179    1.355032    1.519469   28161.230339\n",
      "min       3.000000    0.000000    0.000000    0.000000     100.000000\n",
      "25%      50.000000    0.000000    1.000000    0.000000    1382.000000\n",
      "50%      90.000000    0.000000    1.000000    0.000000    2600.000000\n",
      "75%     200.000000    0.000000    2.000000    1.000000    7730.000000\n",
      "max    5200.000000    8.000000    9.000000    9.000000  388650.000000 \n",
      " \n",
      "casa: \n",
      "              area        room        bath      garage          price\n",
      "count   416.000000  416.000000  416.000000  416.000000     416.000000\n",
      "mean    209.163462    3.850962    3.663462    2.716346   43180.216346\n",
      "std     318.020242    1.604782    1.970190    1.920422   68421.151899\n",
      "min       0.000000    0.000000    1.000000    0.000000     600.000000\n",
      "25%      55.000000    3.000000    2.000000    1.000000    6000.000000\n",
      "50%      90.500000    4.000000    3.000000    2.000000   16000.000000\n",
      "75%     250.000000    5.000000    5.000000    4.000000   54000.000000\n",
      "max    3400.000000    9.000000    9.000000    9.000000  600000.000000\n"
     ]
    }
   ],
   "source": [
    "# Agrupando os produtos\n",
    "_ = df[df['product'].isin(['apartamento', 'cobertura', 'kitnet', 'loft', 'casa'])]\n",
    "__ = df[df['product'].isin(['comercial', 'consultorio', 'deposito', 'edif_comercial'])]\n",
    "___ = df[df['product'].isin(['casa'])]\n",
    "\n",
    "print(f'residencial: \\n{_.describe()} \\n \\ncomercial: \\n{__.describe()} \\n \\ncasa: \\n{___.describe()}')"
   ]
  },
  {
   "cell_type": "code",
   "execution_count": 34,
   "id": "0cf18ffb",
   "metadata": {},
   "outputs": [
    {
     "data": {
      "text/html": [
       "<div>\n",
       "<style scoped>\n",
       "    .dataframe tbody tr th:only-of-type {\n",
       "        vertical-align: middle;\n",
       "    }\n",
       "\n",
       "    .dataframe tbody tr th {\n",
       "        vertical-align: top;\n",
       "    }\n",
       "\n",
       "    .dataframe thead th {\n",
       "        text-align: right;\n",
       "    }\n",
       "</style>\n",
       "<table border=\"1\" class=\"dataframe\">\n",
       "  <thead>\n",
       "    <tr style=\"text-align: right;\">\n",
       "      <th></th>\n",
       "      <th>area</th>\n",
       "      <th>room</th>\n",
       "      <th>bath</th>\n",
       "      <th>garage</th>\n",
       "      <th>price</th>\n",
       "    </tr>\n",
       "  </thead>\n",
       "  <tbody>\n",
       "    <tr>\n",
       "      <th>count</th>\n",
       "      <td>2160.000000</td>\n",
       "      <td>2160.000000</td>\n",
       "      <td>2160.000000</td>\n",
       "      <td>2160.000000</td>\n",
       "      <td>2160.000000</td>\n",
       "    </tr>\n",
       "    <tr>\n",
       "      <th>mean</th>\n",
       "      <td>202.648148</td>\n",
       "      <td>1.679630</td>\n",
       "      <td>2.007870</td>\n",
       "      <td>1.359722</td>\n",
       "      <td>15462.592593</td>\n",
       "    </tr>\n",
       "    <tr>\n",
       "      <th>std</th>\n",
       "      <td>430.770629</td>\n",
       "      <td>1.716647</td>\n",
       "      <td>1.617537</td>\n",
       "      <td>1.512262</td>\n",
       "      <td>38048.862945</td>\n",
       "    </tr>\n",
       "    <tr>\n",
       "      <th>min</th>\n",
       "      <td>0.000000</td>\n",
       "      <td>0.000000</td>\n",
       "      <td>0.000000</td>\n",
       "      <td>0.000000</td>\n",
       "      <td>100.000000</td>\n",
       "    </tr>\n",
       "    <tr>\n",
       "      <th>25%</th>\n",
       "      <td>52.000000</td>\n",
       "      <td>0.000000</td>\n",
       "      <td>1.000000</td>\n",
       "      <td>0.000000</td>\n",
       "      <td>1900.000000</td>\n",
       "    </tr>\n",
       "    <tr>\n",
       "      <th>50%</th>\n",
       "      <td>85.500000</td>\n",
       "      <td>2.000000</td>\n",
       "      <td>2.000000</td>\n",
       "      <td>1.000000</td>\n",
       "      <td>4000.000000</td>\n",
       "    </tr>\n",
       "    <tr>\n",
       "      <th>75%</th>\n",
       "      <td>190.500000</td>\n",
       "      <td>3.000000</td>\n",
       "      <td>3.000000</td>\n",
       "      <td>2.000000</td>\n",
       "      <td>12750.000000</td>\n",
       "    </tr>\n",
       "    <tr>\n",
       "      <th>max</th>\n",
       "      <td>5200.000000</td>\n",
       "      <td>9.000000</td>\n",
       "      <td>9.000000</td>\n",
       "      <td>9.000000</td>\n",
       "      <td>600000.000000</td>\n",
       "    </tr>\n",
       "  </tbody>\n",
       "</table>\n",
       "</div>"
      ],
      "text/plain": [
       "              area         room         bath       garage          price\n",
       "count  2160.000000  2160.000000  2160.000000  2160.000000    2160.000000\n",
       "mean    202.648148     1.679630     2.007870     1.359722   15462.592593\n",
       "std     430.770629     1.716647     1.617537     1.512262   38048.862945\n",
       "min       0.000000     0.000000     0.000000     0.000000     100.000000\n",
       "25%      52.000000     0.000000     1.000000     0.000000    1900.000000\n",
       "50%      85.500000     2.000000     2.000000     1.000000    4000.000000\n",
       "75%     190.500000     3.000000     3.000000     2.000000   12750.000000\n",
       "max    5200.000000     9.000000     9.000000     9.000000  600000.000000"
      ]
     },
     "execution_count": 34,
     "metadata": {},
     "output_type": "execute_result"
    }
   ],
   "source": [
    "df.describe()"
   ]
  },
  {
   "cell_type": "markdown",
   "id": "3ce0ef98",
   "metadata": {},
   "source": [
    "#### Agrupando"
   ]
  },
  {
   "cell_type": "code",
   "execution_count": 35,
   "id": "3904c856",
   "metadata": {},
   "outputs": [],
   "source": [
    "# criando nova coluna\n",
    "df['properties'] = df['product']"
   ]
  },
  {
   "cell_type": "code",
   "execution_count": 36,
   "id": "c4dbc37a",
   "metadata": {},
   "outputs": [],
   "source": [
    "# Definindo os grupos\n",
    "res = ['apartamento', 'cobertura', 'kitnet', 'loft', 'casa', 'sobrado']\n",
    "com = ['comercial', 'consultorio', 'deposito', 'edif_comercial']\n",
    "excluidos = ['lote']"
   ]
  },
  {
   "cell_type": "code",
   "execution_count": 37,
   "id": "23609804",
   "metadata": {},
   "outputs": [],
   "source": [
    "df['properties'] = [n.replace(n, 'comercial') if n in com else n for n in df['properties']]"
   ]
  },
  {
   "cell_type": "code",
   "execution_count": 38,
   "id": "f4d24eb2",
   "metadata": {},
   "outputs": [
    {
     "name": "stdout",
     "output_type": "stream",
     "text": [
      "Tamanho do DF atual é de 2160 itens\n",
      "Número total de lotes é 9\n",
      "Tamanho do DF após exclusão dos itens é de 2151\n"
     ]
    }
   ],
   "source": [
    "# Excluindo valores de lote\n",
    "print(f'Tamanho do DF atual é de {len(df)} itens')\n",
    "\n",
    "_ = df[df['properties'].isin(excluidos)]                          \n",
    "print(f'Número total de lotes é {len(_)}')\n",
    "      \n",
    "df = df[~df['properties'].isin(excluidos)]\n",
    "print(f'Tamanho do DF após exclusão dos itens é de {len(df)}')"
   ]
  },
  {
   "cell_type": "markdown",
   "id": "fc37bf78",
   "metadata": {},
   "source": [
    "#### Analisando | adress "
   ]
  },
  {
   "cell_type": "code",
   "execution_count": 39,
   "id": "aa8e3b4e",
   "metadata": {},
   "outputs": [
    {
     "data": {
      "text/plain": [
       "array(['corrego grande', 'canto dos aracas', 'jurere', 'beira mar',\n",
       "       'agronomica', 'campeche', 'centro', 'trindade', 'joao paulo',\n",
       "       'saco grande', 'itacorubi', 'estreito', 'canasvieiras', 'daniela',\n",
       "       'jardim atlantico', 'capoeiras', 'carvoeira', 'saco dos limoes',\n",
       "       'rio tavares', 'ingleses do rio vermelho', 'pantanal',\n",
       "       'jurere internacional', 'ingleses norte', 'cachoeira do bom jesus',\n",
       "       'ribeirao da ilha', 'santo antonio de lisboa', 'bom abrigo',\n",
       "       'lagoa da conceicao', 'coqueiros', 'lagoinha do norte',\n",
       "       'morro das pedras', 'ponta das canas', 'pantano do sul',\n",
       "       'santa monica', 'barra da lagoa', 'parque sao jorge', 'canto',\n",
       "       'monte verde', 'balneario', 'sao joao do rio vermelho',\n",
       "       'costeira do pirajubae', 'praia dos ingleses', 'cacupe',\n",
       "       'canto da lagoa', 'abraao', 'praia brava', 'monte cristo',\n",
       "       'barreiros', 'vargem grande', 'vargem pequena', 'praia mole',\n",
       "       'itaguacu', 'canajure', 'carianos', 'sambaqui', 'campinas',\n",
       "       'balneario do estreito'], dtype=object)"
      ]
     },
     "execution_count": 39,
     "metadata": {},
     "output_type": "execute_result"
    }
   ],
   "source": [
    "# Agrupando adress\n",
    "df['adress'].unique()"
   ]
  },
  {
   "cell_type": "code",
   "execution_count": 40,
   "id": "fbd193a0",
   "metadata": {},
   "outputs": [],
   "source": [
    "# Zonas e bairros de florianópolis\n",
    "norte = ['cacupe', 'santo antonio de lisboa','sambaqui', 'daniela',\n",
    "         'jurere internacional', 'jurere',  'canasvieiras', 'ponta das canas', \n",
    "         'ingleses do rio vermelho', 'lagoinha do norte', 'praia brava', 'ratones', \n",
    "         'vargem pequena', 'cachoeira do bom jesus', 'vargem grande', \n",
    "         'sao joao do rio vermelho', 'ingleses norte', 'praia dos ingleses', 'vagem do bom jesus',\n",
    "         'praia do forte', 'canajure']\n",
    "\n",
    "leste = ['costa da lagoa', 'barra da lagoa', 'lagoa da conceicao', 'praia mole', 'canto dos aracas', 'canto da lagoa']\n",
    "\n",
    "centro = ['corrego grande', 'beira mar', 'agronomica', 'pantanal', 'centro', 'trindade', \n",
    "          'joao paulo', 'saco grande', 'itacorubi', 'pantanal', 'santa monica', 'parque sao jorge',\n",
    "         'monte verde', 'jose mendes', 'centro']\n",
    "\n",
    "sul = ['campeche', 'saco dos limoes', 'rio tavares', 'ribeirao da ilha', 'morro das pedras', \n",
    "       'pantano do sul',  'costeira do pirajubae', 'armacao', 'carianos', 'tapera']\n",
    "\n",
    "continental = [ 'estreito', 'jardim atlantico', 'capoeiras', 'carvoeira', 'bom abrigo',\n",
    "               'coqueiros', 'canto', 'balneario', 'abraao', 'monte cristo', 'itaguacu',\n",
    "               'canajure', 'carianos', 'coloninha', 'balneario do estreito', 'itaguacu']      \n",
    "\n",
    "excluidos = ['barreiros', 'campinas'] # não é de Florianópolis"
   ]
  },
  {
   "cell_type": "code",
   "execution_count": 41,
   "id": "a1715ae0",
   "metadata": {},
   "outputs": [
    {
     "name": "stdout",
     "output_type": "stream",
     "text": [
      "Tamanho atual: 2151\n",
      "Tamanho itens incosistentes: 4\n",
      "Tamanho após exclusão: 2147\n"
     ]
    }
   ],
   "source": [
    "# Excluindo bairros que não encontrados em Florianópolis\n",
    "print(f'Tamanho atual: {len(df)}')\n",
    "_ = df[df['adress'].isin(excluidos)]\n",
    "print(f'Tamanho itens incosistentes: {len(_)}')\n",
    "df = df[~df['adress'].isin(excluidos)]\n",
    "print(f'Tamanho após exclusão: {len(df)}')"
   ]
  },
  {
   "cell_type": "code",
   "execution_count": 42,
   "id": "964db1e5",
   "metadata": {},
   "outputs": [
    {
     "name": "stdout",
     "output_type": "stream",
     "text": [
      "Norte: 567 \n",
      "Leste: 47 \n",
      "Centro: 1022 \n",
      "Sul: 118 \n",
      "Continente: 397\n"
     ]
    }
   ],
   "source": [
    "# Criando os grupos e Analisando tamanho das amostras - desbalanceada\n",
    "n = df[df['adress'].isin(norte)]\n",
    "l = df[df['adress'].isin(leste)]\n",
    "c = df[df['adress'].isin(centro)]\n",
    "s = df[df['adress'].isin(sul)]\n",
    "cnt = df[df['adress'].isin(continental)]\n",
    "\n",
    "print(f'Norte: {len(n)} \\nLeste: {len(l)} \\nCentro: {len(c)} \\nSul: {len(s)} \\nContinente: {len(cnt)}')"
   ]
  },
  {
   "cell_type": "code",
   "execution_count": 43,
   "id": "3c3dd9ac",
   "metadata": {},
   "outputs": [
    {
     "name": "stdout",
     "output_type": "stream",
     "text": [
      "Norte: \n",
      "              area        room        bath      garage          price\n",
      "count   567.000000  567.000000  567.000000  567.000000     567.000000\n",
      "mean    185.624339    2.774250    2.776014    1.834215   36991.075838\n",
      "std     309.804655    1.778903    1.944710    1.562828   58483.170950\n",
      "min       3.000000    0.000000    0.000000    0.000000    1013.000000\n",
      "25%      55.500000    2.000000    1.000000    1.000000    9250.000000\n",
      "50%      86.000000    2.000000    2.000000    1.000000   17800.000000\n",
      "75%     167.000000    4.000000    4.000000    2.000000   39000.000000\n",
      "max    3400.000000    9.000000    9.000000    9.000000  600000.000000 \n",
      " \n",
      "Leste: \n",
      "              area       room       bath     garage          price\n",
      "count    47.000000  47.000000  47.000000  47.000000      47.000000\n",
      "mean    191.787234   2.148936   2.361702   1.276596   26964.893617\n",
      "std     215.893284   2.264842   1.737383   1.861534   52901.844008\n",
      "min      24.000000   0.000000   0.000000   0.000000     650.000000\n",
      "25%      55.500000   0.000000   1.000000   0.000000    3350.000000\n",
      "50%      85.000000   2.000000   2.000000   1.000000   12000.000000\n",
      "75%     302.000000   3.500000   3.000000   2.000000   18000.000000\n",
      "max    1000.000000   9.000000   7.000000   8.000000  255000.000000 \n",
      " \n",
      "Centro: \n",
      "              area         room         bath       garage          price\n",
      "count  1022.000000  1022.000000  1022.000000  1022.000000    1022.000000\n",
      "mean    211.414873     1.196673     1.771037     1.095890    8544.296477\n",
      "std     479.786767     1.424381     1.426770     1.416498   25410.895795\n",
      "min       0.000000     0.000000     0.000000     0.000000     100.000000\n",
      "25%      50.250000     0.000000     1.000000     0.000000    1700.000000\n",
      "50%      85.000000     0.000000     1.000000     1.000000    2800.000000\n",
      "75%     189.000000     2.000000     2.000000     1.000000    7000.000000\n",
      "max    5200.000000     6.000000     9.000000     9.000000  388650.000000 \n",
      " \n",
      "Sul: \n",
      "              area        room        bath      garage         price\n",
      "count   118.000000  118.000000  118.000000  118.000000    118.000000\n",
      "mean    174.584746    2.000000    1.745763    1.771186   4842.966102\n",
      "std     209.937896    1.352427    0.962426    1.661073   5822.356017\n",
      "min      17.000000    0.000000    0.000000    0.000000    700.000000\n",
      "25%      50.000000    1.000000    1.000000    1.000000   1790.000000\n",
      "50%      78.500000    2.000000    1.000000    1.000000   2850.000000\n",
      "75%     193.500000    3.000000    2.000000    2.000000   5975.000000\n",
      "max    1000.000000    6.000000    5.000000    8.000000  39000.000000 \n",
      " \n",
      "Continente: \n",
      "              area        room        bath      garage         price\n",
      "count   397.000000  397.000000  397.000000  397.000000    397.000000\n",
      "mean    216.974811    1.267003    1.596977    1.279597   4535.186398\n",
      "std     510.948484    1.593625    1.306082    1.408815   6771.958156\n",
      "min      10.000000    0.000000    0.000000    0.000000    200.000000\n",
      "25%      55.000000    0.000000    1.000000    1.000000   1500.000000\n",
      "50%      86.000000    0.000000    1.000000    1.000000   2354.000000\n",
      "75%     200.000000    3.000000    2.000000    2.000000   4168.000000\n",
      "max    5186.000000    8.000000    9.000000    9.000000  60000.000000\n"
     ]
    }
   ],
   "source": [
    "print(f'Norte: \\n{n.describe()} \\n \\nLeste: \\n{l.describe()} \\n \\nCentro: \\n{c.describe()} \\n \\nSul: \\n{s.describe()} \\n \\nContinente: \\n{cnt.describe()}')"
   ]
  },
  {
   "cell_type": "code",
   "execution_count": 44,
   "id": "65951878",
   "metadata": {},
   "outputs": [
    {
     "ename": "KeyError",
     "evalue": "'neighborhood'",
     "output_type": "error",
     "traceback": [
      "\u001b[0;31m---------------------------------------------------------------------------\u001b[0m",
      "\u001b[0;31mKeyError\u001b[0m                                  Traceback (most recent call last)",
      "\u001b[0;32m/Applications/anaconda3/lib/python3.8/site-packages/pandas/core/indexes/base.py\u001b[0m in \u001b[0;36mget_loc\u001b[0;34m(self, key, method, tolerance)\u001b[0m\n\u001b[1;32m   3079\u001b[0m             \u001b[0;32mtry\u001b[0m\u001b[0;34m:\u001b[0m\u001b[0;34m\u001b[0m\u001b[0;34m\u001b[0m\u001b[0m\n\u001b[0;32m-> 3080\u001b[0;31m                 \u001b[0;32mreturn\u001b[0m \u001b[0mself\u001b[0m\u001b[0;34m.\u001b[0m\u001b[0m_engine\u001b[0m\u001b[0;34m.\u001b[0m\u001b[0mget_loc\u001b[0m\u001b[0;34m(\u001b[0m\u001b[0mcasted_key\u001b[0m\u001b[0;34m)\u001b[0m\u001b[0;34m\u001b[0m\u001b[0;34m\u001b[0m\u001b[0m\n\u001b[0m\u001b[1;32m   3081\u001b[0m             \u001b[0;32mexcept\u001b[0m \u001b[0mKeyError\u001b[0m \u001b[0;32mas\u001b[0m \u001b[0merr\u001b[0m\u001b[0;34m:\u001b[0m\u001b[0;34m\u001b[0m\u001b[0;34m\u001b[0m\u001b[0m\n",
      "\u001b[0;32mpandas/_libs/index.pyx\u001b[0m in \u001b[0;36mpandas._libs.index.IndexEngine.get_loc\u001b[0;34m()\u001b[0m\n",
      "\u001b[0;32mpandas/_libs/index.pyx\u001b[0m in \u001b[0;36mpandas._libs.index.IndexEngine.get_loc\u001b[0;34m()\u001b[0m\n",
      "\u001b[0;32mpandas/_libs/hashtable_class_helper.pxi\u001b[0m in \u001b[0;36mpandas._libs.hashtable.PyObjectHashTable.get_item\u001b[0;34m()\u001b[0m\n",
      "\u001b[0;32mpandas/_libs/hashtable_class_helper.pxi\u001b[0m in \u001b[0;36mpandas._libs.hashtable.PyObjectHashTable.get_item\u001b[0;34m()\u001b[0m\n",
      "\u001b[0;31mKeyError\u001b[0m: 'neighborhood'",
      "\nThe above exception was the direct cause of the following exception:\n",
      "\u001b[0;31mKeyError\u001b[0m                                  Traceback (most recent call last)",
      "\u001b[0;32m<ipython-input-44-4c8ed14bc9ab>\u001b[0m in \u001b[0;36m<module>\u001b[0;34m\u001b[0m\n\u001b[1;32m      1\u001b[0m \u001b[0;31m# Criando as categorias\u001b[0m\u001b[0;34m\u001b[0m\u001b[0;34m\u001b[0m\u001b[0;34m\u001b[0m\u001b[0m\n\u001b[0;32m----> 2\u001b[0;31m \u001b[0mdf\u001b[0m\u001b[0;34m[\u001b[0m\u001b[0;34m'neighborhood'\u001b[0m\u001b[0;34m]\u001b[0m \u001b[0;34m=\u001b[0m \u001b[0;34m[\u001b[0m\u001b[0mn\u001b[0m\u001b[0;34m.\u001b[0m\u001b[0mreplace\u001b[0m\u001b[0;34m(\u001b[0m\u001b[0mn\u001b[0m\u001b[0;34m,\u001b[0m \u001b[0;34m'norte'\u001b[0m\u001b[0;34m)\u001b[0m \u001b[0;32mif\u001b[0m \u001b[0mn\u001b[0m \u001b[0;32min\u001b[0m \u001b[0mnorte\u001b[0m \u001b[0;32melse\u001b[0m \u001b[0mn\u001b[0m \u001b[0;32mfor\u001b[0m \u001b[0mn\u001b[0m \u001b[0;32min\u001b[0m \u001b[0mdf\u001b[0m\u001b[0;34m[\u001b[0m\u001b[0;34m'neighborhood'\u001b[0m\u001b[0;34m]\u001b[0m\u001b[0;34m]\u001b[0m\u001b[0;34m\u001b[0m\u001b[0;34m\u001b[0m\u001b[0m\n\u001b[0m\u001b[1;32m      3\u001b[0m \u001b[0mdf\u001b[0m\u001b[0;34m[\u001b[0m\u001b[0;34m'neighborhood'\u001b[0m\u001b[0;34m]\u001b[0m \u001b[0;34m=\u001b[0m \u001b[0;34m[\u001b[0m\u001b[0mn\u001b[0m\u001b[0;34m.\u001b[0m\u001b[0mreplace\u001b[0m\u001b[0;34m(\u001b[0m\u001b[0mn\u001b[0m\u001b[0;34m,\u001b[0m \u001b[0;34m'leste'\u001b[0m\u001b[0;34m)\u001b[0m \u001b[0;32mif\u001b[0m \u001b[0mn\u001b[0m \u001b[0;32min\u001b[0m \u001b[0mleste\u001b[0m \u001b[0;32melse\u001b[0m \u001b[0mn\u001b[0m \u001b[0;32mfor\u001b[0m \u001b[0mn\u001b[0m \u001b[0;32min\u001b[0m \u001b[0mdf\u001b[0m\u001b[0;34m[\u001b[0m\u001b[0;34m'neighborhood'\u001b[0m\u001b[0;34m]\u001b[0m\u001b[0;34m]\u001b[0m\u001b[0;34m\u001b[0m\u001b[0;34m\u001b[0m\u001b[0m\n\u001b[1;32m      4\u001b[0m \u001b[0mdf\u001b[0m\u001b[0;34m[\u001b[0m\u001b[0;34m'neighborhood'\u001b[0m\u001b[0;34m]\u001b[0m \u001b[0;34m=\u001b[0m \u001b[0;34m[\u001b[0m\u001b[0mn\u001b[0m\u001b[0;34m.\u001b[0m\u001b[0mreplace\u001b[0m\u001b[0;34m(\u001b[0m\u001b[0mn\u001b[0m\u001b[0;34m,\u001b[0m \u001b[0;34m'centro'\u001b[0m\u001b[0;34m)\u001b[0m \u001b[0;32mif\u001b[0m \u001b[0mn\u001b[0m \u001b[0;32min\u001b[0m \u001b[0mcentro\u001b[0m \u001b[0;32melse\u001b[0m \u001b[0mn\u001b[0m \u001b[0;32mfor\u001b[0m \u001b[0mn\u001b[0m \u001b[0;32min\u001b[0m \u001b[0mdf\u001b[0m\u001b[0;34m[\u001b[0m\u001b[0;34m'neighborhood'\u001b[0m\u001b[0;34m]\u001b[0m\u001b[0;34m]\u001b[0m\u001b[0;34m\u001b[0m\u001b[0;34m\u001b[0m\u001b[0m\n\u001b[1;32m      5\u001b[0m \u001b[0mdf\u001b[0m\u001b[0;34m[\u001b[0m\u001b[0;34m'neighborhood'\u001b[0m\u001b[0;34m]\u001b[0m \u001b[0;34m=\u001b[0m \u001b[0;34m[\u001b[0m\u001b[0mn\u001b[0m\u001b[0;34m.\u001b[0m\u001b[0mreplace\u001b[0m\u001b[0;34m(\u001b[0m\u001b[0mn\u001b[0m\u001b[0;34m,\u001b[0m \u001b[0;34m'sul'\u001b[0m\u001b[0;34m)\u001b[0m \u001b[0;32mif\u001b[0m \u001b[0mn\u001b[0m \u001b[0;32min\u001b[0m \u001b[0msul\u001b[0m \u001b[0;32melse\u001b[0m \u001b[0mn\u001b[0m \u001b[0;32mfor\u001b[0m \u001b[0mn\u001b[0m \u001b[0;32min\u001b[0m \u001b[0mdf\u001b[0m\u001b[0;34m[\u001b[0m\u001b[0;34m'neighborhood'\u001b[0m\u001b[0;34m]\u001b[0m\u001b[0;34m]\u001b[0m\u001b[0;34m\u001b[0m\u001b[0;34m\u001b[0m\u001b[0m\n",
      "\u001b[0;32m/Applications/anaconda3/lib/python3.8/site-packages/pandas/core/frame.py\u001b[0m in \u001b[0;36m__getitem__\u001b[0;34m(self, key)\u001b[0m\n\u001b[1;32m   3022\u001b[0m             \u001b[0;32mif\u001b[0m \u001b[0mself\u001b[0m\u001b[0;34m.\u001b[0m\u001b[0mcolumns\u001b[0m\u001b[0;34m.\u001b[0m\u001b[0mnlevels\u001b[0m \u001b[0;34m>\u001b[0m \u001b[0;36m1\u001b[0m\u001b[0;34m:\u001b[0m\u001b[0;34m\u001b[0m\u001b[0;34m\u001b[0m\u001b[0m\n\u001b[1;32m   3023\u001b[0m                 \u001b[0;32mreturn\u001b[0m \u001b[0mself\u001b[0m\u001b[0;34m.\u001b[0m\u001b[0m_getitem_multilevel\u001b[0m\u001b[0;34m(\u001b[0m\u001b[0mkey\u001b[0m\u001b[0;34m)\u001b[0m\u001b[0;34m\u001b[0m\u001b[0;34m\u001b[0m\u001b[0m\n\u001b[0;32m-> 3024\u001b[0;31m             \u001b[0mindexer\u001b[0m \u001b[0;34m=\u001b[0m \u001b[0mself\u001b[0m\u001b[0;34m.\u001b[0m\u001b[0mcolumns\u001b[0m\u001b[0;34m.\u001b[0m\u001b[0mget_loc\u001b[0m\u001b[0;34m(\u001b[0m\u001b[0mkey\u001b[0m\u001b[0;34m)\u001b[0m\u001b[0;34m\u001b[0m\u001b[0;34m\u001b[0m\u001b[0m\n\u001b[0m\u001b[1;32m   3025\u001b[0m             \u001b[0;32mif\u001b[0m \u001b[0mis_integer\u001b[0m\u001b[0;34m(\u001b[0m\u001b[0mindexer\u001b[0m\u001b[0;34m)\u001b[0m\u001b[0;34m:\u001b[0m\u001b[0;34m\u001b[0m\u001b[0;34m\u001b[0m\u001b[0m\n\u001b[1;32m   3026\u001b[0m                 \u001b[0mindexer\u001b[0m \u001b[0;34m=\u001b[0m \u001b[0;34m[\u001b[0m\u001b[0mindexer\u001b[0m\u001b[0;34m]\u001b[0m\u001b[0;34m\u001b[0m\u001b[0;34m\u001b[0m\u001b[0m\n",
      "\u001b[0;32m/Applications/anaconda3/lib/python3.8/site-packages/pandas/core/indexes/base.py\u001b[0m in \u001b[0;36mget_loc\u001b[0;34m(self, key, method, tolerance)\u001b[0m\n\u001b[1;32m   3080\u001b[0m                 \u001b[0;32mreturn\u001b[0m \u001b[0mself\u001b[0m\u001b[0;34m.\u001b[0m\u001b[0m_engine\u001b[0m\u001b[0;34m.\u001b[0m\u001b[0mget_loc\u001b[0m\u001b[0;34m(\u001b[0m\u001b[0mcasted_key\u001b[0m\u001b[0;34m)\u001b[0m\u001b[0;34m\u001b[0m\u001b[0;34m\u001b[0m\u001b[0m\n\u001b[1;32m   3081\u001b[0m             \u001b[0;32mexcept\u001b[0m \u001b[0mKeyError\u001b[0m \u001b[0;32mas\u001b[0m \u001b[0merr\u001b[0m\u001b[0;34m:\u001b[0m\u001b[0;34m\u001b[0m\u001b[0;34m\u001b[0m\u001b[0m\n\u001b[0;32m-> 3082\u001b[0;31m                 \u001b[0;32mraise\u001b[0m \u001b[0mKeyError\u001b[0m\u001b[0;34m(\u001b[0m\u001b[0mkey\u001b[0m\u001b[0;34m)\u001b[0m \u001b[0;32mfrom\u001b[0m \u001b[0merr\u001b[0m\u001b[0;34m\u001b[0m\u001b[0;34m\u001b[0m\u001b[0m\n\u001b[0m\u001b[1;32m   3083\u001b[0m \u001b[0;34m\u001b[0m\u001b[0m\n\u001b[1;32m   3084\u001b[0m         \u001b[0;32mif\u001b[0m \u001b[0mtolerance\u001b[0m \u001b[0;32mis\u001b[0m \u001b[0;32mnot\u001b[0m \u001b[0;32mNone\u001b[0m\u001b[0;34m:\u001b[0m\u001b[0;34m\u001b[0m\u001b[0;34m\u001b[0m\u001b[0m\n",
      "\u001b[0;31mKeyError\u001b[0m: 'neighborhood'"
     ]
    }
   ],
   "source": [
    "# Criando as categorias\n",
    "df['neighborhood'] = [n.replace(n, 'norte') if n in norte else n for n in df['neighborhood']]\n",
    "df['neighborhood'] = [n.replace(n, 'leste') if n in leste else n for n in df['neighborhood']]\n",
    "df['neighborhood'] = [n.replace(n, 'centro') if n in centro else n for n in df['neighborhood']]\n",
    "df['neighborhood'] = [n.replace(n, 'sul') if n in sul else n for n in df['neighborhood']]\n",
    "df['neighborhood'] = [n.replace(n, 'continental') if n in continental else n for n in df['neighborhood']]"
   ]
  },
  {
   "cell_type": "code",
   "execution_count": null,
   "id": "b4d4b22b",
   "metadata": {},
   "outputs": [],
   "source": [
    "# Criando nova coluna \n",
    "df['neighborhood'] = df['adress']"
   ]
  },
  {
   "cell_type": "code",
   "execution_count": null,
   "id": "f4b47456",
   "metadata": {},
   "outputs": [],
   "source": [
    "# Criando as categorias\n",
    "df['neighborhood'] = [n.replace(n, 'norte') if n in norte else n for n in df['neighborhood']]\n",
    "df['neighborhood'] = [n.replace(n, 'leste') if n in leste else n for n in df['neighborhood']]\n",
    "df['neighborhood'] = [n.replace(n, 'centro') if n in centro else n for n in df['neighborhood']]\n",
    "df['neighborhood'] = [n.replace(n, 'sul') if n in sul else n for n in df['neighborhood']]\n",
    "df['neighborhood'] = [n.replace(n, 'continental') if n in continental else n for n in df['neighborhood']]"
   ]
  },
  {
   "cell_type": "code",
   "execution_count": null,
   "id": "71cfd53f",
   "metadata": {},
   "outputs": [],
   "source": [
    "# veirificando integridade dos dados\n",
    "df[df['neighborhood']=='centro']"
   ]
  },
  {
   "cell_type": "code",
   "execution_count": null,
   "id": "3cca48fa",
   "metadata": {},
   "outputs": [],
   "source": [
    "df[df['adress'].isin(centro)]"
   ]
  },
  {
   "cell_type": "code",
   "execution_count": null,
   "id": "04f7e1ec",
   "metadata": {},
   "outputs": [],
   "source": [
    "# Retirando variáveis não agrupadas\n",
    "df = df.drop(columns=['product', 'adress'])"
   ]
  },
  {
   "cell_type": "markdown",
   "id": "68e13c58",
   "metadata": {},
   "source": [
    "## Analisando distribuições\n",
    "* Area - Numérica contínua\n",
    "* Price - Numérica contínua\n",
    "\n",
    "* Room - Categórica\n",
    "* Bath - Categórica\n",
    "* Garage - Categórica\n",
    "* Properties - Categórica\n",
    "* Neighborhood - Categórica"
   ]
  },
  {
   "cell_type": "code",
   "execution_count": null,
   "id": "0f6eb0ff",
   "metadata": {},
   "outputs": [],
   "source": [
    "# Distribuição das Variáveis Contínuas\n",
    "n_rows=3\n",
    "n_cols=3\n",
    "# Subplots\n",
    "fig, axes = plt.subplots(nrows=n_rows, ncols=n_cols)\n",
    "fig.set_size_inches(20, 20)\n",
    "\n",
    "for i, column in enumerate(df):\n",
    "  sns.histplot(df[column], ax=axes[i//n_cols,i%n_cols], bins=10,  stat=\"density\", kde=True)\n",
    "\n",
    "plt.show()"
   ]
  },
  {
   "cell_type": "code",
   "execution_count": null,
   "id": "76737425",
   "metadata": {},
   "outputs": [],
   "source": [
    "# Analisando correlação entre as variáveis contínuas \n",
    "big_corr = (df.corr())\n",
    "plt.figure(figsize = (15,10))\n",
    "sns.heatmap(data = big_corr, linewidths=.5, annot=True,  fmt=\".2f\")\n",
    "plt.show()"
   ]
  },
  {
   "cell_type": "code",
   "execution_count": null,
   "id": "b0cdb5e3",
   "metadata": {},
   "outputs": [],
   "source": [
    "# Analisando variáveis contínuas com o target\n",
    "n_rows=4\n",
    "n_cols=2\n",
    "\n",
    "fig, axes = plt.subplots(nrows=n_rows, ncols=n_cols)\n",
    "fig.set_size_inches(20, 15)\n",
    "for i, column in enumerate(df):\n",
    "  sns.scatterplot(x=df.price, y=df[column], ax=axes[i//n_cols, i%n_cols])"
   ]
  },
  {
   "cell_type": "code",
   "execution_count": null,
   "id": "2c91518b",
   "metadata": {},
   "outputs": [],
   "source": [
    "df.info()"
   ]
  },
  {
   "cell_type": "code",
   "execution_count": null,
   "id": "c7aea587",
   "metadata": {},
   "outputs": [],
   "source": [
    "# Exportando o df para máquina local\n",
    "df.to_csv('df_trt.csv', sep=';')"
   ]
  }
 ],
 "metadata": {
  "kernelspec": {
   "display_name": "Python 3",
   "language": "python",
   "name": "python3"
  },
  "language_info": {
   "codemirror_mode": {
    "name": "ipython",
    "version": 3
   },
   "file_extension": ".py",
   "mimetype": "text/x-python",
   "name": "python",
   "nbconvert_exporter": "python",
   "pygments_lexer": "ipython3",
   "version": "3.8.8"
  }
 },
 "nbformat": 4,
 "nbformat_minor": 5
}
