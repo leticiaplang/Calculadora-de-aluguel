{
 "cells": [
  {
   "cell_type": "markdown",
   "id": "8f435532",
   "metadata": {},
   "source": [
    "## Preparing notebook"
   ]
  },
  {
   "cell_type": "code",
   "execution_count": 85,
   "id": "116b24ea",
   "metadata": {},
   "outputs": [],
   "source": [
    "# Imports\n",
    "import pandas as pd\n",
    "import numpy as np\n",
    "import matplotlib.pyplot as plt\n",
    "import seaborn as sns\n",
    "\n",
    "from sklearn.linear_model import LinearRegression\n",
    "from sklearn.metrics import r2_score, mean_squared_error"
   ]
  },
  {
   "cell_type": "code",
   "execution_count": 110,
   "id": "c3e6a7bf",
   "metadata": {},
   "outputs": [],
   "source": [
    "# DF access\n",
    "\n",
    "# Opening Train csv\n",
    "name_file = 'train.csv'\n",
    "train = pd.read_csv(name_file, sep=';')\n",
    "train = train.drop(columns='Unnamed: 0', axis=1)\n",
    "\n",
    "# Opening Test csv\n",
    "name_file = 'test.csv'\n",
    "test = pd.read_csv(name_file, sep=';')\n",
    "test = test.drop(columns='Unnamed: 0', axis=1)"
   ]
  },
  {
   "cell_type": "code",
   "execution_count": 87,
   "id": "6d928127",
   "metadata": {},
   "outputs": [
    {
     "data": {
      "text/html": [
       "<div>\n",
       "<style scoped>\n",
       "    .dataframe tbody tr th:only-of-type {\n",
       "        vertical-align: middle;\n",
       "    }\n",
       "\n",
       "    .dataframe tbody tr th {\n",
       "        vertical-align: top;\n",
       "    }\n",
       "\n",
       "    .dataframe thead th {\n",
       "        text-align: right;\n",
       "    }\n",
       "</style>\n",
       "<table border=\"1\" class=\"dataframe\">\n",
       "  <thead>\n",
       "    <tr style=\"text-align: right;\">\n",
       "      <th></th>\n",
       "      <th>area</th>\n",
       "      <th>room</th>\n",
       "      <th>bath</th>\n",
       "      <th>garage</th>\n",
       "      <th>price</th>\n",
       "      <th>properties_comercial</th>\n",
       "      <th>properties_residencial</th>\n",
       "      <th>neighborhood_centro</th>\n",
       "      <th>neighborhood_continental</th>\n",
       "      <th>neighborhood_leste</th>\n",
       "      <th>neighborhood_norte</th>\n",
       "      <th>neighborhood_sul</th>\n",
       "    </tr>\n",
       "  </thead>\n",
       "  <tbody>\n",
       "    <tr>\n",
       "      <th>0</th>\n",
       "      <td>64</td>\n",
       "      <td>2</td>\n",
       "      <td>1</td>\n",
       "      <td>1</td>\n",
       "      <td>5500</td>\n",
       "      <td>0.0</td>\n",
       "      <td>1.0</td>\n",
       "      <td>0.0</td>\n",
       "      <td>0.0</td>\n",
       "      <td>0.0</td>\n",
       "      <td>1.0</td>\n",
       "      <td>0.0</td>\n",
       "    </tr>\n",
       "    <tr>\n",
       "      <th>1</th>\n",
       "      <td>80</td>\n",
       "      <td>6</td>\n",
       "      <td>6</td>\n",
       "      <td>2</td>\n",
       "      <td>18000</td>\n",
       "      <td>0.0</td>\n",
       "      <td>1.0</td>\n",
       "      <td>0.0</td>\n",
       "      <td>0.0</td>\n",
       "      <td>0.0</td>\n",
       "      <td>1.0</td>\n",
       "      <td>0.0</td>\n",
       "    </tr>\n",
       "    <tr>\n",
       "      <th>2</th>\n",
       "      <td>86</td>\n",
       "      <td>2</td>\n",
       "      <td>2</td>\n",
       "      <td>1</td>\n",
       "      <td>13500</td>\n",
       "      <td>0.0</td>\n",
       "      <td>1.0</td>\n",
       "      <td>0.0</td>\n",
       "      <td>0.0</td>\n",
       "      <td>0.0</td>\n",
       "      <td>1.0</td>\n",
       "      <td>0.0</td>\n",
       "    </tr>\n",
       "    <tr>\n",
       "      <th>3</th>\n",
       "      <td>600</td>\n",
       "      <td>1</td>\n",
       "      <td>2</td>\n",
       "      <td>1</td>\n",
       "      <td>1700</td>\n",
       "      <td>0.0</td>\n",
       "      <td>1.0</td>\n",
       "      <td>0.0</td>\n",
       "      <td>1.0</td>\n",
       "      <td>0.0</td>\n",
       "      <td>0.0</td>\n",
       "      <td>0.0</td>\n",
       "    </tr>\n",
       "    <tr>\n",
       "      <th>4</th>\n",
       "      <td>60</td>\n",
       "      <td>1</td>\n",
       "      <td>1</td>\n",
       "      <td>0</td>\n",
       "      <td>700</td>\n",
       "      <td>0.0</td>\n",
       "      <td>1.0</td>\n",
       "      <td>0.0</td>\n",
       "      <td>0.0</td>\n",
       "      <td>0.0</td>\n",
       "      <td>0.0</td>\n",
       "      <td>1.0</td>\n",
       "    </tr>\n",
       "    <tr>\n",
       "      <th>...</th>\n",
       "      <td>...</td>\n",
       "      <td>...</td>\n",
       "      <td>...</td>\n",
       "      <td>...</td>\n",
       "      <td>...</td>\n",
       "      <td>...</td>\n",
       "      <td>...</td>\n",
       "      <td>...</td>\n",
       "      <td>...</td>\n",
       "      <td>...</td>\n",
       "      <td>...</td>\n",
       "      <td>...</td>\n",
       "    </tr>\n",
       "    <tr>\n",
       "      <th>1605</th>\n",
       "      <td>120</td>\n",
       "      <td>1</td>\n",
       "      <td>1</td>\n",
       "      <td>1</td>\n",
       "      <td>1050</td>\n",
       "      <td>0.0</td>\n",
       "      <td>1.0</td>\n",
       "      <td>0.0</td>\n",
       "      <td>0.0</td>\n",
       "      <td>0.0</td>\n",
       "      <td>1.0</td>\n",
       "      <td>0.0</td>\n",
       "    </tr>\n",
       "    <tr>\n",
       "      <th>1606</th>\n",
       "      <td>247</td>\n",
       "      <td>1</td>\n",
       "      <td>1</td>\n",
       "      <td>1</td>\n",
       "      <td>1400</td>\n",
       "      <td>0.0</td>\n",
       "      <td>1.0</td>\n",
       "      <td>0.0</td>\n",
       "      <td>0.0</td>\n",
       "      <td>0.0</td>\n",
       "      <td>1.0</td>\n",
       "      <td>0.0</td>\n",
       "    </tr>\n",
       "    <tr>\n",
       "      <th>1607</th>\n",
       "      <td>76</td>\n",
       "      <td>1</td>\n",
       "      <td>1</td>\n",
       "      <td>1</td>\n",
       "      <td>1250</td>\n",
       "      <td>0.0</td>\n",
       "      <td>1.0</td>\n",
       "      <td>0.0</td>\n",
       "      <td>1.0</td>\n",
       "      <td>0.0</td>\n",
       "      <td>0.0</td>\n",
       "      <td>0.0</td>\n",
       "    </tr>\n",
       "    <tr>\n",
       "      <th>1608</th>\n",
       "      <td>65</td>\n",
       "      <td>5</td>\n",
       "      <td>1</td>\n",
       "      <td>1</td>\n",
       "      <td>23000</td>\n",
       "      <td>0.0</td>\n",
       "      <td>1.0</td>\n",
       "      <td>0.0</td>\n",
       "      <td>1.0</td>\n",
       "      <td>0.0</td>\n",
       "      <td>0.0</td>\n",
       "      <td>0.0</td>\n",
       "    </tr>\n",
       "    <tr>\n",
       "      <th>1609</th>\n",
       "      <td>100</td>\n",
       "      <td>0</td>\n",
       "      <td>0</td>\n",
       "      <td>0</td>\n",
       "      <td>7730</td>\n",
       "      <td>1.0</td>\n",
       "      <td>0.0</td>\n",
       "      <td>1.0</td>\n",
       "      <td>0.0</td>\n",
       "      <td>0.0</td>\n",
       "      <td>0.0</td>\n",
       "      <td>0.0</td>\n",
       "    </tr>\n",
       "  </tbody>\n",
       "</table>\n",
       "<p>1610 rows × 12 columns</p>\n",
       "</div>"
      ],
      "text/plain": [
       "      area  room  bath  garage  price  properties_comercial  \\\n",
       "0       64     2     1       1   5500                   0.0   \n",
       "1       80     6     6       2  18000                   0.0   \n",
       "2       86     2     2       1  13500                   0.0   \n",
       "3      600     1     2       1   1700                   0.0   \n",
       "4       60     1     1       0    700                   0.0   \n",
       "...    ...   ...   ...     ...    ...                   ...   \n",
       "1605   120     1     1       1   1050                   0.0   \n",
       "1606   247     1     1       1   1400                   0.0   \n",
       "1607    76     1     1       1   1250                   0.0   \n",
       "1608    65     5     1       1  23000                   0.0   \n",
       "1609   100     0     0       0   7730                   1.0   \n",
       "\n",
       "      properties_residencial  neighborhood_centro  neighborhood_continental  \\\n",
       "0                        1.0                  0.0                       0.0   \n",
       "1                        1.0                  0.0                       0.0   \n",
       "2                        1.0                  0.0                       0.0   \n",
       "3                        1.0                  0.0                       1.0   \n",
       "4                        1.0                  0.0                       0.0   \n",
       "...                      ...                  ...                       ...   \n",
       "1605                     1.0                  0.0                       0.0   \n",
       "1606                     1.0                  0.0                       0.0   \n",
       "1607                     1.0                  0.0                       1.0   \n",
       "1608                     1.0                  0.0                       1.0   \n",
       "1609                     0.0                  1.0                       0.0   \n",
       "\n",
       "      neighborhood_leste  neighborhood_norte  neighborhood_sul  \n",
       "0                    0.0                 1.0               0.0  \n",
       "1                    0.0                 1.0               0.0  \n",
       "2                    0.0                 1.0               0.0  \n",
       "3                    0.0                 0.0               0.0  \n",
       "4                    0.0                 0.0               1.0  \n",
       "...                  ...                 ...               ...  \n",
       "1605                 0.0                 1.0               0.0  \n",
       "1606                 0.0                 1.0               0.0  \n",
       "1607                 0.0                 0.0               0.0  \n",
       "1608                 0.0                 0.0               0.0  \n",
       "1609                 0.0                 0.0               0.0  \n",
       "\n",
       "[1610 rows x 12 columns]"
      ]
     },
     "execution_count": 87,
     "metadata": {},
     "output_type": "execute_result"
    }
   ],
   "source": [
    "# Checking DF\n",
    "train"
   ]
  },
  {
   "cell_type": "code",
   "execution_count": 88,
   "id": "dcb4076f",
   "metadata": {},
   "outputs": [
    {
     "data": {
      "text/html": [
       "<div>\n",
       "<style scoped>\n",
       "    .dataframe tbody tr th:only-of-type {\n",
       "        vertical-align: middle;\n",
       "    }\n",
       "\n",
       "    .dataframe tbody tr th {\n",
       "        vertical-align: top;\n",
       "    }\n",
       "\n",
       "    .dataframe thead th {\n",
       "        text-align: right;\n",
       "    }\n",
       "</style>\n",
       "<table border=\"1\" class=\"dataframe\">\n",
       "  <thead>\n",
       "    <tr style=\"text-align: right;\">\n",
       "      <th></th>\n",
       "      <th>area</th>\n",
       "      <th>room</th>\n",
       "      <th>bath</th>\n",
       "      <th>garage</th>\n",
       "      <th>price</th>\n",
       "      <th>properties_comercial</th>\n",
       "      <th>properties_residencial</th>\n",
       "      <th>neighborhood_centro</th>\n",
       "      <th>neighborhood_continental</th>\n",
       "      <th>neighborhood_leste</th>\n",
       "      <th>neighborhood_norte</th>\n",
       "      <th>neighborhood_sul</th>\n",
       "    </tr>\n",
       "  </thead>\n",
       "  <tbody>\n",
       "    <tr>\n",
       "      <th>0</th>\n",
       "      <td>37</td>\n",
       "      <td>8</td>\n",
       "      <td>4</td>\n",
       "      <td>0</td>\n",
       "      <td>2900</td>\n",
       "      <td>1.0</td>\n",
       "      <td>0.0</td>\n",
       "      <td>0.0</td>\n",
       "      <td>1.0</td>\n",
       "      <td>0.0</td>\n",
       "      <td>0.0</td>\n",
       "      <td>0.0</td>\n",
       "    </tr>\n",
       "    <tr>\n",
       "      <th>1</th>\n",
       "      <td>64</td>\n",
       "      <td>3</td>\n",
       "      <td>4</td>\n",
       "      <td>1</td>\n",
       "      <td>5500</td>\n",
       "      <td>0.0</td>\n",
       "      <td>1.0</td>\n",
       "      <td>1.0</td>\n",
       "      <td>0.0</td>\n",
       "      <td>0.0</td>\n",
       "      <td>0.0</td>\n",
       "      <td>0.0</td>\n",
       "    </tr>\n",
       "    <tr>\n",
       "      <th>2</th>\n",
       "      <td>44</td>\n",
       "      <td>0</td>\n",
       "      <td>1</td>\n",
       "      <td>1</td>\n",
       "      <td>13000</td>\n",
       "      <td>1.0</td>\n",
       "      <td>0.0</td>\n",
       "      <td>0.0</td>\n",
       "      <td>1.0</td>\n",
       "      <td>0.0</td>\n",
       "      <td>0.0</td>\n",
       "      <td>0.0</td>\n",
       "    </tr>\n",
       "    <tr>\n",
       "      <th>3</th>\n",
       "      <td>76</td>\n",
       "      <td>2</td>\n",
       "      <td>2</td>\n",
       "      <td>2</td>\n",
       "      <td>18000</td>\n",
       "      <td>0.0</td>\n",
       "      <td>1.0</td>\n",
       "      <td>0.0</td>\n",
       "      <td>0.0</td>\n",
       "      <td>0.0</td>\n",
       "      <td>1.0</td>\n",
       "      <td>0.0</td>\n",
       "    </tr>\n",
       "    <tr>\n",
       "      <th>4</th>\n",
       "      <td>81</td>\n",
       "      <td>0</td>\n",
       "      <td>1</td>\n",
       "      <td>0</td>\n",
       "      <td>2500</td>\n",
       "      <td>1.0</td>\n",
       "      <td>0.0</td>\n",
       "      <td>0.0</td>\n",
       "      <td>1.0</td>\n",
       "      <td>0.0</td>\n",
       "      <td>0.0</td>\n",
       "      <td>0.0</td>\n",
       "    </tr>\n",
       "    <tr>\n",
       "      <th>...</th>\n",
       "      <td>...</td>\n",
       "      <td>...</td>\n",
       "      <td>...</td>\n",
       "      <td>...</td>\n",
       "      <td>...</td>\n",
       "      <td>...</td>\n",
       "      <td>...</td>\n",
       "      <td>...</td>\n",
       "      <td>...</td>\n",
       "      <td>...</td>\n",
       "      <td>...</td>\n",
       "      <td>...</td>\n",
       "    </tr>\n",
       "    <tr>\n",
       "      <th>532</th>\n",
       "      <td>59</td>\n",
       "      <td>3</td>\n",
       "      <td>1</td>\n",
       "      <td>1</td>\n",
       "      <td>1800</td>\n",
       "      <td>0.0</td>\n",
       "      <td>1.0</td>\n",
       "      <td>1.0</td>\n",
       "      <td>0.0</td>\n",
       "      <td>0.0</td>\n",
       "      <td>0.0</td>\n",
       "      <td>0.0</td>\n",
       "    </tr>\n",
       "    <tr>\n",
       "      <th>533</th>\n",
       "      <td>89</td>\n",
       "      <td>2</td>\n",
       "      <td>2</td>\n",
       "      <td>1</td>\n",
       "      <td>12000</td>\n",
       "      <td>0.0</td>\n",
       "      <td>1.0</td>\n",
       "      <td>0.0</td>\n",
       "      <td>0.0</td>\n",
       "      <td>0.0</td>\n",
       "      <td>1.0</td>\n",
       "      <td>0.0</td>\n",
       "    </tr>\n",
       "    <tr>\n",
       "      <th>534</th>\n",
       "      <td>360</td>\n",
       "      <td>2</td>\n",
       "      <td>2</td>\n",
       "      <td>1</td>\n",
       "      <td>3000</td>\n",
       "      <td>0.0</td>\n",
       "      <td>1.0</td>\n",
       "      <td>0.0</td>\n",
       "      <td>1.0</td>\n",
       "      <td>0.0</td>\n",
       "      <td>0.0</td>\n",
       "      <td>0.0</td>\n",
       "    </tr>\n",
       "    <tr>\n",
       "      <th>535</th>\n",
       "      <td>686</td>\n",
       "      <td>2</td>\n",
       "      <td>2</td>\n",
       "      <td>2</td>\n",
       "      <td>2800</td>\n",
       "      <td>0.0</td>\n",
       "      <td>1.0</td>\n",
       "      <td>1.0</td>\n",
       "      <td>0.0</td>\n",
       "      <td>0.0</td>\n",
       "      <td>0.0</td>\n",
       "      <td>0.0</td>\n",
       "    </tr>\n",
       "    <tr>\n",
       "      <th>536</th>\n",
       "      <td>83</td>\n",
       "      <td>1</td>\n",
       "      <td>1</td>\n",
       "      <td>1</td>\n",
       "      <td>2000</td>\n",
       "      <td>0.0</td>\n",
       "      <td>1.0</td>\n",
       "      <td>1.0</td>\n",
       "      <td>0.0</td>\n",
       "      <td>0.0</td>\n",
       "      <td>0.0</td>\n",
       "      <td>0.0</td>\n",
       "    </tr>\n",
       "  </tbody>\n",
       "</table>\n",
       "<p>537 rows × 12 columns</p>\n",
       "</div>"
      ],
      "text/plain": [
       "     area  room  bath  garage  price  properties_comercial  \\\n",
       "0      37     8     4       0   2900                   1.0   \n",
       "1      64     3     4       1   5500                   0.0   \n",
       "2      44     0     1       1  13000                   1.0   \n",
       "3      76     2     2       2  18000                   0.0   \n",
       "4      81     0     1       0   2500                   1.0   \n",
       "..    ...   ...   ...     ...    ...                   ...   \n",
       "532    59     3     1       1   1800                   0.0   \n",
       "533    89     2     2       1  12000                   0.0   \n",
       "534   360     2     2       1   3000                   0.0   \n",
       "535   686     2     2       2   2800                   0.0   \n",
       "536    83     1     1       1   2000                   0.0   \n",
       "\n",
       "     properties_residencial  neighborhood_centro  neighborhood_continental  \\\n",
       "0                       0.0                  0.0                       1.0   \n",
       "1                       1.0                  1.0                       0.0   \n",
       "2                       0.0                  0.0                       1.0   \n",
       "3                       1.0                  0.0                       0.0   \n",
       "4                       0.0                  0.0                       1.0   \n",
       "..                      ...                  ...                       ...   \n",
       "532                     1.0                  1.0                       0.0   \n",
       "533                     1.0                  0.0                       0.0   \n",
       "534                     1.0                  0.0                       1.0   \n",
       "535                     1.0                  1.0                       0.0   \n",
       "536                     1.0                  1.0                       0.0   \n",
       "\n",
       "     neighborhood_leste  neighborhood_norte  neighborhood_sul  \n",
       "0                   0.0                 0.0               0.0  \n",
       "1                   0.0                 0.0               0.0  \n",
       "2                   0.0                 0.0               0.0  \n",
       "3                   0.0                 1.0               0.0  \n",
       "4                   0.0                 0.0               0.0  \n",
       "..                  ...                 ...               ...  \n",
       "532                 0.0                 0.0               0.0  \n",
       "533                 0.0                 1.0               0.0  \n",
       "534                 0.0                 0.0               0.0  \n",
       "535                 0.0                 0.0               0.0  \n",
       "536                 0.0                 0.0               0.0  \n",
       "\n",
       "[537 rows x 12 columns]"
      ]
     },
     "execution_count": 88,
     "metadata": {},
     "output_type": "execute_result"
    }
   ],
   "source": [
    "test"
   ]
  },
  {
   "cell_type": "markdown",
   "id": "7e220e3d",
   "metadata": {},
   "source": [
    "## Feature engineering \n",
    "\n",
    "Target:\n",
    "* price - continuous\n",
    "\n",
    "Features:\n",
    "* area - continuous\n",
    "* room - ordinal\n",
    "* bath - ordinal\n",
    "* garage - ordinal\n",
    "* properties <residencial, comercial>  - binary\n",
    "* neighborhood <centro, continental, leste, norte, sul> - binary"
   ]
  },
  {
   "cell_type": "markdown",
   "id": "267a7cb3",
   "metadata": {},
   "source": [
    "### Imbalanced values"
   ]
  },
  {
   "cell_type": "code",
   "execution_count": 114,
   "id": "9ff8c6ae",
   "metadata": {},
   "outputs": [
    {
     "name": "stdout",
     "output_type": "stream",
     "text": [
      "Train residencial values = 60.87%\n",
      "Train commercial values = 39.13%\n",
      "Train downtown values = 47.20%\n",
      "Train continent values = 18.20%\n",
      "Train east values = 2.24%\n",
      "Train north values = 26.96%\n",
      "Train south values = 5.40%\n"
     ]
    }
   ],
   "source": [
    "# Train\n",
    "\n",
    "## Defining variables len\n",
    "res = len(train[train['properties_residencial'] == 1])\n",
    "com = len(train[train['properties_comercial'] == 1])\n",
    "dow = len(train[train['neighborhood_centro'] == 1])\n",
    "con = len(train[train['neighborhood_continental'] == 1])\n",
    "eas = len(train[train['neighborhood_leste'] == 1])\n",
    "nor = len(train[train['neighborhood_norte'] == 1])\n",
    "sou = len(train[train['neighborhood_sul'] == 1])\n",
    "total = len(train['properties_comercial'])\n",
    "\n",
    "## Getting the variables proportion over total values\n",
    "var = ['residencial', 'commercial', 'downtown', 'continent', 'east', 'north', 'south']\n",
    "num = [res, com, dow, con, eas, nor, sou]\n",
    "for n in range(7):\n",
    "    print(f'Train {var[n]} values = {(num[n]/total*100):.2f}%')"
   ]
  },
  {
   "cell_type": "code",
   "execution_count": 115,
   "id": "c6527519",
   "metadata": {},
   "outputs": [
    {
     "name": "stdout",
     "output_type": "stream",
     "text": [
      "Test residencial values = 62.20%\n",
      "Test commercial values = 37.80%\n",
      "Test downtown values = 48.79%\n",
      "Test continent values = 18.62%\n",
      "Test east values = 2.05%\n",
      "Test north values = 24.77%\n",
      "Test south values = 5.77%\n"
     ]
    }
   ],
   "source": [
    "# Train\n",
    "\n",
    "## Defining variables len\n",
    "res = len(test[test['properties_residencial'] == 1])\n",
    "com = len(test[test['properties_comercial'] == 1])\n",
    "dow = len(test[test['neighborhood_centro'] == 1])\n",
    "con = len(test[test['neighborhood_continental'] == 1])\n",
    "eas = len(test[test['neighborhood_leste'] == 1])\n",
    "nor = len(test[test['neighborhood_norte'] == 1])\n",
    "sou = len(test[test['neighborhood_sul'] == 1])\n",
    "total = len(test['properties_comercial'])\n",
    "\n",
    "## Getting the variables proportion over total values\n",
    "var = ['residencial', 'commercial', 'downtown', 'continent', 'east', 'north', 'south']\n",
    "num = [res, com, dow, con, eas, nor, sou]\n",
    "for n in range(7):\n",
    "    print(f'Test {var[n]} values = {(num[n]/total*100):.2f}%')"
   ]
  },
  {
   "cell_type": "markdown",
   "id": "ba0e28e8",
   "metadata": {},
   "source": [
    "### Treating outliers"
   ]
  },
  {
   "cell_type": "code",
   "execution_count": 104,
   "id": "9702c938",
   "metadata": {},
   "outputs": [
    {
     "name": "stderr",
     "output_type": "stream",
     "text": [
      "/Applications/anaconda3/lib/python3.8/site-packages/seaborn/_decorators.py:36: FutureWarning: Pass the following variable as a keyword arg: x. From version 0.12, the only valid positional argument will be `data`, and passing other arguments without an explicit keyword will result in an error or misinterpretation.\n",
      "  warnings.warn(\n",
      "/Applications/anaconda3/lib/python3.8/site-packages/seaborn/_decorators.py:36: FutureWarning: Pass the following variable as a keyword arg: x. From version 0.12, the only valid positional argument will be `data`, and passing other arguments without an explicit keyword will result in an error or misinterpretation.\n",
      "  warnings.warn(\n",
      "/Applications/anaconda3/lib/python3.8/site-packages/seaborn/_decorators.py:36: FutureWarning: Pass the following variable as a keyword arg: x. From version 0.12, the only valid positional argument will be `data`, and passing other arguments without an explicit keyword will result in an error or misinterpretation.\n",
      "  warnings.warn(\n",
      "/Applications/anaconda3/lib/python3.8/site-packages/seaborn/_decorators.py:36: FutureWarning: Pass the following variable as a keyword arg: x. From version 0.12, the only valid positional argument will be `data`, and passing other arguments without an explicit keyword will result in an error or misinterpretation.\n",
      "  warnings.warn(\n"
     ]
    },
    {
     "data": {
      "image/png": "[encoded data removed]",
      "text/plain": [
       "<Figure size 1440x1440 with 4 Axes>"
      ]
     },
     "metadata": {
      "needs_background": "light"
     },
     "output_type": "display_data"
    }
   ],
   "source": [
    "# Outliers >> below 25th whisker or above 75th whisker\n",
    "n_rows=2\n",
    "n_cols=2\n",
    "# Subplots\n",
    "fig, axes = plt.subplots(nrows=n_rows, ncols=n_cols)\n",
    "fig.set_size_inches(20, 20)\n",
    "\n",
    "sns.boxplot(train['area'], ax=axes[0, 0])\n",
    "sns.boxplot(test['area'], ax=axes[1, 0])\n",
    "sns.boxplot(train['price'], ax=axes[0, 1])\n",
    "sns.boxplot(test['price'], ax=axes[1, 1])\n",
    "\n",
    "plt.show()"
   ]
  },
  {
   "cell_type": "code",
   "execution_count": 116,
   "id": "fc5d1524",
   "metadata": {},
   "outputs": [],
   "source": [
    "# Defining  DF treated whith IQR\n",
    "\n",
    "train_iqr = train.copy(deep=True)\n",
    "test_iqr = test.copy(deep=True)"
   ]
  },
  {
   "cell_type": "code",
   "execution_count": 117,
   "id": "a80b5fb6",
   "metadata": {},
   "outputs": [
    {
     "name": "stdout",
     "output_type": "stream",
     "text": [
      "True\n",
      "True\n"
     ]
    }
   ],
   "source": [
    "print(len(train) == len(train_iqr))\n",
    "print(len(test) == len(test_iqr))"
   ]
  },
  {
   "cell_type": "code",
   "execution_count": 118,
   "id": "5076c2a5",
   "metadata": {},
   "outputs": [],
   "source": [
    "# IQR to remove outliers\n",
    "\n",
    "## Function \n",
    "def iqr_remove(df,col):\n",
    "  Q1 = df[col].quantile(0.25)\n",
    "  Q3 = df[col].quantile(0.75)\n",
    "  IQR = Q3 - Q1\n",
    "  return df[~((df[col] < (Q1 - 1.5 * IQR)) | (df[col] > (Q3 + 1.5 * IQR)))]"
   ]
  },
  {
   "cell_type": "code",
   "execution_count": 119,
   "id": "696b5835",
   "metadata": {},
   "outputs": [
    {
     "name": "stdout",
     "output_type": "stream",
     "text": [
      "Train: \n",
      "Initial sample size = 1610\n",
      "Final sample size = 1250 | 77.64%\n",
      "\n",
      "Test: \n",
      "Initial test sample size = 537\n",
      "Final test sample size = 417 | 77.65%\n"
     ]
    }
   ],
   "source": [
    "# IQR train\n",
    "print(f'Train: \\nInitial sample size = {len(train_iqr)}')\n",
    "train_iqr = iqr_remove(train_iqr, 'price')\n",
    "train_iqr = iqr_remove(train_iqr, 'area')\n",
    "print(f'Final sample size = {len(train_iqr)} | {(len(train_iqr)/len(train)*100):.2f}%')\n",
    "\n",
    "# IQR test\n",
    "print(f'\\nTest: \\nInitial test sample size = {len(test_iqr)}')\n",
    "test_iqr = iqr_remove(test_iqr, 'price')\n",
    "test_iqr = iqr_remove(test_iqr, 'area')\n",
    "print(f'Final test sample size = {len(test_iqr)} | {(len(test_iqr)/len(test)*100):.2f}%')"
   ]
  },
  {
   "cell_type": "markdown",
   "id": "265ebe51",
   "metadata": {},
   "source": [
    "## Train & Test | w/o treating imbalance or outliers"
   ]
  },
  {
   "cell_type": "markdown",
   "id": "db009d9e",
   "metadata": {},
   "source": [
    "### Breaking the train & test  into x, y"
   ]
  },
  {
   "cell_type": "code",
   "execution_count": 121,
   "id": "67e84745",
   "metadata": {},
   "outputs": [],
   "source": [
    "x_train = train.drop(columns='price')\n",
    "y_train = train['price']\n",
    "x_test = test.drop(columns='price')\n",
    "y_test = test['price']"
   ]
  },
  {
   "cell_type": "code",
   "execution_count": 122,
   "id": "f6680c6d",
   "metadata": {},
   "outputs": [
    {
     "name": "stdout",
     "output_type": "stream",
     "text": [
      " Train | x_train = 1610 | y_train = 1610\n"
     ]
    }
   ],
   "source": [
    "print(f' Train | x_train = {len(x_train)} | y_train = {len(y_train)}')"
   ]
  },
  {
   "cell_type": "code",
   "execution_count": 123,
   "id": "c629c1e4",
   "metadata": {},
   "outputs": [
    {
     "name": "stdout",
     "output_type": "stream",
     "text": [
      " Test | x_test = 537 | y_test = 537\n"
     ]
    }
   ],
   "source": [
    "print(f' Test | x_test = {len(x_test)} | y_test = {len(y_test)}')"
   ]
  },
  {
   "cell_type": "markdown",
   "id": "56ebc420",
   "metadata": {},
   "source": [
    "### Algorithms | test"
   ]
  },
  {
   "cell_type": "markdown",
   "id": "e3aa1aa2",
   "metadata": {},
   "source": [
    "#### Baseline |  Linear regression test"
   ]
  },
  {
   "cell_type": "code",
   "execution_count": 74,
   "id": "729518af",
   "metadata": {
    "collapsed": true
   },
   "outputs": [
    {
     "data": {
      "text/plain": [
       "0.4995389231461994"
      ]
     },
     "execution_count": 74,
     "metadata": {},
     "output_type": "execute_result"
    }
   ],
   "source": [
    "from sklearn.linear_model import LinearRegression\n",
    "lr = LinearRegression()\n",
    "lr.fit(x_train, y_train)\n",
    "lr.score(x_test, y_test)"
   ]
  },
  {
   "cell_type": "code",
   "execution_count": 76,
   "id": "fe19a2ec",
   "metadata": {
    "collapsed": true
   },
   "outputs": [
    {
     "data": {
      "text/plain": [
       "-0.0003942644032137732"
      ]
     },
     "execution_count": 76,
     "metadata": {},
     "output_type": "execute_result"
    }
   ],
   "source": [
    "from sklearn.dummy import DummyRegressor\n",
    "reg = DummyRegressor(strategy='mean')\n",
    "reg.fit(x_train, y_train)\n",
    "reg.score(x_test, y_test)"
   ]
  },
  {
   "cell_type": "code",
   "execution_count": 77,
   "id": "05b5f3d9",
   "metadata": {
    "collapsed": true
   },
   "outputs": [
    {
     "name": "stdout",
     "output_type": "stream",
     "text": [
      " Linear Regression    |  MSE  |  RMSE  |  R2  \n"
     ]
    },
    {
     "data": {
      "text/plain": [
       "{'train_metric': array([0.798, 0.894, 0.548]),\n",
       " 'test_metric': array([0.876, 0.936, 0.5  ])}"
      ]
     },
     "execution_count": 77,
     "metadata": {},
     "output_type": "execute_result"
    }
   ],
   "source": [
    "print( f' Linear Regression    |  MSE  |  RMSE  |  R2  ')\n",
    "{'train_metric' : np.round([mse_lr_train, rmse_lr_train, r2_score(train[target], y_pred_train)], 3),\n",
    "'test_metric' : np.round([mse_lr, rmse_lr, r2_score(test[target], y_pred_test)],3)}"
   ]
  },
  {
   "cell_type": "markdown",
   "id": "3185f3a7",
   "metadata": {},
   "source": [
    "#### Comparison | "
   ]
  },
  {
   "cell_type": "code",
   "execution_count": 95,
   "id": "3222b41c",
   "metadata": {},
   "outputs": [],
   "source": [
    "reg_list = [RidgeCV(),\n",
    "            SVR(),\n",
    "            KNeighborsRegressor(),\n",
    "            RandomForestRegressor(),\n",
    "            AdaBoostRegressor(),\n",
    "            GradientBoostingRegressor(),\n",
    "            MLPRegressor()\n",
    "            ]"
   ]
  },
  {
   "cell_type": "code",
   "execution_count": 99,
   "id": "9534d858",
   "metadata": {
    "collapsed": true
   },
   "outputs": [
    {
     "name": "stdout",
     "output_type": "stream",
     "text": [
      "Treinando Modelo RidgeCV\n",
      "R2 Score Train: 0.5481608219980725\n",
      "R2 Score Valid: 0.54 +- 0.05\n",
      "R2 Score Test: 0.49998212607720705\n",
      "================================================================================\n",
      "Treinando Modelo SVR\n",
      "R2 Score Train: 0.5690714122648676\n",
      "R2 Score Valid: 0.55 +- 0.07\n",
      "R2 Score Test: 0.5062157359417271\n",
      "================================================================================\n",
      "Treinando Modelo KNeighborsRegressor\n",
      "R2 Score Train: 0.6848917479301975\n",
      "R2 Score Valid: 0.52 +- 0.06\n",
      "R2 Score Test: 0.484969118803641\n",
      "================================================================================\n",
      "Treinando Modelo RandomForestRegressor\n",
      "R2 Score Train: 0.9129623186810992\n",
      "R2 Score Valid: 0.50 +- 0.05\n",
      "R2 Score Test: 0.48861809934896605\n",
      "================================================================================\n",
      "Treinando Modelo AdaBoostRegressor\n",
      "R2 Score Train: 0.45741113609229866\n",
      "R2 Score Valid: 0.42 +- 0.05\n",
      "R2 Score Test: 0.4009683159825106\n",
      "================================================================================\n",
      "Treinando Modelo GradientBoostingRegressor\n",
      "R2 Score Train: 0.6812532592299557\n",
      "R2 Score Valid: 0.60 +- 0.05\n",
      "R2 Score Test: 0.5777054017164773\n",
      "================================================================================\n",
      "Treinando Modelo MLPRegressor\n"
     ]
    },
    {
     "name": "stderr",
     "output_type": "stream",
     "text": [
      "/Applications/anaconda3/lib/python3.8/site-packages/sklearn/neural_network/_multilayer_perceptron.py:614: ConvergenceWarning: Stochastic Optimizer: Maximum iterations (200) reached and the optimization hasn't converged yet.\n",
      "  warnings.warn(\n",
      "/Applications/anaconda3/lib/python3.8/site-packages/sklearn/neural_network/_multilayer_perceptron.py:614: ConvergenceWarning: Stochastic Optimizer: Maximum iterations (200) reached and the optimization hasn't converged yet.\n",
      "  warnings.warn(\n",
      "/Applications/anaconda3/lib/python3.8/site-packages/sklearn/neural_network/_multilayer_perceptron.py:614: ConvergenceWarning: Stochastic Optimizer: Maximum iterations (200) reached and the optimization hasn't converged yet.\n",
      "  warnings.warn(\n",
      "/Applications/anaconda3/lib/python3.8/site-packages/sklearn/neural_network/_multilayer_perceptron.py:614: ConvergenceWarning: Stochastic Optimizer: Maximum iterations (200) reached and the optimization hasn't converged yet.\n",
      "  warnings.warn(\n",
      "/Applications/anaconda3/lib/python3.8/site-packages/sklearn/neural_network/_multilayer_perceptron.py:614: ConvergenceWarning: Stochastic Optimizer: Maximum iterations (200) reached and the optimization hasn't converged yet.\n",
      "  warnings.warn(\n"
     ]
    },
    {
     "name": "stdout",
     "output_type": "stream",
     "text": [
      "R2 Score Train: 0.5782057189593286\n",
      "R2 Score Valid: 0.55 +- 0.06\n",
      "R2 Score Test: 0.5188260468561445\n",
      "================================================================================\n"
     ]
    },
    {
     "name": "stderr",
     "output_type": "stream",
     "text": [
      "/Applications/anaconda3/lib/python3.8/site-packages/sklearn/neural_network/_multilayer_perceptron.py:614: ConvergenceWarning: Stochastic Optimizer: Maximum iterations (200) reached and the optimization hasn't converged yet.\n",
      "  warnings.warn(\n"
     ]
    }
   ],
   "source": [
    "for reg in reg_list:\n",
    "    print(f'Model training {reg.__class__.__name__}')\n",
    "    reg.fit(x_train, y_train)\n",
    "    \n",
    "    train_score = reg.score(x_train, y_train)\n",
    "    cv_scores = cross_val_score(reg, x_train, y_train)\n",
    "    test_score = reg.score(x_test, y_test)\n",
    "    \n",
    "    print(f\"R2 Score Train: {train_score}\")\n",
    "    print(f\"R2 Score Valid: {np.mean(cv_scores):.2f} +- {np.std(cv_scores):.2f}\")\n",
    "    print(f\"R2 Score Test: {test_score}\")\n",
    "    print('='*80)"
   ]
  },
  {
   "cell_type": "markdown",
   "id": "7a3de9b6",
   "metadata": {},
   "source": [
    "### Algorithms | report"
   ]
  },
  {
   "cell_type": "code",
   "execution_count": null,
   "id": "ec30a5eb",
   "metadata": {},
   "outputs": [],
   "source": [
    "report = pd.DataFrame(report).sort_values(by='cv_scores_mean', ascending=False)\n",
    "relatorio.head(10)"
   ]
  },
  {
   "cell_type": "markdown",
   "id": "7164c388",
   "metadata": {},
   "source": [
    "## Train_iqr & Test_iqr"
   ]
  },
  {
   "cell_type": "markdown",
   "id": "65c5bb28",
   "metadata": {},
   "source": [
    "### Breaking the train_iqr & test_iqr  into x, y"
   ]
  },
  {
   "cell_type": "code",
   "execution_count": null,
   "id": "01c11e88",
   "metadata": {},
   "outputs": [],
   "source": []
  },
  {
   "cell_type": "markdown",
   "id": "024feafb",
   "metadata": {},
   "source": [
    "### Algorithms | test"
   ]
  },
  {
   "cell_type": "code",
   "execution_count": null,
   "id": "9a20ce6c",
   "metadata": {},
   "outputs": [],
   "source": []
  },
  {
   "cell_type": "markdown",
   "id": "5a144ea9",
   "metadata": {},
   "source": [
    "### Algorithms | report"
   ]
  },
  {
   "cell_type": "code",
   "execution_count": null,
   "id": "e474ab07",
   "metadata": {},
   "outputs": [],
   "source": []
  },
  {
   "cell_type": "code",
   "execution_count": null,
   "id": "f7c383ca",
   "metadata": {},
   "outputs": [],
   "source": []
  },
  {
   "cell_type": "code",
   "execution_count": null,
   "id": "803e2a56",
   "metadata": {},
   "outputs": [],
   "source": []
  },
  {
   "cell_type": "code",
   "execution_count": null,
   "id": "4b4da77b",
   "metadata": {},
   "outputs": [],
   "source": []
  },
  {
   "cell_type": "code",
   "execution_count": null,
   "id": "41e802f2",
   "metadata": {},
   "outputs": [],
   "source": []
  },
  {
   "cell_type": "code",
   "execution_count": null,
   "id": "0fb6d006",
   "metadata": {},
   "outputs": [],
   "source": []
  },
  {
   "cell_type": "code",
   "execution_count": null,
   "id": "47c21a0a",
   "metadata": {},
   "outputs": [],
   "source": []
  },
  {
   "cell_type": "code",
   "execution_count": null,
   "id": "fe2cb4bd",
   "metadata": {},
   "outputs": [],
   "source": []
  },
  {
   "cell_type": "code",
   "execution_count": null,
   "id": "40a998dc",
   "metadata": {},
   "outputs": [],
   "source": []
  },
  {
   "cell_type": "code",
   "execution_count": null,
   "id": "3291270b",
   "metadata": {},
   "outputs": [],
   "source": []
  },
  {
   "cell_type": "code",
   "execution_count": null,
   "id": "210bd5b7",
   "metadata": {},
   "outputs": [],
   "source": []
  },
  {
   "cell_type": "code",
   "execution_count": null,
   "id": "6f82e84a",
   "metadata": {},
   "outputs": [],
   "source": [
    "## FROM EXPLORATORY ANALYSIS DF"
   ]
  },
  {
   "cell_type": "code",
   "execution_count": null,
   "id": "2b17dcc4",
   "metadata": {},
   "outputs": [],
   "source": [
    "train_log = train.apply(np.log1p)\n",
    "train_log"
   ]
  },
  {
   "cell_type": "code",
   "execution_count": null,
   "id": "7a1c18be",
   "metadata": {},
   "outputs": [],
   "source": [
    "# Análise de outliers\n",
    "REMOVER_OUTLIERS = False\n",
    "\n",
    "quartis = train_log.quantile([0.25,0.5,0.75])\n",
    "\n",
    "Q1 = quartis.loc[0.25]\n",
    "Q3 = quartis.loc[0.75]\n",
    "IQR = Q3-Q1\n",
    "\n",
    "k = 1.5 \n",
    "low_limit = Q1-k*IQR\n",
    "high_limit = Q1+k*IQR\n",
    "\n",
    "train_wo_outlier = train_log[train_log >= low_limit].dropna()\n",
    "train_wo_outlier = train_wo_outlier[train_wo_outlier <= high_limit].dropna()\n",
    "\n",
    "if REMOVER_OUTLIERS:\n",
    "  train = train.loc[train_wo_outlier.index]\n",
    "\n",
    "print(f'Initial train sample size: {len(train)}')\n",
    "print(f'Final train sample size: {len(train_wo_outlier)}')\n",
    "print(f'Final size is {round(len(train_wo_outlier) / len(train) * 100, 2)}% of the previous one')"
   ]
  },
  {
   "cell_type": "code",
   "execution_count": null,
   "id": "baeb43f3",
   "metadata": {},
   "outputs": [],
   "source": [
    "# Análise de outliers\n",
    "REMOVER_OUTLIERS = False\n",
    "\n",
    "quartis = test_log.quantile([0.25,0.5,0.75])\n",
    "\n",
    "Q1 = quartis.loc[0.25]\n",
    "Q3 = quartis.loc[0.75]\n",
    "IQR = Q3-Q1\n",
    "\n",
    "k = 1.5 \n",
    "low_limit = Q1-k*IQR\n",
    "high_limit = Q1+k*IQR\n",
    "\n",
    "test_wo_outlier = test_log[test_log >= low_limit].dropna()\n",
    "test_wo_outlier = test_wo_outlier[test_wo_outlier <= high_limit].dropna()\n",
    "\n",
    "if REMOVER_OUTLIERS:\n",
    "  test = test.loc[test_wo_outlier.index]\n",
    "\n",
    "print(f'Initial test sample size: {len(test)}')\n",
    "print(f'Final test sample size: {len(test_wo_outlier)}')\n",
    "print(f'Final size is {round(len(test_wo_outlier) / len(test) * 100, 2)}% of the previous one')"
   ]
  },
  {
   "cell_type": "code",
   "execution_count": null,
   "id": "61f778e4",
   "metadata": {},
   "outputs": [],
   "source": [
    "# Exportando o df para máquina local\n",
    "train_log.to_csv('train_log.csv', sep=';')\n",
    "test_log.to_csv('test_log.csv', sep=';')"
   ]
  },
  {
   "cell_type": "code",
   "execution_count": null,
   "id": "cb017aa0",
   "metadata": {},
   "outputs": [],
   "source": []
  },
  {
   "cell_type": "code",
   "execution_count": null,
   "id": "c271a3fe",
   "metadata": {},
   "outputs": [],
   "source": []
  },
  {
   "cell_type": "code",
   "execution_count": null,
   "id": "74b7ea16",
   "metadata": {},
   "outputs": [],
   "source": []
  },
  {
   "cell_type": "code",
   "execution_count": null,
   "id": "ab7c96fd",
   "metadata": {},
   "outputs": [],
   "source": []
  },
  {
   "cell_type": "code",
   "execution_count": null,
   "id": "17c42153",
   "metadata": {},
   "outputs": [],
   "source": [
    "# Removing outliers\n",
    "REMOVER_OUTLIERS = False\n",
    "\n",
    "quartis = test_log.quantile([0.25,0.5,0.75])\n",
    "\n",
    "Q1 = quartis.loc[0.25]\n",
    "Q3 = quartis.loc[0.75]\n",
    "IQR = Q3-Q1\n",
    "\n",
    "k = 1.5 \n",
    "low_limit = Q1-k*IQR\n",
    "high_limit = Q1+k*IQR\n",
    "\n",
    "test_wo_outlier = test_log[test_log >= low_limit].dropna()\n",
    "test_wo_outlier = test_wo_outlier[test_wo_outlier <= high_limit].dropna()\n",
    "\n",
    "if REMOVER_OUTLIERS:\n",
    "  test = test.loc[test_wo_outlier.index]\n",
    "\n",
    "print(f'Initial test sample size: {len(test)}')\n",
    "print(f'Final test sample size: {len(test_wo_outlier)}')\n",
    "print(f'Final size is {round(len(test_wo_outlier) / len(test) * 100, 2)}% of the previous one')"
   ]
  },
  {
   "cell_type": "code",
   "execution_count": null,
   "id": "a8ffb571",
   "metadata": {},
   "outputs": [],
   "source": []
  },
  {
   "cell_type": "code",
   "execution_count": null,
   "id": "277d7c36",
   "metadata": {},
   "outputs": [],
   "source": []
  },
  {
   "cell_type": "code",
   "execution_count": null,
   "id": "1f37314b",
   "metadata": {},
   "outputs": [],
   "source": []
  },
  {
   "cell_type": "code",
   "execution_count": null,
   "id": "5103f204",
   "metadata": {},
   "outputs": [],
   "source": []
  },
  {
   "cell_type": "code",
   "execution_count": null,
   "id": "967a19ad",
   "metadata": {},
   "outputs": [],
   "source": []
  },
  {
   "cell_type": "code",
   "execution_count": null,
   "id": "584827b1",
   "metadata": {},
   "outputs": [],
   "source": []
  },
  {
   "cell_type": "code",
   "execution_count": null,
   "id": "ec512166",
   "metadata": {},
   "outputs": [],
   "source": []
  },
  {
   "cell_type": "code",
   "execution_count": null,
   "id": "934c34d6",
   "metadata": {},
   "outputs": [],
   "source": []
  },
  {
   "cell_type": "code",
   "execution_count": null,
   "id": "e9ebbf64",
   "metadata": {},
   "outputs": [],
   "source": []
  },
  {
   "cell_type": "code",
   "execution_count": null,
   "id": "2614cd84",
   "metadata": {},
   "outputs": [],
   "source": []
  },
  {
   "cell_type": "code",
   "execution_count": null,
   "id": "103efcd8",
   "metadata": {},
   "outputs": [],
   "source": []
  },
  {
   "cell_type": "code",
   "execution_count": null,
   "id": "7de5e522",
   "metadata": {},
   "outputs": [],
   "source": []
  },
  {
   "cell_type": "code",
   "execution_count": null,
   "id": "ecc6b6c1",
   "metadata": {},
   "outputs": [],
   "source": []
  },
  {
   "cell_type": "code",
   "execution_count": null,
   "id": "b5fafb92",
   "metadata": {},
   "outputs": [],
   "source": []
  },
  {
   "cell_type": "code",
   "execution_count": null,
   "id": "03ddc7e2",
   "metadata": {},
   "outputs": [],
   "source": []
  },
  {
   "cell_type": "code",
   "execution_count": null,
   "id": "1ff0dd5f",
   "metadata": {},
   "outputs": [],
   "source": []
  },
  {
   "cell_type": "code",
   "execution_count": 42,
   "id": "346c9250",
   "metadata": {},
   "outputs": [],
   "source": [
    "features = ['area', 'room', 'bath', 'garage', 'properties_comercial',\n",
    "           'properties_residencial', 'neighborhood_centro',\n",
    "           'neighborhood_continental', 'neighborhood_leste', 'neighborhood_norte',\n",
    "           'neighborhood_sul']\n",
    "target = ['price']"
   ]
  },
  {
   "cell_type": "code",
   "execution_count": 43,
   "id": "3b97ad8a",
   "metadata": {},
   "outputs": [
    {
     "data": {
      "text/plain": [
       "LinearRegression(fit_intercept=1)"
      ]
     },
     "execution_count": 43,
     "metadata": {},
     "output_type": "execute_result"
    }
   ],
   "source": [
    "model = LinearRegression(fit_intercept=1)\n",
    "model.fit(train.drop(target, axis=1), train[target])"
   ]
  },
  {
   "cell_type": "code",
   "execution_count": 44,
   "id": "9e3f22ee",
   "metadata": {},
   "outputs": [],
   "source": [
    "y_pred_train = model.predict(train.drop(target, axis=1))\n",
    "y_pred_test = model.predict(test.drop(target, axis=1))"
   ]
  },
  {
   "cell_type": "code",
   "execution_count": 55,
   "id": "557be02b",
   "metadata": {},
   "outputs": [
    {
     "name": "stdout",
     "output_type": "stream",
     "text": [
      " Linear Regression    |  MSE  |  RMSE  |  R2  \n"
     ]
    },
    {
     "data": {
      "text/plain": [
       "{'train_metric': array([0.798, 0.894, 0.548]),\n",
       " 'test_metric': array([0.876, 0.936, 0.5  ])}"
      ]
     },
     "execution_count": 55,
     "metadata": {},
     "output_type": "execute_result"
    }
   ],
   "source": [
    "# Train\n",
    "\n",
    "mse_lr_train = mean_squared_error(train[target], y_pred_train)\n",
    "rmse_lr_train = mse_lr_train ** 0.5\n",
    "\n",
    "# Test\n",
    "mse_lr = mean_squared_error(test[target], y_pred_test)\n",
    "rmse_lr = mse_lr ** 0.5\n",
    "\n",
    "print( f' Linear Regression    |  MSE  |  RMSE  |  R2  ')\n",
    "{'train_metric' : np.round([mse_lr_train, rmse_lr_train, r2_score(train[target], y_pred_train)], 3),\n",
    "'test_metric' : np.round([mse_lr, rmse_lr, r2_score(test[target], y_pred_test)],3)}\n"
   ]
  },
  {
   "cell_type": "code",
   "execution_count": 90,
   "id": "1fa3b624",
   "metadata": {},
   "outputs": [
    {
     "data": {
      "image/png": "[encoded data removed]",
      "text/plain": [
       "<Figure size 720x720 with 1 Axes>"
      ]
     },
     "metadata": {
      "needs_background": "light"
     },
     "output_type": "display_data"
    }
   ],
   "source": [
    "plt.figure(figsize=(10,10))\n",
    "plt.scatter(test.index, y_pred_test)\n",
    "plt.scatter(test.index, test[target])\n",
    "plt.legend([\"Teste\",\"real\"])\n",
    "plt.show()"
   ]
  },
  {
   "cell_type": "code",
   "execution_count": 91,
   "id": "5c03babe",
   "metadata": {},
   "outputs": [
    {
     "name": "stdout",
     "output_type": "stream",
     "text": [
      "Collecting xgboost\n",
      "  Downloading xgboost-1.5.1-py3-none-macosx_10_15_x86_64.macosx_11_0_x86_64.macosx_12_0_x86_64.whl (1.3 MB)\n",
      "\u001b[K     |████████████████████████████████| 1.3 MB 1.6 MB/s eta 0:00:01\n",
      "\u001b[?25hRequirement already satisfied: numpy in /Applications/anaconda3/lib/python3.8/site-packages (from xgboost) (1.20.1)\n",
      "Requirement already satisfied: scipy in /Applications/anaconda3/lib/python3.8/site-packages (from xgboost) (1.6.2)\n",
      "Installing collected packages: xgboost\n",
      "Successfully installed xgboost-1.5.1\n"
     ]
    }
   ],
   "source": [
    "! pip install xgboost"
   ]
  },
  {
   "cell_type": "code",
   "execution_count": 93,
   "id": "cd1c58d8",
   "metadata": {},
   "outputs": [],
   "source": [
    "from sklearn.linear_model import RidgeCV, Lasso, ElasticNet, LassoLars, HuberRegressor\n",
    "from sklearn.svm import SVR\n",
    "from sklearn.neighbors import KNeighborsRegressor\n",
    "from sklearn.ensemble import GradientBoostingRegressor, AdaBoostRegressor\n",
    "from sklearn.neural_network import MLPRegressor\n",
    "from sklearn.ensemble import RandomForestRegressor\n",
    "from sklearn.model_selection import cross_val_score\n",
    "import numpy as np"
   ]
  },
  {
   "cell_type": "code",
   "execution_count": 97,
   "id": "60523be5",
   "metadata": {},
   "outputs": [
    {
     "name": "stdout",
     "output_type": "stream",
     "text": [
      "Treinando Modelo RidgeCV\n",
      "R2 Score Train: 0.5481608219980725\n",
      "R2 Score Valid: 0.54 +- 0.05\n",
      "R2 Score Test: 0.49998212607720705\n",
      "================================================================================\n",
      "Treinando Modelo SVR\n",
      "R2 Score Train: 0.5690714122648676\n",
      "R2 Score Valid: 0.55 +- 0.07\n",
      "R2 Score Test: 0.5062157359417271\n",
      "================================================================================\n",
      "Treinando Modelo KNeighborsRegressor\n",
      "R2 Score Train: 0.6848917479301975\n",
      "R2 Score Valid: 0.52 +- 0.06\n",
      "R2 Score Test: 0.484969118803641\n",
      "================================================================================\n",
      "Treinando Modelo RandomForestRegressor\n",
      "R2 Score Train: 0.9137154922063003\n",
      "R2 Score Valid: 0.51 +- 0.05\n",
      "R2 Score Test: 0.4828974147074735\n",
      "================================================================================\n",
      "Treinando Modelo AdaBoostRegressor\n",
      "R2 Score Train: 0.47211922396079387\n",
      "R2 Score Valid: 0.40 +- 0.05\n",
      "R2 Score Test: 0.4042846791063882\n",
      "================================================================================\n",
      "Treinando Modelo GradientBoostingRegressor\n",
      "R2 Score Train: 0.6812532592299557\n",
      "R2 Score Valid: 0.60 +- 0.05\n",
      "R2 Score Test: 0.5777331913812919\n",
      "================================================================================\n",
      "Treinando Modelo MLPRegressor\n"
     ]
    },
    {
     "name": "stderr",
     "output_type": "stream",
     "text": [
      "/Applications/anaconda3/lib/python3.8/site-packages/sklearn/neural_network/_multilayer_perceptron.py:614: ConvergenceWarning: Stochastic Optimizer: Maximum iterations (200) reached and the optimization hasn't converged yet.\n",
      "  warnings.warn(\n",
      "/Applications/anaconda3/lib/python3.8/site-packages/sklearn/neural_network/_multilayer_perceptron.py:614: ConvergenceWarning: Stochastic Optimizer: Maximum iterations (200) reached and the optimization hasn't converged yet.\n",
      "  warnings.warn(\n",
      "/Applications/anaconda3/lib/python3.8/site-packages/sklearn/neural_network/_multilayer_perceptron.py:614: ConvergenceWarning: Stochastic Optimizer: Maximum iterations (200) reached and the optimization hasn't converged yet.\n",
      "  warnings.warn(\n",
      "/Applications/anaconda3/lib/python3.8/site-packages/sklearn/neural_network/_multilayer_perceptron.py:614: ConvergenceWarning: Stochastic Optimizer: Maximum iterations (200) reached and the optimization hasn't converged yet.\n",
      "  warnings.warn(\n"
     ]
    },
    {
     "name": "stdout",
     "output_type": "stream",
     "text": [
      "R2 Score Train: 0.5795497860651309\n",
      "R2 Score Valid: 0.56 +- 0.05\n",
      "R2 Score Test: 0.5105564520294363\n",
      "================================================================================\n"
     ]
    },
    {
     "name": "stderr",
     "output_type": "stream",
     "text": [
      "/Applications/anaconda3/lib/python3.8/site-packages/sklearn/neural_network/_multilayer_perceptron.py:614: ConvergenceWarning: Stochastic Optimizer: Maximum iterations (200) reached and the optimization hasn't converged yet.\n",
      "  warnings.warn(\n"
     ]
    }
   ],
   "source": [
    " {test_score}\")\n",
    "    print('='*80)"
   ]
  },
  {
   "cell_type": "code",
   "execution_count": null,
   "id": "6d6f83b6",
   "metadata": {},
   "outputs": [],
   "source": []
  },
  {
   "cell_type": "code",
   "execution_count": null,
   "id": "141aa2d1",
   "metadata": {},
   "outputs": [],
   "source": []
  },
  {
   "cell_type": "code",
   "execution_count": null,
   "id": "794210f3",
   "metadata": {},
   "outputs": [],
   "source": []
  },
  {
   "cell_type": "code",
   "execution_count": null,
   "id": "e902e5e8",
   "metadata": {},
   "outputs": [],
   "source": []
  },
  {
   "cell_type": "code",
   "execution_count": null,
   "id": "74411033",
   "metadata": {},
   "outputs": [],
   "source": []
  },
  {
   "cell_type": "code",
   "execution_count": null,
   "id": "5e6e0cc0",
   "metadata": {},
   "outputs": [],
   "source": []
  },
  {
   "cell_type": "code",
   "execution_count": null,
   "id": "34660aa6",
   "metadata": {},
   "outputs": [],
   "source": []
  },
  {
   "cell_type": "code",
   "execution_count": null,
   "id": "a5fdb738",
   "metadata": {},
   "outputs": [],
   "source": []
  },
  {
   "cell_type": "code",
   "execution_count": null,
   "id": "e521ee25",
   "metadata": {},
   "outputs": [],
   "source": []
  },
  {
   "cell_type": "code",
   "execution_count": null,
   "id": "7ef519ab",
   "metadata": {},
   "outputs": [],
   "source": []
  },
  {
   "cell_type": "markdown",
   "id": "143c39c4",
   "metadata": {},
   "source": [
    "## Decision Tree "
   ]
  }
 ],
 "metadata": {
  "kernelspec": {
   "display_name": "Python 3",
   "language": "python",
   "name": "python3"
  },
  "language_info": {
   "codemirror_mode": {
    "name": "ipython",
    "version": 3
   },
   "file_extension": ".py",
   "mimetype": "text/x-python",
   "name": "python",
   "nbconvert_exporter": "python",
   "pygments_lexer": "ipython3",
   "version": "3.8.8"
  }
 },
 "nbformat": 4,
 "nbformat_minor": 5
}
