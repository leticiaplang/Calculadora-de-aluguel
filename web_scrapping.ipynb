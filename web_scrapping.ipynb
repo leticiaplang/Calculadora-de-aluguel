{
 "cells": [
  {
   "cell_type": "markdown",
   "id": "13477d5e",
   "metadata": {},
   "source": [
    "# Dataset\n",
    "* Site Viva real imóveis\n",
    "* Local escolhido para busca de imóveis: Florianópolis, Santa Catarina, Brasil\n",
    "* Período analisado: janeiro 2021 \n",
    "* Cabe ressaltar que é período de verão, tendo preços inflados, tornando os dados enviesados\n",
    "\n",
    "## Variáveis coletadas\n",
    "* Produto: tipos de imóveis\n",
    "* Área: metragem quadrada do imóvel\n",
    "* Quartos: número total de quartos no imóvel\n",
    "* Banheiros: número total de banheiro no imóvel\n",
    "* Garagem: número total de vagas de garagem do imóvel\n",
    "* Adress: endereço, bairro e cidade em que o imóvel se encontra\n",
    "* Preço: valor em reais para locação cobrado mensal ou diariamente"
   ]
  },
  {
   "cell_type": "markdown",
   "id": "8867616a",
   "metadata": {},
   "source": [
    "## Preparando o ambiente"
   ]
  },
  {
   "cell_type": "code",
   "execution_count": null,
   "id": "760d23a7",
   "metadata": {},
   "outputs": [],
   "source": [
    "# importações\n",
    "from selenium import webdriver\n",
    "from webdriver_manager.chrome import ChromeDriverManager\n",
    "import requests\n",
    "from bs4 import BeautifulSoup\n",
    "from time import sleep\n",
    "from selenium import webdriver\n",
    "from selenium.webdriver.chrome.options import Options\n",
    "import pandas as pd"
   ]
  },
  {
   "cell_type": "code",
   "execution_count": null,
   "id": "8e9b34cc",
   "metadata": {},
   "outputs": [],
   "source": [
    "# Definindo estrutura do dataframe\n",
    "df_orig = pd.DataFrame(columns=['product', \n",
    "                               'area', \n",
    "                               'room', \n",
    "                               'bath', \n",
    "                               'garage', \n",
    "                               'adress', \n",
    "                               'price'])"
   ]
  },
  {
   "cell_type": "markdown",
   "id": "799896bb",
   "metadata": {},
   "source": [
    "## Tentativa de realizar com beatiful soup\n",
    "- Alteração diretamente pela URL -> sem sucesso"
   ]
  },
  {
   "cell_type": "code",
   "execution_count": null,
   "id": "88f3d76f",
   "metadata": {},
   "outputs": [],
   "source": [
    "page = 1\n",
    "\n",
    "while page <=3:\n",
    "    # Viva Real homepage\n",
    "    url = f'https://www.vivareal.com.br/aluguel/santa-catarina/florianopolis/?pagina={page}'\n",
    "    sleep(3)    \n",
    "    # Usaremos o request para realizar a requisição\n",
    "    vr_response = requests.get(url)\n",
    "    sleep(2)\n",
    "    # Conversão da resposta para HTML Usando Beautiful Soup\n",
    "    vr_soup = BeautifulSoup(vr_response.text, 'html.parser')\n",
    "    sleep(2)\n",
    "    prod_lists = [product.text.lower() for product in vr_soup.find_all('span', {'class':'property-card__title'})]\n",
    "    area_lists = [area.text.lower() for area in vr_soup.find_all('li', {'class':'property-card__detail-area'})]\n",
    "    room_lists = [room.text.lower() for room in vr_soup.find_all('li', {'class':'property-card__detail-room'})]\n",
    "    bath_lists = [bath.text.lower() for bath in vr_soup.find_all('li', {'class': 'property-card__detail-bathroom'})]\n",
    "    garage_lists = [garage.text.lower() for garage in vr_soup.find_all('li', {'class':'property-card__detail-garage'})]\n",
    "    adress_lists = [adress.text.lower() for adress in vr_soup.find_all('span', {'class':'property-card__address'})]\n",
    "    price_lists = [price.text.lower() for price in vr_soup.find_all('div', {'class':'property-card__price'})]\n",
    "    page += 1\n",
    "    df_orig = df_orig.append(pd.DataFrame({'product':prod_lists, \n",
    "                                           'area':area_lists, \n",
    "                                           'room':room_lists, \n",
    "                                           'bath':bath_lists, \n",
    "                                           'garage':garage_lists, \n",
    "                                           'adress':adress_lists, \n",
    "                                           'price':price_lists}))\n",
    "    print(page,url)"
   ]
  },
  {
   "cell_type": "markdown",
   "id": "164ff515",
   "metadata": {},
   "source": [
    "## Acessando o site"
   ]
  },
  {
   "cell_type": "code",
   "execution_count": null,
   "id": "8d4bc8ad",
   "metadata": {},
   "outputs": [],
   "source": [
    "# Preparado para acessar\n",
    "driver = webdriver.Chrome(ChromeDriverManager().install())\n",
    "sleep(3)"
   ]
  },
  {
   "cell_type": "code",
   "execution_count": null,
   "id": "99c59c88",
   "metadata": {},
   "outputs": [],
   "source": [
    "url = \"https://www.vivareal.com.br/aluguel/santa-catarina/florianopolis/\"\n",
    "driver.get(url)\n",
    "sleep(2)"
   ]
  },
  {
   "cell_type": "markdown",
   "id": "b168c983",
   "metadata": {},
   "source": [
    "## Tentativas de realizar com o selenium\n",
    "- Utilizar comando de click para troca de página -> sem sucesso"
   ]
  },
  {
   "cell_type": "code",
   "execution_count": null,
   "id": "c6adba87",
   "metadata": {},
   "outputs": [],
   "source": [
    "while len(df_orig) < 6800:\n",
    "    # Gerando os web elements\n",
    "    prod_lists = driver.find_elements_by_class_name('property-card__title')\n",
    "    area_lists = driver.find_elements_by_class_name('property-card__detail-area')\n",
    "    room_lists = driver.find_elements_by_class_name('property-card__detail-room')\n",
    "    bath_lists = driver.find_elements_by_class_name('property-card__detail-bathroom')\n",
    "    garage_lists = driver.find_elements_by_class_name('property-card__detail-garage')\n",
    "    adress_lists = driver.find_elements_by_class_name('property-card__address')\n",
    "    price_lists = driver.find_elements_by_class_name('property-card__price')\n",
    "    \n",
    "    # Gerando as listas de elementos textuais\n",
    "    prod = [n.text for n in prod_lists][:36]\n",
    "    area = [n.text for n in area_lists][:36]\n",
    "    room = [n.text for n in room_lists][:36]\n",
    "    bath = [n.text for n in bath_lists][:36]\n",
    "    garage = [n.text for n in garage_lists][:36]\n",
    "    adress = [n.text for n in adress_lists][:36]\n",
    "    price = [n.text for n in price_lists][:36]\n",
    "    \n",
    "    # Adicionando elementos ao DF\n",
    "    df_orig = df_orig.append(pd.DataFrame({'product':prod_lists, \n",
    "                                           'area':area_lists, \n",
    "                                           'room':room_lists, \n",
    "                                           'bath':bath_lists, \n",
    "                                           'garage':garage_lists, \n",
    "                                           'adress':adress_lists, \n",
    "                                           'price':price_lists}))\n",
    "    # Trocando paginação\n",
    "    bottom = driver.find_element_by_partial_link_text('#pagina=')\n",
    "    bottom.click()"
   ]
  },
  {
   "cell_type": "markdown",
   "id": "c08c7bf3",
   "metadata": {},
   "source": [
    "## Verificando dados & exportando o dataframe"
   ]
  },
  {
   "cell_type": "code",
   "execution_count": null,
   "id": "8248766d",
   "metadata": {},
   "outputs": [],
   "source": [
    "len(df_orig)"
   ]
  },
  {
   "cell_type": "code",
   "execution_count": null,
   "id": "1e4962cd",
   "metadata": {},
   "outputs": [],
   "source": [
    "# Exportando o df para máquina local\n",
    "df_orig.to_csv('df_org.csv', sep=';')"
   ]
  }
 ],
 "metadata": {
  "kernelspec": {
   "display_name": "Python 3",
   "language": "python",
   "name": "python3"
  },
  "language_info": {
   "codemirror_mode": {
    "name": "ipython",
    "version": 3
   },
   "file_extension": ".py",
   "mimetype": "text/x-python",
   "name": "python",
   "nbconvert_exporter": "python",
   "pygments_lexer": "ipython3",
   "version": "3.8.8"
  }
 },
 "nbformat": 4,
 "nbformat_minor": 5
}
