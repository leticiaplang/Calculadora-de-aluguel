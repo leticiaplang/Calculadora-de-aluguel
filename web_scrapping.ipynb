{
 "cells": [
  {
   "cell_type": "markdown",
   "id": "13477d5e",
   "metadata": {},
   "source": [
    "# Dataset\n",
    "* Website: [Viva real](https://www.vivareal.com.br/)\n",
    "* Local: Florianópolis, Santa Catarina, Brasil\n",
    "* Period: january 2021 (summer)\n",
    "* Important! The summer period has higher prices, resulting in inaccurate year's price predictions.\n",
    "\n",
    "## Variables\n",
    "* Product: all property types\n",
    "* Area: property size (m2)\n",
    "* Bedrooms: total number of bedrooms\n",
    "* Bathrooms: total number of bathrooms\n",
    "* Garage: total number of car spaces\n",
    "* Adress: adress, district and city\n",
    "* Price: daily or monthy rent"
   ]
  },
  {
   "cell_type": "markdown",
   "id": "8867616a",
   "metadata": {},
   "source": [
    "## Preparing the notebook"
   ]
  },
  {
   "cell_type": "code",
   "execution_count": 1,
   "id": "760d23a7",
   "metadata": {},
   "outputs": [],
   "source": [
    "# Imports\n",
    "from selenium import webdriver\n",
    "from webdriver_manager.chrome import ChromeDriverManager\n",
    "import requests\n",
    "from bs4 import BeautifulSoup\n",
    "from time import sleep\n",
    "from selenium import webdriver\n",
    "from selenium.webdriver.chrome.options import Options\n",
    "import pandas as pd"
   ]
  },
  {
   "cell_type": "markdown",
   "id": "9f3f40d0",
   "metadata": {},
   "source": [
    "## Web scraping | Selenium\n",
    "* Partially automatic, because the next page doesn't work with bottom, neither beautiful soap (URL)"
   ]
  },
  {
   "cell_type": "code",
   "execution_count": 2,
   "id": "8d4bc8ad",
   "metadata": {},
   "outputs": [
    {
     "name": "stderr",
     "output_type": "stream",
     "text": [
      "\n",
      "\n",
      "====== WebDriver manager ======\n",
      "Current google-chrome version is 97.0.4692\n",
      "Get LATEST chromedriver version for 97.0.4692 google-chrome\n",
      "Trying to download new driver from https://chromedriver.storage.googleapis.com/97.0.4692.71/chromedriver_mac64.zip\n",
      "Driver has been saved in cache [/Users/lpl/.wdm/drivers/chromedriver/mac64/97.0.4692.71]\n"
     ]
    }
   ],
   "source": [
    "# Defining the driver\n",
    "driver = webdriver.Chrome(ChromeDriverManager().install())\n",
    "sleep(3)"
   ]
  },
  {
   "cell_type": "code",
   "execution_count": 3,
   "id": "99c59c88",
   "metadata": {},
   "outputs": [],
   "source": [
    "# Acessing the site and getting the data\n",
    "url = \"https://www.vivareal.com.br/aluguel/santa-catarina/florianopolis/\"\n",
    "driver.get(url)\n",
    "sleep(2)"
   ]
  },
  {
   "cell_type": "code",
   "execution_count": 4,
   "id": "17bc8d6e",
   "metadata": {},
   "outputs": [],
   "source": [
    "# Creating the dataframe structure\n",
    "df = pd.DataFrame(columns=['product', \n",
    "                           'area', \n",
    "                           'room', \n",
    "                           'bath', \n",
    "                           'garage', \n",
    "                           'adress', \n",
    "                           'price'])"
   ]
  },
  {
   "cell_type": "code",
   "execution_count": 5,
   "id": "88f3d76f",
   "metadata": {},
   "outputs": [],
   "source": [
    "# Creating web elements\n",
    "prod_lists = driver.find_elements_by_class_name('property-card__title')\n",
    "area_lists = driver.find_elements_by_class_name('property-card__detail-area')\n",
    "room_lists = driver.find_elements_by_class_name('property-card__detail-room')\n",
    "bath_lists = driver.find_elements_by_class_name('property-card__detail-bathroom')\n",
    "garage_lists = driver.find_elements_by_class_name('property-card__detail-garage')\n",
    "adress_lists = driver.find_elements_by_class_name('property-card__address')\n",
    "price_lists = driver.find_elements_by_class_name('property-card__price')\n",
    "    \n",
    "# Getting the data from web elements\n",
    "prod = [n.text for n in prod_lists][:36]\n",
    "area = [n.text for n in area_lists][:36]\n",
    "room = [n.text for n in room_lists][:36]\n",
    "bath = [n.text for n in bath_lists][:36]\n",
    "garage = [n.text for n in garage_lists][:36]\n",
    "adress = [n.text for n in adress_lists][:36]\n",
    "price = [n.text for n in price_lists][:36]\n",
    "\n",
    "# Checking the len of each list\n",
    "#lista = [prod, area, room, bath, garage, adress, price]\n",
    "#for n in lista:\n",
    "#    print(len(n))\n",
    "    \n",
    "# Adding the data at DF\n",
    "df = df.append(pd.DataFrame({'product':prod, \n",
    "                             'area':area, \n",
    "                             'room':room, \n",
    "                             'bath':bath, \n",
    "                             'garage':garage, \n",
    "                             'adress':adress, \n",
    "                             'price':price}))"
   ]
  },
  {
   "cell_type": "markdown",
   "id": "c08c7bf3",
   "metadata": {},
   "source": [
    "## Exporting the dataframe"
   ]
  },
  {
   "cell_type": "code",
   "execution_count": 6,
   "id": "1e4962cd",
   "metadata": {},
   "outputs": [],
   "source": [
    "# Exporting the df to local machine as original df\n",
    "df.to_csv('df_org.csv', sep=';')"
   ]
  },
  {
   "cell_type": "code",
   "execution_count": 7,
   "id": "beae554d",
   "metadata": {},
   "outputs": [
    {
     "data": {
      "text/html": [
       "<div>\n",
       "<style scoped>\n",
       "    .dataframe tbody tr th:only-of-type {\n",
       "        vertical-align: middle;\n",
       "    }\n",
       "\n",
       "    .dataframe tbody tr th {\n",
       "        vertical-align: top;\n",
       "    }\n",
       "\n",
       "    .dataframe thead th {\n",
       "        text-align: right;\n",
       "    }\n",
       "</style>\n",
       "<table border=\"1\" class=\"dataframe\">\n",
       "  <thead>\n",
       "    <tr style=\"text-align: right;\">\n",
       "      <th></th>\n",
       "      <th>product</th>\n",
       "      <th>area</th>\n",
       "      <th>room</th>\n",
       "      <th>bath</th>\n",
       "      <th>garage</th>\n",
       "      <th>adress</th>\n",
       "      <th>price</th>\n",
       "    </tr>\n",
       "  </thead>\n",
       "  <tbody>\n",
       "    <tr>\n",
       "      <th>0</th>\n",
       "      <td>Apartamento com 2 Quartos para Aluguel, 124m²</td>\n",
       "      <td>124 m²</td>\n",
       "      <td>2 Quartos</td>\n",
       "      <td>3 Banheiros</td>\n",
       "      <td>2 Vagas</td>\n",
       "      <td>Jurerê Internacional, Florianópolis - SC</td>\n",
       "      <td>R$ 15.000 /mês</td>\n",
       "    </tr>\n",
       "    <tr>\n",
       "      <th>1</th>\n",
       "      <td>Casa com 3 Quartos para Aluguel, 180m²</td>\n",
       "      <td>124</td>\n",
       "      <td>3 Quartos</td>\n",
       "      <td>3 Banheiros</td>\n",
       "      <td>2 Vagas</td>\n",
       "      <td>Rua Liberato Carioni, 311 - Lagoa da Conceição...</td>\n",
       "      <td>R$ 15.000 /mês</td>\n",
       "    </tr>\n",
       "    <tr>\n",
       "      <th>2</th>\n",
       "      <td>Ponto comercial/Loja/Box para Aluguel, 80m²</td>\n",
       "      <td>180 m²</td>\n",
       "      <td>-- Quarto</td>\n",
       "      <td>1 Banheiro</td>\n",
       "      <td>-- Vaga</td>\n",
       "      <td>Rua Deputado Paulo Preis, 78 - Jurerê, Florian...</td>\n",
       "      <td>R$ 6.690 /mês</td>\n",
       "    </tr>\n",
       "    <tr>\n",
       "      <th>3</th>\n",
       "      <td>Apartamento com 3 Quartos para Aluguel, 120m²</td>\n",
       "      <td>180</td>\n",
       "      <td>3 Quartos</td>\n",
       "      <td>2 Banheiros</td>\n",
       "      <td>3 Vagas</td>\n",
       "      <td>Servidão Paulo Simão Martins - Campeche, Flori...</td>\n",
       "      <td>R$ 5.000 /mês</td>\n",
       "    </tr>\n",
       "    <tr>\n",
       "      <th>4</th>\n",
       "      <td>Apartamento com 3 Quartos para Aluguel, 300m²</td>\n",
       "      <td>80 m²</td>\n",
       "      <td>3 Quartos</td>\n",
       "      <td>5 Banheiros</td>\n",
       "      <td>2 Vagas</td>\n",
       "      <td>Avenida Governador Irineu Bornhausen, 3690 - B...</td>\n",
       "      <td>R$ 9.950 /mês</td>\n",
       "    </tr>\n",
       "  </tbody>\n",
       "</table>\n",
       "</div>"
      ],
      "text/plain": [
       "                                         product    area       room  \\\n",
       "0  Apartamento com 2 Quartos para Aluguel, 124m²  124 m²  2 Quartos   \n",
       "1         Casa com 3 Quartos para Aluguel, 180m²     124  3 Quartos   \n",
       "2    Ponto comercial/Loja/Box para Aluguel, 80m²  180 m²  -- Quarto   \n",
       "3  Apartamento com 3 Quartos para Aluguel, 120m²     180  3 Quartos   \n",
       "4  Apartamento com 3 Quartos para Aluguel, 300m²   80 m²  3 Quartos   \n",
       "\n",
       "          bath   garage                                             adress  \\\n",
       "0  3 Banheiros  2 Vagas           Jurerê Internacional, Florianópolis - SC   \n",
       "1  3 Banheiros  2 Vagas  Rua Liberato Carioni, 311 - Lagoa da Conceição...   \n",
       "2   1 Banheiro  -- Vaga  Rua Deputado Paulo Preis, 78 - Jurerê, Florian...   \n",
       "3  2 Banheiros  3 Vagas  Servidão Paulo Simão Martins - Campeche, Flori...   \n",
       "4  5 Banheiros  2 Vagas  Avenida Governador Irineu Bornhausen, 3690 - B...   \n",
       "\n",
       "            price  \n",
       "0  R$ 15.000 /mês  \n",
       "1  R$ 15.000 /mês  \n",
       "2   R$ 6.690 /mês  \n",
       "3   R$ 5.000 /mês  \n",
       "4   R$ 9.950 /mês  "
      ]
     },
     "execution_count": 7,
     "metadata": {},
     "output_type": "execute_result"
    }
   ],
   "source": [
    "df.head()"
   ]
  }
 ],
 "metadata": {
  "kernelspec": {
   "display_name": "Python 3",
   "language": "python",
   "name": "python3"
  },
  "language_info": {
   "codemirror_mode": {
    "name": "ipython",
    "version": 3
   },
   "file_extension": ".py",
   "mimetype": "text/x-python",
   "name": "python",
   "nbconvert_exporter": "python",
   "pygments_lexer": "ipython3",
   "version": "3.8.8"
  }
 },
 "nbformat": 4,
 "nbformat_minor": 5
}
