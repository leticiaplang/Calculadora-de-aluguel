{
 "cells": [
  {
   "cell_type": "markdown",
   "id": "13477d5e",
   "metadata": {},
   "source": [
    "# Dataset\n",
    "* Website: [Viva real](https://www.vivareal.com.br/)\n",
    "* Local: Florianópolis, Santa Catarina, Brasil\n",
    "* Period: january 2021 (summer)\n",
    "* Important! The summer period has higher pricese very high, making inaccurate the year's price predictions.\n",
    "\n",
    "## Variables\n",
    "* Product: all property types\n",
    "* Area: property size (m2)\n",
    "* Bedrooms: total number of bedrooms\n",
    "* Bathrooms: total number of bathrooms\n",
    "* Garage: total number of car spaces\n",
    "* Adress: adress, district and city\n",
    "* Price: daily or monthy rent"
   ]
  },
  {
   "cell_type": "markdown",
   "id": "8867616a",
   "metadata": {},
   "source": [
    "## Preparing the notebook"
   ]
  },
  {
   "cell_type": "code",
   "execution_count": null,
   "id": "760d23a7",
   "metadata": {},
   "outputs": [],
   "source": [
    "# imports\n",
    "from selenium import webdriver\n",
    "from webdriver_manager.chrome import ChromeDriverManager\n",
    "import requests\n",
    "from bs4 import BeautifulSoup\n",
    "from time import sleep\n",
    "from selenium import webdriver\n",
    "from selenium.webdriver.chrome.options import Options\n",
    "import pandas as pd"
   ]
  },
  {
   "cell_type": "markdown",
   "id": "aa833d2f",
   "metadata": {},
   "source": [
    "## Web scraping | Selenium\n",
    "* Partially automatic, because the next page doesn't work with bottom, neither beautiful soap (change URL)"
   ]
  },
  {
   "cell_type": "code",
   "execution_count": null,
   "id": "8d4bc8ad",
   "metadata": {},
   "outputs": [],
   "source": [
    "# Defining the driver\n",
    "driver = webdriver.Chrome(ChromeDriverManager().install())\n",
    "sleep(3)"
   ]
  },
  {
   "cell_type": "code",
   "execution_count": null,
   "id": "99c59c88",
   "metadata": {},
   "outputs": [],
   "source": [
    "# Acessing the site and getting the data\n",
    "url = \"https://www.vivareal.com.br/aluguel/santa-catarina/florianopolis/\"\n",
    "driver.get(url)\n",
    "sleep(2)"
   ]
  },
  {
   "cell_type": "code",
   "execution_count": 1,
   "id": "bf89deb8",
   "metadata": {
    "collapsed": true
   },
   "outputs": [
    {
     "ename": "NameError",
     "evalue": "name 'pd' is not defined",
     "output_type": "error",
     "traceback": [
      "\u001b[0;31m---------------------------------------------------------------------------\u001b[0m",
      "\u001b[0;31mNameError\u001b[0m                                 Traceback (most recent call last)",
      "\u001b[0;32m<ipython-input-1-fd5c45f13df7>\u001b[0m in \u001b[0;36m<module>\u001b[0;34m\u001b[0m\n\u001b[1;32m      1\u001b[0m \u001b[0;31m# Creatinh the dataframe structure\u001b[0m\u001b[0;34m\u001b[0m\u001b[0;34m\u001b[0m\u001b[0;34m\u001b[0m\u001b[0m\n\u001b[0;32m----> 2\u001b[0;31m df_orig = pd.DataFrame(columns=['product', \n\u001b[0m\u001b[1;32m      3\u001b[0m                                \u001b[0;34m'area'\u001b[0m\u001b[0;34m,\u001b[0m\u001b[0;34m\u001b[0m\u001b[0;34m\u001b[0m\u001b[0m\n\u001b[1;32m      4\u001b[0m                                \u001b[0;34m'room'\u001b[0m\u001b[0;34m,\u001b[0m\u001b[0;34m\u001b[0m\u001b[0;34m\u001b[0m\u001b[0m\n\u001b[1;32m      5\u001b[0m                                \u001b[0;34m'bath'\u001b[0m\u001b[0;34m,\u001b[0m\u001b[0;34m\u001b[0m\u001b[0;34m\u001b[0m\u001b[0m\n",
      "\u001b[0;31mNameError\u001b[0m: name 'pd' is not defined"
     ]
    }
   ],
   "source": [
    "# Creating the dataframe structure\n",
    "df = pd.DataFrame(columns=['product', \n",
    "                           'area', \n",
    "                           'room', \n",
    "                           'bath', \n",
    "                           'garage', \n",
    "                           'adress', \n",
    "                           'price'])"
   ]
  },
  {
   "cell_type": "code",
   "execution_count": null,
   "id": "88f3d76f",
   "metadata": {},
   "outputs": [],
   "source": [
    "# Creating web elements\n",
    "prod_lists = driver.find_elements_by_class_name('property-card__title')\n",
    "area_lists = driver.find_elements_by_class_name('property-card__detail-area')\n",
    "room_lists = driver.find_elements_by_class_name('property-card__detail-room')\n",
    "bath_lists = driver.find_elements_by_class_name('property-card__detail-bathroom')\n",
    "garage_lists = driver.find_elements_by_class_name('property-card__detail-garage')\n",
    "adress_lists = driver.find_elements_by_class_name('property-card__address')\n",
    "price_lists = driver.find_elements_by_class_name('property-card__price')\n",
    "    \n",
    "# Getting the data from web elements\n",
    "prod = [n.text for n in prod_lists][:36]\n",
    "area = [n.text for n in area_lists][:36]\n",
    "room = [n.text for n in room_lists][:36]\n",
    "bath = [n.text for n in bath_lists][:36]\n",
    "garage = [n.text for n in garage_lists][:36]\n",
    "adress = [n.text for n in adress_lists][:36]\n",
    "price = [n.text for n in price_lists][:36]\n",
    "\n",
    "# Checking the len of each list\n",
    "#lista = [prod, area, room, bath, garage, adress, price]\n",
    "#for n in lista:\n",
    "#    print(len(n))\n",
    "    \n",
    "# Adding the data at DF\n",
    "df = df.append(pd.DataFrame({'product':prod, \n",
    "                             'area':area, \n",
    "                             'room':room, \n",
    "                             'bath':bath, \n",
    "                             'garage':garage, \n",
    "                             'adress':adress, \n",
    "                             'price':price}))"
   ]
  },
  {
   "cell_type": "markdown",
   "id": "c08c7bf3",
   "metadata": {},
   "source": [
    "## Verificando dados & exportando o dataframe"
   ]
  },
  {
   "cell_type": "code",
   "execution_count": null,
   "id": "1e4962cd",
   "metadata": {},
   "outputs": [],
   "source": [
    "# Exporting the df to local machine as original df\n",
    "df.to_csv('df_org.csv', sep=';')"
   ]
  }
 ],
 "metadata": {
  "kernelspec": {
   "display_name": "Python 3",
   "language": "python",
   "name": "python3"
  },
  "language_info": {
   "codemirror_mode": {
    "name": "ipython",
    "version": 3
   },
   "file_extension": ".py",
   "mimetype": "text/x-python",
   "name": "python",
   "nbconvert_exporter": "python",
   "pygments_lexer": "ipython3",
   "version": "3.8.8"
  }
 },
 "nbformat": 4,
 "nbformat_minor": 5
}
